{
 "metadata": {
  "language_info": {
   "codemirror_mode": {
    "name": "ipython",
    "version": 3
   },
   "file_extension": ".py",
   "mimetype": "text/x-python",
   "name": "python",
   "nbconvert_exporter": "python",
   "pygments_lexer": "ipython3",
   "version": "3.7.3-final"
  },
  "orig_nbformat": 2,
  "kernelspec": {
   "name": "Python 3.7.3 64-bit",
   "display_name": "Python 3.7.3 64-bit",
   "metadata": {
    "interpreter": {
     "hash": "31f2aee4e71d21fbe5cf8b01ff0e069b9275f58929596ceb00d14d90e3e16cd6"
    }
   }
  }
 },
 "nbformat": 4,
 "nbformat_minor": 2,
 "cells": [
  {
   "cell_type": "code",
   "execution_count": 1,
   "metadata": {},
   "outputs": [],
   "source": [
    "import pandas as pd\n",
    "import numpy as np\n",
    "import matplotlib.pyplot as plt\n",
    "import itertools"
   ]
  },
  {
   "source": [
    "# Data Preprocessing"
   ],
   "cell_type": "markdown",
   "metadata": {}
  },
  {
   "cell_type": "code",
   "execution_count": 2,
   "metadata": {},
   "outputs": [
    {
     "output_type": "stream",
     "name": "stdout",
     "text": [
      "(16281, 15)\n"
     ]
    },
    {
     "output_type": "execute_result",
     "data": {
      "text/plain": [
       "  age  workclass  fnlwgt     education education-num      marital-status  \\\n",
       "0  25    Private  226802          11th             7       Never-married   \n",
       "1  38    Private   89814       HS-grad             9  Married-civ-spouse   \n",
       "2  28  Local-gov  336951    Assoc-acdm            12  Married-civ-spouse   \n",
       "3  44    Private  160323  Some-college            10  Married-civ-spouse   \n",
       "4  18          ?  103497  Some-college            10       Never-married   \n",
       "\n",
       "          occupation relationship   race     sex capital-gain capital-loss  \\\n",
       "0  Machine-op-inspct    Own-child  Black    Male            0          0.1   \n",
       "1    Farming-fishing      Husband  White    Male            0            0   \n",
       "2    Protective-serv      Husband  White    Male            0            0   \n",
       "3  Machine-op-inspct      Husband  Black    Male         7688            0   \n",
       "4                  ?    Own-child  White  Female            0            0   \n",
       "\n",
       "  hours-per-week native-country  income  \n",
       "0             40  United-States  <=50K.  \n",
       "1             50  United-States  <=50K.  \n",
       "2             40  United-States   >50K.  \n",
       "3             40  United-States   >50K.  \n",
       "4             30  United-States  <=50K.  "
      ],
      "text/html": "<div>\n<style scoped>\n    .dataframe tbody tr th:only-of-type {\n        vertical-align: middle;\n    }\n\n    .dataframe tbody tr th {\n        vertical-align: top;\n    }\n\n    .dataframe thead th {\n        text-align: right;\n    }\n</style>\n<table border=\"1\" class=\"dataframe\">\n  <thead>\n    <tr style=\"text-align: right;\">\n      <th></th>\n      <th>age</th>\n      <th>workclass</th>\n      <th>fnlwgt</th>\n      <th>education</th>\n      <th>education-num</th>\n      <th>marital-status</th>\n      <th>occupation</th>\n      <th>relationship</th>\n      <th>race</th>\n      <th>sex</th>\n      <th>capital-gain</th>\n      <th>capital-loss</th>\n      <th>hours-per-week</th>\n      <th>native-country</th>\n      <th>income</th>\n    </tr>\n  </thead>\n  <tbody>\n    <tr>\n      <th>0</th>\n      <td>25</td>\n      <td>Private</td>\n      <td>226802</td>\n      <td>11th</td>\n      <td>7</td>\n      <td>Never-married</td>\n      <td>Machine-op-inspct</td>\n      <td>Own-child</td>\n      <td>Black</td>\n      <td>Male</td>\n      <td>0</td>\n      <td>0.1</td>\n      <td>40</td>\n      <td>United-States</td>\n      <td>&lt;=50K.</td>\n    </tr>\n    <tr>\n      <th>1</th>\n      <td>38</td>\n      <td>Private</td>\n      <td>89814</td>\n      <td>HS-grad</td>\n      <td>9</td>\n      <td>Married-civ-spouse</td>\n      <td>Farming-fishing</td>\n      <td>Husband</td>\n      <td>White</td>\n      <td>Male</td>\n      <td>0</td>\n      <td>0</td>\n      <td>50</td>\n      <td>United-States</td>\n      <td>&lt;=50K.</td>\n    </tr>\n    <tr>\n      <th>2</th>\n      <td>28</td>\n      <td>Local-gov</td>\n      <td>336951</td>\n      <td>Assoc-acdm</td>\n      <td>12</td>\n      <td>Married-civ-spouse</td>\n      <td>Protective-serv</td>\n      <td>Husband</td>\n      <td>White</td>\n      <td>Male</td>\n      <td>0</td>\n      <td>0</td>\n      <td>40</td>\n      <td>United-States</td>\n      <td>&gt;50K.</td>\n    </tr>\n    <tr>\n      <th>3</th>\n      <td>44</td>\n      <td>Private</td>\n      <td>160323</td>\n      <td>Some-college</td>\n      <td>10</td>\n      <td>Married-civ-spouse</td>\n      <td>Machine-op-inspct</td>\n      <td>Husband</td>\n      <td>Black</td>\n      <td>Male</td>\n      <td>7688</td>\n      <td>0</td>\n      <td>40</td>\n      <td>United-States</td>\n      <td>&gt;50K.</td>\n    </tr>\n    <tr>\n      <th>4</th>\n      <td>18</td>\n      <td>?</td>\n      <td>103497</td>\n      <td>Some-college</td>\n      <td>10</td>\n      <td>Never-married</td>\n      <td>?</td>\n      <td>Own-child</td>\n      <td>White</td>\n      <td>Female</td>\n      <td>0</td>\n      <td>0</td>\n      <td>30</td>\n      <td>United-States</td>\n      <td>&lt;=50K.</td>\n    </tr>\n  </tbody>\n</table>\n</div>"
     },
     "metadata": {},
     "execution_count": 2
    }
   ],
   "source": [
    "census=pd.read_csv('/Users/livi/Documents/2020 Fall/data mining/Project 1/adult.test',delimiter=', ', header=1)\n",
    "n='age,workclass,fnlwgt,education,education-num,marital-status,occupation,relationship,race,sex,capital-gain,capital-loss,hours-per-week,native-country,income'.split(',')\n",
    "box=census.columns\n",
    "census.columns=n\n",
    "census.loc[-1]=box\n",
    "census.index=census.index+1\n",
    "census=census.sort_index()\n",
    "print(census.shape)\n",
    "census.head()\n",
    "#census.head().to_csv('Rawcensus.csv') "
   ]
  },
  {
   "cell_type": "code",
   "execution_count": 3,
   "metadata": {},
   "outputs": [
    {
     "output_type": "stream",
     "name": "stdout",
     "text": [
      "age: 74\nworkclass: 9\nfnlwgt: 12787\neducation: 16\neducation-num: 17\nmarital-status: 7\noccupation: 15\nrelationship: 6\nrace: 5\nsex: 2\ncapital-gain: 114\ncapital-loss: 83\nhours-per-week: 90\nnative-country: 41\nincome: 2\n"
     ]
    }
   ],
   "source": [
    "for col in list(census.columns):\n",
    "    print(col+':',len(census[col].unique()))"
   ]
  },
  {
   "cell_type": "code",
   "execution_count": 4,
   "metadata": {},
   "outputs": [
    {
     "output_type": "execute_result",
     "data": {
      "text/plain": [
       "\"numeric_columns=['age','fnlwgt','education-num','capital-gain','capital-loss','hours-per-week']\\nf = plt.figure(figsize=(15,8))\\nfor i,col in enumerate(numeric_columns):\\n    ax=plt.subplot(2, 3,i+1)\\n    ax.hist(census[col].astype(float), bins=10)\\n    ax.set_xlabel(col)\\n    ax.set_ylabel('value')\\n#plt.savefig('distribution of numeric values.jpg')\\nplt.show()\""
      ]
     },
     "metadata": {},
     "execution_count": 4
    }
   ],
   "source": [
    "'''numeric_columns=['age','fnlwgt','education-num','capital-gain','capital-loss','hours-per-week']\n",
    "f = plt.figure(figsize=(15,8))\n",
    "for i,col in enumerate(numeric_columns):\n",
    "    ax=plt.subplot(2, 3,i+1)\n",
    "    ax.hist(census[col].astype(float), bins=10)\n",
    "    ax.set_xlabel(col)\n",
    "    ax.set_ylabel('value')\n",
    "#plt.savefig('distribution of numeric values.jpg')\n",
    "plt.show()'''"
   ]
  },
  {
   "cell_type": "code",
   "execution_count": 5,
   "metadata": {},
   "outputs": [],
   "source": [
    "def updateTable(LS,table,column,NV):\n",
    "    new=[NV[0] if i in range(LS[0][0],LS[0][1]) else NV[1] if i in range(LS[1][0],LS[1][1]) else NV[2] for i in census[column].astype(int)]\n",
    "    table[column]=new\n",
    "    return table"
   ]
  },
  {
   "cell_type": "code",
   "execution_count": 6,
   "metadata": {},
   "outputs": [],
   "source": [
    "LS=[(16,31),(31,51),(51)]\n",
    "NV=['young_adult','adult','senior_adult']\n",
    "census=updateTable(LS,census,'age',NV)"
   ]
  },
  {
   "cell_type": "code",
   "execution_count": 7,
   "metadata": {},
   "outputs": [],
   "source": [
    "LS=[(13492, 139364), (139364, 211208), (211208, 1490400)]\n",
    "NV=['A','B','C']\n",
    "census=updateTable(LS,census,'fnlwgt',NV)"
   ]
  },
  {
   "cell_type": "code",
   "execution_count": 8,
   "metadata": {},
   "outputs": [],
   "source": [
    "LS=[(1, 9), (9, 10), (10, 20)]\n",
    "NV=['Basic','Medium','High']\n",
    "census=updateTable(LS,census,'education-num',NV)"
   ]
  },
  {
   "cell_type": "code",
   "execution_count": 9,
   "metadata": {},
   "outputs": [],
   "source": [
    "NV=['capital_gain_0','capital_gain_1']\n",
    "new_capital_gain=[NV[0] if i!=0 else NV[1] for i in census['capital-gain'].astype(float)]\n",
    "census['capital-gain']=new_capital_gain"
   ]
  },
  {
   "cell_type": "code",
   "execution_count": 10,
   "metadata": {},
   "outputs": [],
   "source": [
    "NV=['capital_loss_0','capital_loss_1']\n",
    "new_capital_loss=[NV[0] if i!=0 else NV[1] for i in census['capital-loss'].astype(float)]\n",
    "census['capital-loss']=new_capital_loss"
   ]
  },
  {
   "cell_type": "code",
   "execution_count": 11,
   "metadata": {},
   "outputs": [],
   "source": [
    "NV=['below 40','40','above 40']\n",
    "new_hours=[NV[0] if i<40 else NV[1] if i==40 else NV[2] for i in census['hours-per-week'].astype(float)]\n",
    "census['hours-per-week']=new_hours"
   ]
  },
  {
   "cell_type": "code",
   "execution_count": 12,
   "metadata": {},
   "outputs": [],
   "source": [
    "census.head()\n",
    "#census.head().to_csv('Cleanedcensus.csv')\n",
    "census.head().to_clipboard()"
   ]
  },
  {
   "cell_type": "code",
   "execution_count": 13,
   "metadata": {},
   "outputs": [
    {
     "output_type": "stream",
     "name": "stdout",
     "text": [
      "age: 3\nworkclass: 9\nfnlwgt: 3\neducation: 16\neducation-num: 3\nmarital-status: 7\noccupation: 15\nrelationship: 6\nrace: 5\nsex: 2\ncapital-gain: 2\ncapital-loss: 2\nhours-per-week: 3\nnative-country: 41\nincome: 2\n"
     ]
    }
   ],
   "source": [
    "for col in list(census.columns):\n",
    "    print(col+':',len(census[col].unique()))"
   ]
  },
  {
   "cell_type": "code",
   "execution_count": 14,
   "metadata": {},
   "outputs": [
    {
     "output_type": "execute_result",
     "data": {
      "text/plain": [
       "\"numeric_columns=['age','fnlwgt','education-num','capital-gain','capital-loss','hours-per-week']\\nf = plt.figure(figsize=(17,8))\\nfor i,col in enumerate(numeric_columns):\\n    ax=plt.subplot(2, 3,i+1)\\n    ax.hist(census[col], bins=10)\\n    ax.set_xlabel(col)\\n    ax.set_ylabel('value')\\n#plt.savefig('distribution of cat values.jpg')\\nplt.show()\""
      ]
     },
     "metadata": {},
     "execution_count": 14
    }
   ],
   "source": [
    "'''numeric_columns=['age','fnlwgt','education-num','capital-gain','capital-loss','hours-per-week']\n",
    "f = plt.figure(figsize=(17,8))\n",
    "for i,col in enumerate(numeric_columns):\n",
    "    ax=plt.subplot(2, 3,i+1)\n",
    "    ax.hist(census[col], bins=10)\n",
    "    ax.set_xlabel(col)\n",
    "    ax.set_ylabel('value')\n",
    "#plt.savefig('distribution of cat values.jpg')\n",
    "plt.show()'''"
   ]
  },
  {
   "cell_type": "code",
   "execution_count": 15,
   "metadata": {
    "tags": []
   },
   "outputs": [
    {
     "output_type": "stream",
     "name": "stdout",
     "text": [
      "5427\n[0, 5427, 10854]\n[5427, 10854, 16280]\n[(0, 5427), (5427, 10854), (10854, 16280)]\n"
     ]
    }
   ],
   "source": [
    "#break everything to n parts\n",
    "n=3\n",
    "num_elements=round(len(census)/n)\n",
    "print(num_elements)\n",
    "elementsindex_range=[i for i in range(0,len(census),num_elements)]\n",
    "print(elementsindex_range)\n",
    "elementsindex_range1=elementsindex_range[1:]\n",
    "elementsindex_range1.append(len(census)-1)\n",
    "print(elementsindex_range1)\n",
    "print([i for i in zip(elementsindex_range,elementsindex_range1)])\n"
   ]
  },
  {
   "cell_type": "code",
   "execution_count": 16,
   "metadata": {},
   "outputs": [
    {
     "output_type": "execute_result",
     "data": {
      "text/plain": [
       "\"#test with different columns\\nsortedage=sorted(census['hours-per-week'].astype(int))\\nprint([(sortedage[i],sortedage[k]) for i,k in zip(elementsindex_range,elementsindex_range1)])\""
      ]
     },
     "metadata": {},
     "execution_count": 16
    }
   ],
   "source": [
    "'''#test with different columns\n",
    "sortedage=sorted(census['hours-per-week'].astype(int))\n",
    "print([(sortedage[i],sortedage[k]) for i,k in zip(elementsindex_range,elementsindex_range1)])'''\n"
   ]
  },
  {
   "cell_type": "code",
   "execution_count": 17,
   "metadata": {},
   "outputs": [
    {
     "output_type": "stream",
     "name": "stdout",
     "text": [
      "<class 'pandas.core.frame.DataFrame'>\nInt64Index: 16281 entries, 0 to 16280\nData columns (total 15 columns):\n #   Column          Non-Null Count  Dtype \n---  ------          --------------  ----- \n 0   age             16281 non-null  object\n 1   workclass       16281 non-null  object\n 2   fnlwgt          16281 non-null  object\n 3   education       16281 non-null  object\n 4   education-num   16281 non-null  object\n 5   marital-status  16281 non-null  object\n 6   occupation      16281 non-null  object\n 7   relationship    16281 non-null  object\n 8   race            16281 non-null  object\n 9   sex             16281 non-null  object\n 10  capital-gain    16281 non-null  object\n 11  capital-loss    16281 non-null  object\n 12  hours-per-week  16281 non-null  object\n 13  native-country  16281 non-null  object\n 14  income          16281 non-null  object\ndtypes: object(15)\nmemory usage: 2.0+ MB\n"
     ]
    }
   ],
   "source": [
    "#we need str data, otherwise there will be overlap. Numeric data need to be change to str data.\n",
    "census.info()"
   ]
  },
  {
   "source": [
    "# Use the Example data and Mine data"
   ],
   "cell_type": "markdown",
   "metadata": {}
  },
  {
   "cell_type": "code",
   "execution_count": 18,
   "metadata": {},
   "outputs": [
    {
     "output_type": "execute_result",
     "data": {
      "text/plain": [
       "\" Example_data=Example_data.tolist()\\nwith open('Example_data.txt','w') as f:\\n   for i in Example_data:\\n       f.write(','.join(i))\\n       f.write('\\n')\""
      ]
     },
     "metadata": {},
     "execution_count": 18
    }
   ],
   "source": [
    " Example_data=np.array(census.astype(str))\n",
    "''' Example_data=Example_data.tolist()\n",
    "with open('Example_data.txt','w') as f:\n",
    "    for i in Example_data:\n",
    "        f.write(','.join(i))\n",
    "        f.write('\\n')'''"
   ]
  },
  {
   "cell_type": "code",
   "execution_count": 19,
   "metadata": {},
   "outputs": [],
   "source": [
    "import MineApriori"
   ]
  },
  {
   "cell_type": "code",
   "execution_count": null,
   "metadata": {},
   "outputs": [],
   "source": []
  }
 ]
}