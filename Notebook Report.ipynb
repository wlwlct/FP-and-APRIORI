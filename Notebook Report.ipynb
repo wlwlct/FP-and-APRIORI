{
 "metadata": {
  "language_info": {
   "codemirror_mode": {
    "name": "ipython",
    "version": 3
   },
   "file_extension": ".py",
   "mimetype": "text/x-python",
   "name": "python",
   "nbconvert_exporter": "python",
   "pygments_lexer": "ipython3",
   "version": "3.7.3-final"
  },
  "orig_nbformat": 2,
  "kernelspec": {
   "name": "Python 3.7.3 64-bit",
   "display_name": "Python 3.7.3 64-bit",
   "metadata": {
    "interpreter": {
     "hash": "31f2aee4e71d21fbe5cf8b01ff0e069b9275f58929596ceb00d14d90e3e16cd6"
    }
   }
  }
 },
 "nbformat": 4,
 "nbformat_minor": 2,
 "cells": [
  {
   "cell_type": "code",
   "execution_count": 1,
   "metadata": {},
   "outputs": [],
   "source": [
    "import pandas as pd\n",
    "import numpy as np\n",
    "import matplotlib.pyplot as plt\n",
    "import itertools"
   ]
  },
  {
   "source": [
    "# Data Preprocessing"
   ],
   "cell_type": "markdown",
   "metadata": {}
  },
  {
   "cell_type": "code",
   "execution_count": 2,
   "metadata": {},
   "outputs": [
    {
     "output_type": "stream",
     "name": "stdout",
     "text": [
      "(16281, 15)\n"
     ]
    },
    {
     "output_type": "execute_result",
     "data": {
      "text/plain": [
       "  age  workclass  fnlwgt     education education-num      marital-status  \\\n",
       "0  25    Private  226802          11th             7       Never-married   \n",
       "1  38    Private   89814       HS-grad             9  Married-civ-spouse   \n",
       "2  28  Local-gov  336951    Assoc-acdm            12  Married-civ-spouse   \n",
       "3  44    Private  160323  Some-college            10  Married-civ-spouse   \n",
       "4  18          ?  103497  Some-college            10       Never-married   \n",
       "\n",
       "          occupation relationship   race     sex capital-gain capital-loss  \\\n",
       "0  Machine-op-inspct    Own-child  Black    Male            0          0.1   \n",
       "1    Farming-fishing      Husband  White    Male            0            0   \n",
       "2    Protective-serv      Husband  White    Male            0            0   \n",
       "3  Machine-op-inspct      Husband  Black    Male         7688            0   \n",
       "4                  ?    Own-child  White  Female            0            0   \n",
       "\n",
       "  hours-per-week native-country  income  \n",
       "0             40  United-States  <=50K.  \n",
       "1             50  United-States  <=50K.  \n",
       "2             40  United-States   >50K.  \n",
       "3             40  United-States   >50K.  \n",
       "4             30  United-States  <=50K.  "
      ],
      "text/html": "<div>\n<style scoped>\n    .dataframe tbody tr th:only-of-type {\n        vertical-align: middle;\n    }\n\n    .dataframe tbody tr th {\n        vertical-align: top;\n    }\n\n    .dataframe thead th {\n        text-align: right;\n    }\n</style>\n<table border=\"1\" class=\"dataframe\">\n  <thead>\n    <tr style=\"text-align: right;\">\n      <th></th>\n      <th>age</th>\n      <th>workclass</th>\n      <th>fnlwgt</th>\n      <th>education</th>\n      <th>education-num</th>\n      <th>marital-status</th>\n      <th>occupation</th>\n      <th>relationship</th>\n      <th>race</th>\n      <th>sex</th>\n      <th>capital-gain</th>\n      <th>capital-loss</th>\n      <th>hours-per-week</th>\n      <th>native-country</th>\n      <th>income</th>\n    </tr>\n  </thead>\n  <tbody>\n    <tr>\n      <th>0</th>\n      <td>25</td>\n      <td>Private</td>\n      <td>226802</td>\n      <td>11th</td>\n      <td>7</td>\n      <td>Never-married</td>\n      <td>Machine-op-inspct</td>\n      <td>Own-child</td>\n      <td>Black</td>\n      <td>Male</td>\n      <td>0</td>\n      <td>0.1</td>\n      <td>40</td>\n      <td>United-States</td>\n      <td>&lt;=50K.</td>\n    </tr>\n    <tr>\n      <th>1</th>\n      <td>38</td>\n      <td>Private</td>\n      <td>89814</td>\n      <td>HS-grad</td>\n      <td>9</td>\n      <td>Married-civ-spouse</td>\n      <td>Farming-fishing</td>\n      <td>Husband</td>\n      <td>White</td>\n      <td>Male</td>\n      <td>0</td>\n      <td>0</td>\n      <td>50</td>\n      <td>United-States</td>\n      <td>&lt;=50K.</td>\n    </tr>\n    <tr>\n      <th>2</th>\n      <td>28</td>\n      <td>Local-gov</td>\n      <td>336951</td>\n      <td>Assoc-acdm</td>\n      <td>12</td>\n      <td>Married-civ-spouse</td>\n      <td>Protective-serv</td>\n      <td>Husband</td>\n      <td>White</td>\n      <td>Male</td>\n      <td>0</td>\n      <td>0</td>\n      <td>40</td>\n      <td>United-States</td>\n      <td>&gt;50K.</td>\n    </tr>\n    <tr>\n      <th>3</th>\n      <td>44</td>\n      <td>Private</td>\n      <td>160323</td>\n      <td>Some-college</td>\n      <td>10</td>\n      <td>Married-civ-spouse</td>\n      <td>Machine-op-inspct</td>\n      <td>Husband</td>\n      <td>Black</td>\n      <td>Male</td>\n      <td>7688</td>\n      <td>0</td>\n      <td>40</td>\n      <td>United-States</td>\n      <td>&gt;50K.</td>\n    </tr>\n    <tr>\n      <th>4</th>\n      <td>18</td>\n      <td>?</td>\n      <td>103497</td>\n      <td>Some-college</td>\n      <td>10</td>\n      <td>Never-married</td>\n      <td>?</td>\n      <td>Own-child</td>\n      <td>White</td>\n      <td>Female</td>\n      <td>0</td>\n      <td>0</td>\n      <td>30</td>\n      <td>United-States</td>\n      <td>&lt;=50K.</td>\n    </tr>\n  </tbody>\n</table>\n</div>"
     },
     "metadata": {},
     "execution_count": 2
    }
   ],
   "source": [
    "census=pd.read_csv('/Users/livi/Documents/2020 Fall/data mining/Project 1/adult.test',delimiter=', ', header=1)\n",
    "n='age,workclass,fnlwgt,education,education-num,marital-status,occupation,relationship,race,sex,capital-gain,capital-loss,hours-per-week,native-country,income'.split(',')\n",
    "box=census.columns\n",
    "census.columns=n\n",
    "census.loc[-1]=box\n",
    "census.index=census.index+1\n",
    "census=census.sort_index()\n",
    "print(census.shape)\n",
    "census.head()\n",
    "#census.head().to_csv('Rawcensus.csv') "
   ]
  },
  {
   "cell_type": "code",
   "execution_count": 3,
   "metadata": {},
   "outputs": [
    {
     "output_type": "stream",
     "name": "stdout",
     "text": [
      "age: 74\nworkclass: 9\nfnlwgt: 12787\neducation: 16\neducation-num: 17\nmarital-status: 7\noccupation: 15\nrelationship: 6\nrace: 5\nsex: 2\ncapital-gain: 114\ncapital-loss: 83\nhours-per-week: 90\nnative-country: 41\nincome: 2\n"
     ]
    }
   ],
   "source": [
    "for col in list(census.columns):\n",
    "    print(col+':',len(census[col].unique()))"
   ]
  },
  {
   "cell_type": "code",
   "execution_count": 4,
   "metadata": {},
   "outputs": [
    {
     "output_type": "display_data",
     "data": {
      "text/plain": "<Figure size 432x288 with 1 Axes>",
      "image/svg+xml": "<?xml version=\"1.0\" encoding=\"utf-8\" standalone=\"no\"?>\n<!DOCTYPE svg PUBLIC \"-//W3C//DTD SVG 1.1//EN\"\n  \"http://www.w3.org/Graphics/SVG/1.1/DTD/svg11.dtd\">\n<!-- Created with matplotlib (https://matplotlib.org/) -->\n<svg height=\"248.518125pt\" version=\"1.1\" viewBox=\"0 0 388.214631 248.518125\" width=\"388.214631pt\" xmlns=\"http://www.w3.org/2000/svg\" xmlns:xlink=\"http://www.w3.org/1999/xlink\">\n <metadata>\n  <rdf:RDF xmlns:cc=\"http://creativecommons.org/ns#\" xmlns:dc=\"http://purl.org/dc/elements/1.1/\" xmlns:rdf=\"http://www.w3.org/1999/02/22-rdf-syntax-ns#\">\n   <cc:Work>\n    <dc:type rdf:resource=\"http://purl.org/dc/dcmitype/StillImage\"/>\n    <dc:date>2020-10-15T00:31:19.355000</dc:date>\n    <dc:format>image/svg+xml</dc:format>\n    <dc:creator>\n     <cc:Agent>\n      <dc:title>Matplotlib v3.3.1, https://matplotlib.org/</dc:title>\n     </cc:Agent>\n    </dc:creator>\n   </cc:Work>\n  </rdf:RDF>\n </metadata>\n <defs>\n  <style type=\"text/css\">*{stroke-linecap:butt;stroke-linejoin:round;}</style>\n </defs>\n <g id=\"figure_1\">\n  <g id=\"patch_1\">\n   <path d=\"M 0 248.518125 \nL 388.214631 248.518125 \nL 388.214631 0 \nL 0 0 \nz\n\" style=\"fill:none;\"/>\n  </g>\n  <g id=\"axes_1\">\n   <g id=\"patch_2\">\n    <path d=\"M 46.0125 224.64 \nL 380.8125 224.64 \nL 380.8125 7.2 \nL 46.0125 7.2 \nz\n\" style=\"fill:#ffffff;\"/>\n   </g>\n   <g id=\"patch_3\">\n    <path clip-path=\"url(#p5cc7823ebf)\" d=\"M 61.230682 224.64 \nL 91.667045 224.64 \nL 91.667045 17.554286 \nL 61.230682 17.554286 \nz\n\" style=\"fill:#1f77b4;\"/>\n   </g>\n   <g id=\"patch_4\">\n    <path clip-path=\"url(#p5cc7823ebf)\" d=\"M 91.667045 224.64 \nL 122.103409 224.64 \nL 122.103409 224.64 \nL 91.667045 224.64 \nz\n\" style=\"fill:#1f77b4;\"/>\n   </g>\n   <g id=\"patch_5\">\n    <path clip-path=\"url(#p5cc7823ebf)\" d=\"M 122.103409 224.64 \nL 152.539773 224.64 \nL 152.539773 224.64 \nL 122.103409 224.64 \nz\n\" style=\"fill:#1f77b4;\"/>\n   </g>\n   <g id=\"patch_6\">\n    <path clip-path=\"url(#p5cc7823ebf)\" d=\"M 152.539773 224.64 \nL 182.976136 224.64 \nL 182.976136 224.64 \nL 152.539773 224.64 \nz\n\" style=\"fill:#1f77b4;\"/>\n   </g>\n   <g id=\"patch_7\">\n    <path clip-path=\"url(#p5cc7823ebf)\" d=\"M 182.976136 224.64 \nL 213.4125 224.64 \nL 213.4125 224.64 \nL 182.976136 224.64 \nz\n\" style=\"fill:#1f77b4;\"/>\n   </g>\n   <g id=\"patch_8\">\n    <path clip-path=\"url(#p5cc7823ebf)\" d=\"M 213.4125 224.64 \nL 243.848864 224.64 \nL 243.848864 224.64 \nL 213.4125 224.64 \nz\n\" style=\"fill:#1f77b4;\"/>\n   </g>\n   <g id=\"patch_9\">\n    <path clip-path=\"url(#p5cc7823ebf)\" d=\"M 243.848864 224.64 \nL 274.285227 224.64 \nL 274.285227 224.64 \nL 243.848864 224.64 \nz\n\" style=\"fill:#1f77b4;\"/>\n   </g>\n   <g id=\"patch_10\">\n    <path clip-path=\"url(#p5cc7823ebf)\" d=\"M 274.285227 224.64 \nL 304.721591 224.64 \nL 304.721591 224.64 \nL 274.285227 224.64 \nz\n\" style=\"fill:#1f77b4;\"/>\n   </g>\n   <g id=\"patch_11\">\n    <path clip-path=\"url(#p5cc7823ebf)\" d=\"M 304.721591 224.64 \nL 335.157955 224.64 \nL 335.157955 224.64 \nL 304.721591 224.64 \nz\n\" style=\"fill:#1f77b4;\"/>\n   </g>\n   <g id=\"patch_12\">\n    <path clip-path=\"url(#p5cc7823ebf)\" d=\"M 335.157955 224.64 \nL 365.594318 224.64 \nL 365.594318 160.590812 \nL 335.157955 160.590812 \nz\n\" style=\"fill:#1f77b4;\"/>\n   </g>\n   <g id=\"matplotlib.axis_1\">\n    <g id=\"xtick_1\">\n     <g id=\"line2d_1\">\n      <defs>\n       <path d=\"M 0 0 \nL 0 3.5 \n\" id=\"m4a203ac9b1\" style=\"stroke:#000000;stroke-width:0.8;\"/>\n      </defs>\n      <g>\n       <use style=\"stroke:#000000;stroke-width:0.8;\" x=\"61.230682\" xlink:href=\"#m4a203ac9b1\" y=\"224.64\"/>\n      </g>\n     </g>\n     <g id=\"text_1\">\n      <!-- &lt;=50K. -->\n      <g transform=\"translate(41.620526 239.238438)scale(0.1 -0.1)\">\n       <defs>\n        <path d=\"M 73.1875 49.21875 \nL 22.796875 31.296875 \nL 73.1875 13.484375 \nL 73.1875 4.59375 \nL 10.59375 27.296875 \nL 10.59375 35.40625 \nL 73.1875 58.109375 \nz\n\" id=\"DejaVuSans-60\"/>\n        <path d=\"M 10.59375 45.40625 \nL 73.1875 45.40625 \nL 73.1875 37.203125 \nL 10.59375 37.203125 \nz\nM 10.59375 25.484375 \nL 73.1875 25.484375 \nL 73.1875 17.1875 \nL 10.59375 17.1875 \nz\n\" id=\"DejaVuSans-61\"/>\n        <path d=\"M 10.796875 72.90625 \nL 49.515625 72.90625 \nL 49.515625 64.59375 \nL 19.828125 64.59375 \nL 19.828125 46.734375 \nQ 21.96875 47.46875 24.109375 47.828125 \nQ 26.265625 48.1875 28.421875 48.1875 \nQ 40.625 48.1875 47.75 41.5 \nQ 54.890625 34.8125 54.890625 23.390625 \nQ 54.890625 11.625 47.5625 5.09375 \nQ 40.234375 -1.421875 26.90625 -1.421875 \nQ 22.3125 -1.421875 17.546875 -0.640625 \nQ 12.796875 0.140625 7.71875 1.703125 \nL 7.71875 11.625 \nQ 12.109375 9.234375 16.796875 8.0625 \nQ 21.484375 6.890625 26.703125 6.890625 \nQ 35.15625 6.890625 40.078125 11.328125 \nQ 45.015625 15.765625 45.015625 23.390625 \nQ 45.015625 31 40.078125 35.4375 \nQ 35.15625 39.890625 26.703125 39.890625 \nQ 22.75 39.890625 18.8125 39.015625 \nQ 14.890625 38.140625 10.796875 36.28125 \nz\n\" id=\"DejaVuSans-53\"/>\n        <path d=\"M 31.78125 66.40625 \nQ 24.171875 66.40625 20.328125 58.90625 \nQ 16.5 51.421875 16.5 36.375 \nQ 16.5 21.390625 20.328125 13.890625 \nQ 24.171875 6.390625 31.78125 6.390625 \nQ 39.453125 6.390625 43.28125 13.890625 \nQ 47.125 21.390625 47.125 36.375 \nQ 47.125 51.421875 43.28125 58.90625 \nQ 39.453125 66.40625 31.78125 66.40625 \nz\nM 31.78125 74.21875 \nQ 44.046875 74.21875 50.515625 64.515625 \nQ 56.984375 54.828125 56.984375 36.375 \nQ 56.984375 17.96875 50.515625 8.265625 \nQ 44.046875 -1.421875 31.78125 -1.421875 \nQ 19.53125 -1.421875 13.0625 8.265625 \nQ 6.59375 17.96875 6.59375 36.375 \nQ 6.59375 54.828125 13.0625 64.515625 \nQ 19.53125 74.21875 31.78125 74.21875 \nz\n\" id=\"DejaVuSans-48\"/>\n        <path d=\"M 9.8125 72.90625 \nL 19.671875 72.90625 \nL 19.671875 42.09375 \nL 52.390625 72.90625 \nL 65.09375 72.90625 \nL 28.90625 38.921875 \nL 67.671875 0 \nL 54.6875 0 \nL 19.671875 35.109375 \nL 19.671875 0 \nL 9.8125 0 \nz\n\" id=\"DejaVuSans-75\"/>\n        <path d=\"M 10.6875 12.40625 \nL 21 12.40625 \nL 21 0 \nL 10.6875 0 \nz\n\" id=\"DejaVuSans-46\"/>\n       </defs>\n       <use xlink:href=\"#DejaVuSans-60\"/>\n       <use x=\"83.789062\" xlink:href=\"#DejaVuSans-61\"/>\n       <use x=\"167.578125\" xlink:href=\"#DejaVuSans-53\"/>\n       <use x=\"231.201172\" xlink:href=\"#DejaVuSans-48\"/>\n       <use x=\"294.824219\" xlink:href=\"#DejaVuSans-75\"/>\n       <use x=\"360.400391\" xlink:href=\"#DejaVuSans-46\"/>\n      </g>\n     </g>\n    </g>\n    <g id=\"xtick_2\">\n     <g id=\"line2d_2\">\n      <g>\n       <use style=\"stroke:#000000;stroke-width:0.8;\" x=\"365.594318\" xlink:href=\"#m4a203ac9b1\" y=\"224.64\"/>\n      </g>\n     </g>\n     <g id=\"text_2\">\n      <!-- &gt;50K. -->\n      <g transform=\"translate(350.174006 239.238438)scale(0.1 -0.1)\">\n       <defs>\n        <path d=\"M 10.59375 49.21875 \nL 10.59375 58.109375 \nL 73.1875 35.40625 \nL 73.1875 27.296875 \nL 10.59375 4.59375 \nL 10.59375 13.484375 \nL 60.890625 31.296875 \nz\n\" id=\"DejaVuSans-62\"/>\n       </defs>\n       <use xlink:href=\"#DejaVuSans-62\"/>\n       <use x=\"83.789062\" xlink:href=\"#DejaVuSans-53\"/>\n       <use x=\"147.412109\" xlink:href=\"#DejaVuSans-48\"/>\n       <use x=\"211.035156\" xlink:href=\"#DejaVuSans-75\"/>\n       <use x=\"276.611328\" xlink:href=\"#DejaVuSans-46\"/>\n      </g>\n     </g>\n    </g>\n   </g>\n   <g id=\"matplotlib.axis_2\">\n    <g id=\"ytick_1\">\n     <g id=\"line2d_3\">\n      <defs>\n       <path d=\"M 0 0 \nL -3.5 0 \n\" id=\"maeb3c0f376\" style=\"stroke:#000000;stroke-width:0.8;\"/>\n      </defs>\n      <g>\n       <use style=\"stroke:#000000;stroke-width:0.8;\" x=\"46.0125\" xlink:href=\"#maeb3c0f376\" y=\"224.64\"/>\n      </g>\n     </g>\n     <g id=\"text_3\">\n      <!-- 0 -->\n      <g transform=\"translate(32.65 228.439219)scale(0.1 -0.1)\">\n       <use xlink:href=\"#DejaVuSans-48\"/>\n      </g>\n     </g>\n    </g>\n    <g id=\"ytick_2\">\n     <g id=\"line2d_4\">\n      <g>\n       <use style=\"stroke:#000000;stroke-width:0.8;\" x=\"46.0125\" xlink:href=\"#maeb3c0f376\" y=\"191.33309\"/>\n      </g>\n     </g>\n     <g id=\"text_4\">\n      <!-- 2000 -->\n      <g transform=\"translate(13.5625 195.132309)scale(0.1 -0.1)\">\n       <defs>\n        <path d=\"M 19.1875 8.296875 \nL 53.609375 8.296875 \nL 53.609375 0 \nL 7.328125 0 \nL 7.328125 8.296875 \nQ 12.9375 14.109375 22.625 23.890625 \nQ 32.328125 33.6875 34.8125 36.53125 \nQ 39.546875 41.84375 41.421875 45.53125 \nQ 43.3125 49.21875 43.3125 52.78125 \nQ 43.3125 58.59375 39.234375 62.25 \nQ 35.15625 65.921875 28.609375 65.921875 \nQ 23.96875 65.921875 18.8125 64.3125 \nQ 13.671875 62.703125 7.8125 59.421875 \nL 7.8125 69.390625 \nQ 13.765625 71.78125 18.9375 73 \nQ 24.125 74.21875 28.421875 74.21875 \nQ 39.75 74.21875 46.484375 68.546875 \nQ 53.21875 62.890625 53.21875 53.421875 \nQ 53.21875 48.921875 51.53125 44.890625 \nQ 49.859375 40.875 45.40625 35.40625 \nQ 44.1875 33.984375 37.640625 27.21875 \nQ 31.109375 20.453125 19.1875 8.296875 \nz\n\" id=\"DejaVuSans-50\"/>\n       </defs>\n       <use xlink:href=\"#DejaVuSans-50\"/>\n       <use x=\"63.623047\" xlink:href=\"#DejaVuSans-48\"/>\n       <use x=\"127.246094\" xlink:href=\"#DejaVuSans-48\"/>\n       <use x=\"190.869141\" xlink:href=\"#DejaVuSans-48\"/>\n      </g>\n     </g>\n    </g>\n    <g id=\"ytick_3\">\n     <g id=\"line2d_5\">\n      <g>\n       <use style=\"stroke:#000000;stroke-width:0.8;\" x=\"46.0125\" xlink:href=\"#maeb3c0f376\" y=\"158.02618\"/>\n      </g>\n     </g>\n     <g id=\"text_5\">\n      <!-- 4000 -->\n      <g transform=\"translate(13.5625 161.825398)scale(0.1 -0.1)\">\n       <defs>\n        <path d=\"M 37.796875 64.3125 \nL 12.890625 25.390625 \nL 37.796875 25.390625 \nz\nM 35.203125 72.90625 \nL 47.609375 72.90625 \nL 47.609375 25.390625 \nL 58.015625 25.390625 \nL 58.015625 17.1875 \nL 47.609375 17.1875 \nL 47.609375 0 \nL 37.796875 0 \nL 37.796875 17.1875 \nL 4.890625 17.1875 \nL 4.890625 26.703125 \nz\n\" id=\"DejaVuSans-52\"/>\n       </defs>\n       <use xlink:href=\"#DejaVuSans-52\"/>\n       <use x=\"63.623047\" xlink:href=\"#DejaVuSans-48\"/>\n       <use x=\"127.246094\" xlink:href=\"#DejaVuSans-48\"/>\n       <use x=\"190.869141\" xlink:href=\"#DejaVuSans-48\"/>\n      </g>\n     </g>\n    </g>\n    <g id=\"ytick_4\">\n     <g id=\"line2d_6\">\n      <g>\n       <use style=\"stroke:#000000;stroke-width:0.8;\" x=\"46.0125\" xlink:href=\"#maeb3c0f376\" y=\"124.719269\"/>\n      </g>\n     </g>\n     <g id=\"text_6\">\n      <!-- 6000 -->\n      <g transform=\"translate(13.5625 128.518488)scale(0.1 -0.1)\">\n       <defs>\n        <path d=\"M 33.015625 40.375 \nQ 26.375 40.375 22.484375 35.828125 \nQ 18.609375 31.296875 18.609375 23.390625 \nQ 18.609375 15.53125 22.484375 10.953125 \nQ 26.375 6.390625 33.015625 6.390625 \nQ 39.65625 6.390625 43.53125 10.953125 \nQ 47.40625 15.53125 47.40625 23.390625 \nQ 47.40625 31.296875 43.53125 35.828125 \nQ 39.65625 40.375 33.015625 40.375 \nz\nM 52.59375 71.296875 \nL 52.59375 62.3125 \nQ 48.875 64.0625 45.09375 64.984375 \nQ 41.3125 65.921875 37.59375 65.921875 \nQ 27.828125 65.921875 22.671875 59.328125 \nQ 17.53125 52.734375 16.796875 39.40625 \nQ 19.671875 43.65625 24.015625 45.921875 \nQ 28.375 48.1875 33.59375 48.1875 \nQ 44.578125 48.1875 50.953125 41.515625 \nQ 57.328125 34.859375 57.328125 23.390625 \nQ 57.328125 12.15625 50.6875 5.359375 \nQ 44.046875 -1.421875 33.015625 -1.421875 \nQ 20.359375 -1.421875 13.671875 8.265625 \nQ 6.984375 17.96875 6.984375 36.375 \nQ 6.984375 53.65625 15.1875 63.9375 \nQ 23.390625 74.21875 37.203125 74.21875 \nQ 40.921875 74.21875 44.703125 73.484375 \nQ 48.484375 72.75 52.59375 71.296875 \nz\n\" id=\"DejaVuSans-54\"/>\n       </defs>\n       <use xlink:href=\"#DejaVuSans-54\"/>\n       <use x=\"63.623047\" xlink:href=\"#DejaVuSans-48\"/>\n       <use x=\"127.246094\" xlink:href=\"#DejaVuSans-48\"/>\n       <use x=\"190.869141\" xlink:href=\"#DejaVuSans-48\"/>\n      </g>\n     </g>\n    </g>\n    <g id=\"ytick_5\">\n     <g id=\"line2d_7\">\n      <g>\n       <use style=\"stroke:#000000;stroke-width:0.8;\" x=\"46.0125\" xlink:href=\"#maeb3c0f376\" y=\"91.412359\"/>\n      </g>\n     </g>\n     <g id=\"text_7\">\n      <!-- 8000 -->\n      <g transform=\"translate(13.5625 95.211578)scale(0.1 -0.1)\">\n       <defs>\n        <path d=\"M 31.78125 34.625 \nQ 24.75 34.625 20.71875 30.859375 \nQ 16.703125 27.09375 16.703125 20.515625 \nQ 16.703125 13.921875 20.71875 10.15625 \nQ 24.75 6.390625 31.78125 6.390625 \nQ 38.8125 6.390625 42.859375 10.171875 \nQ 46.921875 13.96875 46.921875 20.515625 \nQ 46.921875 27.09375 42.890625 30.859375 \nQ 38.875 34.625 31.78125 34.625 \nz\nM 21.921875 38.8125 \nQ 15.578125 40.375 12.03125 44.71875 \nQ 8.5 49.078125 8.5 55.328125 \nQ 8.5 64.0625 14.71875 69.140625 \nQ 20.953125 74.21875 31.78125 74.21875 \nQ 42.671875 74.21875 48.875 69.140625 \nQ 55.078125 64.0625 55.078125 55.328125 \nQ 55.078125 49.078125 51.53125 44.71875 \nQ 48 40.375 41.703125 38.8125 \nQ 48.828125 37.15625 52.796875 32.3125 \nQ 56.78125 27.484375 56.78125 20.515625 \nQ 56.78125 9.90625 50.3125 4.234375 \nQ 43.84375 -1.421875 31.78125 -1.421875 \nQ 19.734375 -1.421875 13.25 4.234375 \nQ 6.78125 9.90625 6.78125 20.515625 \nQ 6.78125 27.484375 10.78125 32.3125 \nQ 14.796875 37.15625 21.921875 38.8125 \nz\nM 18.3125 54.390625 \nQ 18.3125 48.734375 21.84375 45.5625 \nQ 25.390625 42.390625 31.78125 42.390625 \nQ 38.140625 42.390625 41.71875 45.5625 \nQ 45.3125 48.734375 45.3125 54.390625 \nQ 45.3125 60.0625 41.71875 63.234375 \nQ 38.140625 66.40625 31.78125 66.40625 \nQ 25.390625 66.40625 21.84375 63.234375 \nQ 18.3125 60.0625 18.3125 54.390625 \nz\n\" id=\"DejaVuSans-56\"/>\n       </defs>\n       <use xlink:href=\"#DejaVuSans-56\"/>\n       <use x=\"63.623047\" xlink:href=\"#DejaVuSans-48\"/>\n       <use x=\"127.246094\" xlink:href=\"#DejaVuSans-48\"/>\n       <use x=\"190.869141\" xlink:href=\"#DejaVuSans-48\"/>\n      </g>\n     </g>\n    </g>\n    <g id=\"ytick_6\">\n     <g id=\"line2d_8\">\n      <g>\n       <use style=\"stroke:#000000;stroke-width:0.8;\" x=\"46.0125\" xlink:href=\"#maeb3c0f376\" y=\"58.105449\"/>\n      </g>\n     </g>\n     <g id=\"text_8\">\n      <!-- 10000 -->\n      <g transform=\"translate(7.2 61.904668)scale(0.1 -0.1)\">\n       <defs>\n        <path d=\"M 12.40625 8.296875 \nL 28.515625 8.296875 \nL 28.515625 63.921875 \nL 10.984375 60.40625 \nL 10.984375 69.390625 \nL 28.421875 72.90625 \nL 38.28125 72.90625 \nL 38.28125 8.296875 \nL 54.390625 8.296875 \nL 54.390625 0 \nL 12.40625 0 \nz\n\" id=\"DejaVuSans-49\"/>\n       </defs>\n       <use xlink:href=\"#DejaVuSans-49\"/>\n       <use x=\"63.623047\" xlink:href=\"#DejaVuSans-48\"/>\n       <use x=\"127.246094\" xlink:href=\"#DejaVuSans-48\"/>\n       <use x=\"190.869141\" xlink:href=\"#DejaVuSans-48\"/>\n       <use x=\"254.492188\" xlink:href=\"#DejaVuSans-48\"/>\n      </g>\n     </g>\n    </g>\n    <g id=\"ytick_7\">\n     <g id=\"line2d_9\">\n      <g>\n       <use style=\"stroke:#000000;stroke-width:0.8;\" x=\"46.0125\" xlink:href=\"#maeb3c0f376\" y=\"24.798539\"/>\n      </g>\n     </g>\n     <g id=\"text_9\">\n      <!-- 12000 -->\n      <g transform=\"translate(7.2 28.597757)scale(0.1 -0.1)\">\n       <use xlink:href=\"#DejaVuSans-49\"/>\n       <use x=\"63.623047\" xlink:href=\"#DejaVuSans-50\"/>\n       <use x=\"127.246094\" xlink:href=\"#DejaVuSans-48\"/>\n       <use x=\"190.869141\" xlink:href=\"#DejaVuSans-48\"/>\n       <use x=\"254.492188\" xlink:href=\"#DejaVuSans-48\"/>\n      </g>\n     </g>\n    </g>\n   </g>\n   <g id=\"patch_13\">\n    <path d=\"M 46.0125 224.64 \nL 46.0125 7.2 \n\" style=\"fill:none;stroke:#000000;stroke-linecap:square;stroke-linejoin:miter;stroke-width:0.8;\"/>\n   </g>\n   <g id=\"patch_14\">\n    <path d=\"M 380.8125 224.64 \nL 380.8125 7.2 \n\" style=\"fill:none;stroke:#000000;stroke-linecap:square;stroke-linejoin:miter;stroke-width:0.8;\"/>\n   </g>\n   <g id=\"patch_15\">\n    <path d=\"M 46.0125 224.64 \nL 380.8125 224.64 \n\" style=\"fill:none;stroke:#000000;stroke-linecap:square;stroke-linejoin:miter;stroke-width:0.8;\"/>\n   </g>\n   <g id=\"patch_16\">\n    <path d=\"M 46.0125 7.2 \nL 380.8125 7.2 \n\" style=\"fill:none;stroke:#000000;stroke-linecap:square;stroke-linejoin:miter;stroke-width:0.8;\"/>\n   </g>\n  </g>\n </g>\n <defs>\n  <clipPath id=\"p5cc7823ebf\">\n   <rect height=\"217.44\" width=\"334.8\" x=\"46.0125\" y=\"7.2\"/>\n  </clipPath>\n </defs>\n</svg>\n",
      "image/png": "[encoded data removed]"
     },
     "metadata": {
      "needs_background": "light"
     }
    }
   ],
   "source": [
    "'''numeric_columns=['age','fnlwgt','education-num','capital-gain','capital-loss','hours-per-week']\n",
    "f = plt.figure(figsize=(15,8))\n",
    "for i,col in enumerate(numeric_columns):\n",
    "    ax=plt.subplot(2, 3,i+1)\n",
    "    ax.hist(census[col].astype(float), bins=10)\n",
    "    ax.set_xlabel(col)\n",
    "    ax.set_ylabel('value')\n",
    "#plt.savefig('distribution of numeric values.jpg')\n",
    "plt.show()'''\n",
    "\n",
    "plt.hist(census.income)\n",
    "plt.show()"
   ]
  },
  {
   "cell_type": "code",
   "execution_count": 5,
   "metadata": {},
   "outputs": [],
   "source": [
    "def updateTable(LS,table,column,NV):\n",
    "    new=[NV[0] if i in range(LS[0][0],LS[0][1]) else NV[1] if i in range(LS[1][0],LS[1][1]) else NV[2] for i in census[column].astype(int)]\n",
    "    table[column]=new\n",
    "    return table"
   ]
  },
  {
   "cell_type": "code",
   "execution_count": 6,
   "metadata": {},
   "outputs": [],
   "source": [
    "LS=[(16,31),(31,51),(51)]\n",
    "NV=['young_adult','adult','senior_adult']\n",
    "census=updateTable(LS,census,'age',NV)"
   ]
  },
  {
   "cell_type": "code",
   "execution_count": 7,
   "metadata": {},
   "outputs": [],
   "source": [
    "LS=[(13492, 139364), (139364, 211208), (211208, 1490400)]\n",
    "NV=['A','B','C']\n",
    "census=updateTable(LS,census,'fnlwgt',NV)"
   ]
  },
  {
   "cell_type": "code",
   "execution_count": 8,
   "metadata": {},
   "outputs": [],
   "source": [
    "LS=[(1, 9), (9, 10), (10, 20)]\n",
    "NV=['Basic','Medium','High']\n",
    "census=updateTable(LS,census,'education-num',NV)"
   ]
  },
  {
   "cell_type": "code",
   "execution_count": 9,
   "metadata": {},
   "outputs": [],
   "source": [
    "NV=['capital_gain_0','capital_gain_1']\n",
    "new_capital_gain=[NV[0] if i!=0 else NV[1] for i in census['capital-gain'].astype(float)]\n",
    "census['capital-gain']=new_capital_gain"
   ]
  },
  {
   "cell_type": "code",
   "execution_count": 10,
   "metadata": {},
   "outputs": [],
   "source": [
    "NV=['capital_loss_0','capital_loss_1']\n",
    "new_capital_loss=[NV[0] if i!=0 else NV[1] for i in census['capital-loss'].astype(float)]\n",
    "census['capital-loss']=new_capital_loss"
   ]
  },
  {
   "cell_type": "code",
   "execution_count": 11,
   "metadata": {},
   "outputs": [],
   "source": [
    "NV=['below 40','40','above 40']\n",
    "new_hours=[NV[0] if i<40 else NV[1] if i==40 else NV[2] for i in census['hours-per-week'].astype(float)]\n",
    "census['hours-per-week']=new_hours"
   ]
  },
  {
   "cell_type": "code",
   "execution_count": 12,
   "metadata": {},
   "outputs": [],
   "source": [
    "census.head()\n",
    "#census.head().to_csv('Cleanedcensus.csv')\n",
    "census.head().to_clipboard()"
   ]
  },
  {
   "cell_type": "code",
   "execution_count": 13,
   "metadata": {},
   "outputs": [
    {
     "output_type": "stream",
     "name": "stdout",
     "text": [
      "age: 3\nworkclass: 9\nfnlwgt: 3\neducation: 16\neducation-num: 3\nmarital-status: 7\noccupation: 15\nrelationship: 6\nrace: 5\nsex: 2\ncapital-gain: 2\ncapital-loss: 2\nhours-per-week: 3\nnative-country: 41\nincome: 2\n"
     ]
    }
   ],
   "source": [
    "for col in list(census.columns):\n",
    "    print(col+':',len(census[col].unique()))"
   ]
  },
  {
   "cell_type": "code",
   "execution_count": 14,
   "metadata": {},
   "outputs": [
    {
     "output_type": "execute_result",
     "data": {
      "text/plain": [
       "\"numeric_columns=['age','fnlwgt','education-num','capital-gain','capital-loss','hours-per-week']\\nf = plt.figure(figsize=(17,8))\\nfor i,col in enumerate(numeric_columns):\\n    ax=plt.subplot(2, 3,i+1)\\n    ax.hist(census[col], bins=10)\\n    ax.set_xlabel(col)\\n    ax.set_ylabel('value')\\n#plt.savefig('distribution of cat values.jpg')\\nplt.show()\""
      ]
     },
     "metadata": {},
     "execution_count": 14
    }
   ],
   "source": [
    "'''numeric_columns=['age','fnlwgt','education-num','capital-gain','capital-loss','hours-per-week']\n",
    "f = plt.figure(figsize=(17,8))\n",
    "for i,col in enumerate(numeric_columns):\n",
    "    ax=plt.subplot(2, 3,i+1)\n",
    "    ax.hist(census[col], bins=10)\n",
    "    ax.set_xlabel(col)\n",
    "    ax.set_ylabel('value')\n",
    "#plt.savefig('distribution of cat values.jpg')\n",
    "plt.show()'''"
   ]
  },
  {
   "cell_type": "code",
   "execution_count": 15,
   "metadata": {
    "tags": []
   },
   "outputs": [
    {
     "output_type": "stream",
     "name": "stdout",
     "text": [
      "5427\n[0, 5427, 10854]\n[5427, 10854, 16280]\n[(0, 5427), (5427, 10854), (10854, 16280)]\n"
     ]
    }
   ],
   "source": [
    "#break everything to n parts\n",
    "n=3\n",
    "num_elements=round(len(census)/n)\n",
    "print(num_elements)\n",
    "elementsindex_range=[i for i in range(0,len(census),num_elements)]\n",
    "print(elementsindex_range)\n",
    "elementsindex_range1=elementsindex_range[1:]\n",
    "elementsindex_range1.append(len(census)-1)\n",
    "print(elementsindex_range1)\n",
    "print([i for i in zip(elementsindex_range,elementsindex_range1)])\n"
   ]
  },
  {
   "cell_type": "code",
   "execution_count": 16,
   "metadata": {},
   "outputs": [
    {
     "output_type": "execute_result",
     "data": {
      "text/plain": [
       "\"#test with different columns\\nsortedage=sorted(census['hours-per-week'].astype(int))\\nprint([(sortedage[i],sortedage[k]) for i,k in zip(elementsindex_range,elementsindex_range1)])\""
      ]
     },
     "metadata": {},
     "execution_count": 16
    }
   ],
   "source": [
    "'''#test with different columns\n",
    "sortedage=sorted(census['hours-per-week'].astype(int))\n",
    "print([(sortedage[i],sortedage[k]) for i,k in zip(elementsindex_range,elementsindex_range1)])'''\n"
   ]
  },
  {
   "cell_type": "code",
   "execution_count": 17,
   "metadata": {},
   "outputs": [
    {
     "output_type": "stream",
     "name": "stdout",
     "text": [
      "<class 'pandas.core.frame.DataFrame'>\nInt64Index: 16281 entries, 0 to 16280\nData columns (total 15 columns):\n #   Column          Non-Null Count  Dtype \n---  ------          --------------  ----- \n 0   age             16281 non-null  object\n 1   workclass       16281 non-null  object\n 2   fnlwgt          16281 non-null  object\n 3   education       16281 non-null  object\n 4   education-num   16281 non-null  object\n 5   marital-status  16281 non-null  object\n 6   occupation      16281 non-null  object\n 7   relationship    16281 non-null  object\n 8   race            16281 non-null  object\n 9   sex             16281 non-null  object\n 10  capital-gain    16281 non-null  object\n 11  capital-loss    16281 non-null  object\n 12  hours-per-week  16281 non-null  object\n 13  native-country  16281 non-null  object\n 14  income          16281 non-null  object\ndtypes: object(15)\nmemory usage: 2.0+ MB\n"
     ]
    }
   ],
   "source": [
    "#we need str data, otherwise there will be overlap. Numeric data need to be change to str data.\n",
    "census.info()"
   ]
  },
  {
   "source": [
    "# Use the Example data and Mine data"
   ],
   "cell_type": "markdown",
   "metadata": {}
  },
  {
   "cell_type": "code",
   "execution_count": 18,
   "metadata": {},
   "outputs": [
    {
     "output_type": "execute_result",
     "data": {
      "text/plain": [
       "\" Example_data=Example_data.tolist()\\nwith open('Example_data.txt','w') as f:\\n   for i in Example_data:\\n       f.write(','.join(i))\\n       f.write('\\n')\""
      ]
     },
     "metadata": {},
     "execution_count": 18
    }
   ],
   "source": [
    " Example_data=np.array(census.astype(str))\n",
    "''' Example_data=Example_data.tolist()\n",
    "with open('Example_data.txt','w') as f:\n",
    "    for i in Example_data:\n",
    "        f.write(','.join(i))\n",
    "        f.write('\\n')'''"
   ]
  },
  {
   "cell_type": "code",
   "execution_count": 19,
   "metadata": {},
   "outputs": [],
   "source": [
    "import MineApriori as AP\n",
    "import UpgradeApriori as APP"
   ]
  },
  {
   "cell_type": "code",
   "execution_count": 20,
   "metadata": {
    "tags": []
   },
   "outputs": [],
   "source": [
    "APL,APS=AP.apriori(Example_data,minSupport=0.5)\n"
   ]
  },
  {
   "cell_type": "code",
   "execution_count": 21,
   "metadata": {},
   "outputs": [],
   "source": [
    "rules = AP.generateRules(APL,APS, minConf=0.5)"
   ]
  },
  {
   "cell_type": "code",
   "execution_count": 22,
   "metadata": {},
   "outputs": [
    {
     "output_type": "stream",
     "name": "stdout",
     "text": [
      "(454, 9)\n"
     ]
    },
    {
     "output_type": "execute_result",
     "data": {
      "text/plain": [
       "    Frequent Itemset(AUB)           From(A)             To(B)  \\\n",
       "0  (High, capital_loss_1)  (capital_loss_1)            (High)   \n",
       "1  (High, capital_loss_1)            (High)  (capital_loss_1)   \n",
       "2         (White, <=50K.)          (<=50K.)           (White)   \n",
       "3         (White, <=50K.)           (White)          (<=50K.)   \n",
       "4           (White, Male)            (Male)           (White)   \n",
       "\n",
       "   Confident Number(num of A)  Support Number(num of AUB)  \\\n",
       "0                       15517                        8323   \n",
       "1                        8843                        8323   \n",
       "2                       12435                       10456   \n",
       "3                       13946                       10456   \n",
       "4                       10860                        9561   \n",
       "\n",
       "   Support Number(num of B)  Confidence   Support      Lift  \n",
       "0                      8843    0.536379  0.511209  0.941196  \n",
       "1                     15517    0.941196  0.511209  0.536379  \n",
       "2                     13946    0.840852  0.642221  0.749749  \n",
       "3                     12435    0.749749  0.642221  0.840852  \n",
       "4                     13946    0.880387  0.587249  0.685573  "
      ],
      "text/html": "<div>\n<style scoped>\n    .dataframe tbody tr th:only-of-type {\n        vertical-align: middle;\n    }\n\n    .dataframe tbody tr th {\n        vertical-align: top;\n    }\n\n    .dataframe thead th {\n        text-align: right;\n    }\n</style>\n<table border=\"1\" class=\"dataframe\">\n  <thead>\n    <tr style=\"text-align: right;\">\n      <th></th>\n      <th>Frequent Itemset(AUB)</th>\n      <th>From(A)</th>\n      <th>To(B)</th>\n      <th>Confident Number(num of A)</th>\n      <th>Support Number(num of AUB)</th>\n      <th>Support Number(num of B)</th>\n      <th>Confidence</th>\n      <th>Support</th>\n      <th>Lift</th>\n    </tr>\n  </thead>\n  <tbody>\n    <tr>\n      <th>0</th>\n      <td>(High, capital_loss_1)</td>\n      <td>(capital_loss_1)</td>\n      <td>(High)</td>\n      <td>15517</td>\n      <td>8323</td>\n      <td>8843</td>\n      <td>0.536379</td>\n      <td>0.511209</td>\n      <td>0.941196</td>\n    </tr>\n    <tr>\n      <th>1</th>\n      <td>(High, capital_loss_1)</td>\n      <td>(High)</td>\n      <td>(capital_loss_1)</td>\n      <td>8843</td>\n      <td>8323</td>\n      <td>15517</td>\n      <td>0.941196</td>\n      <td>0.511209</td>\n      <td>0.536379</td>\n    </tr>\n    <tr>\n      <th>2</th>\n      <td>(White, &lt;=50K.)</td>\n      <td>(&lt;=50K.)</td>\n      <td>(White)</td>\n      <td>12435</td>\n      <td>10456</td>\n      <td>13946</td>\n      <td>0.840852</td>\n      <td>0.642221</td>\n      <td>0.749749</td>\n    </tr>\n    <tr>\n      <th>3</th>\n      <td>(White, &lt;=50K.)</td>\n      <td>(White)</td>\n      <td>(&lt;=50K.)</td>\n      <td>13946</td>\n      <td>10456</td>\n      <td>12435</td>\n      <td>0.749749</td>\n      <td>0.642221</td>\n      <td>0.840852</td>\n    </tr>\n    <tr>\n      <th>4</th>\n      <td>(White, Male)</td>\n      <td>(Male)</td>\n      <td>(White)</td>\n      <td>10860</td>\n      <td>9561</td>\n      <td>13946</td>\n      <td>0.880387</td>\n      <td>0.587249</td>\n      <td>0.685573</td>\n    </tr>\n  </tbody>\n</table>\n</div>"
     },
     "metadata": {},
     "execution_count": 22
    }
   ],
   "source": [
    "#pd.DataFrame(APS.values(),APS.keys())\n",
    "Ruletable=AP.printrules(rules,len(Example_data))\n",
    "print(Ruletable.shape)\n",
    "Ruletable.head()"
   ]
  },
  {
   "cell_type": "code",
   "execution_count": 24,
   "metadata": {},
   "outputs": [],
   "source": [
    "idx=[]\n",
    "for i,rule in enumerate(Ruletable['To(B)']):\n",
    "    if rule.issubset({'<=50K.'}):\n",
    "        idx.append(i)\n",
    "APlessthan50=Ruletable.loc[idx].sort_values('Confidence',ascending=False).reset_index(drop=True)\n",
    "APlessthan50['From length']=[len(i) for i in APlessthan50['From(A)']]\n",
    "#Reason=APlessthan50['From']"
   ]
  },
  {
   "cell_type": "code",
   "execution_count": 26,
   "metadata": {},
   "outputs": [
    {
     "output_type": "execute_result",
     "data": {
      "text/plain": [
       "                                Frequent Itemset(AUB)  \\\n",
       "0   frozenset({'capital_gain_1', 'capital_loss_1',...   \n",
       "1                    frozenset({'Private', '<=50K.'})   \n",
       "2   frozenset({'White', 'capital_gain_1', '<=50K.'...   \n",
       "3   frozenset({'White', 'United-States', 'capital_...   \n",
       "4              frozenset({'United-States', '<=50K.'})   \n",
       "5   frozenset({'White', 'capital_gain_1', 'capital...   \n",
       "6    frozenset({'White', '<=50K.', 'capital_loss_1'})   \n",
       "7   frozenset({'<=50K.', 'United-States', 'capital...   \n",
       "8             frozenset({'<=50K.', 'capital_loss_1'})   \n",
       "9   frozenset({'White', 'capital_gain_1', 'United-...   \n",
       "10   frozenset({'White', 'capital_gain_1', '<=50K.'})   \n",
       "11  frozenset({'capital_gain_1', 'Private', '<=50K...   \n",
       "12  frozenset({'United-States', 'capital_gain_1', ...   \n",
       "13  frozenset({'Private', '<=50K.', 'capital_loss_...   \n",
       "14  frozenset({'capital_gain_1', 'United-States', ...   \n",
       "15  frozenset({'capital_gain_1', '<=50K.', 'capita...   \n",
       "16            frozenset({'capital_gain_1', '<=50K.'})   \n",
       "17    frozenset({'White', 'United-States', '<=50K.'})   \n",
       "18                     frozenset({'White', '<=50K.'})   \n",
       "\n",
       "                                              From(A)                  To(B)  \\\n",
       "0   frozenset({'capital_gain_1', 'Private', 'capit...  frozenset({'<=50K.'})   \n",
       "1                              frozenset({'Private'})  frozenset({'<=50K.'})   \n",
       "2   frozenset({'White', 'capital_gain_1', 'United-...  frozenset({'<=50K.'})   \n",
       "3   frozenset({'White', 'United-States', 'capital_...  frozenset({'<=50K.'})   \n",
       "4                        frozenset({'United-States'})  frozenset({'<=50K.'})   \n",
       "5   frozenset({'White', 'capital_gain_1', 'capital...  frozenset({'<=50K.'})   \n",
       "6              frozenset({'White', 'capital_loss_1'})  frozenset({'<=50K.'})   \n",
       "7      frozenset({'United-States', 'capital_loss_1'})  frozenset({'<=50K.'})   \n",
       "8                       frozenset({'capital_loss_1'})  frozenset({'<=50K.'})   \n",
       "9   frozenset({'White', 'capital_gain_1', 'United-...  frozenset({'<=50K.'})   \n",
       "10             frozenset({'White', 'capital_gain_1'})  frozenset({'<=50K.'})   \n",
       "11           frozenset({'capital_gain_1', 'Private'})  frozenset({'<=50K.'})   \n",
       "12     frozenset({'capital_gain_1', 'United-States'})  frozenset({'<=50K.'})   \n",
       "13           frozenset({'Private', 'capital_loss_1'})  frozenset({'<=50K.'})   \n",
       "14  frozenset({'capital_gain_1', 'United-States', ...  frozenset({'<=50K.'})   \n",
       "15    frozenset({'capital_gain_1', 'capital_loss_1'})  frozenset({'<=50K.'})   \n",
       "16                      frozenset({'capital_gain_1'})  frozenset({'<=50K.'})   \n",
       "17              frozenset({'White', 'United-States'})  frozenset({'<=50K.'})   \n",
       "18                               frozenset({'White'})  frozenset({'<=50K.'})   \n",
       "\n",
       "   Confident Number(num of A) Support Number(num of AUB)  \\\n",
       "0                        9868                       8186   \n",
       "1                       11210                       8786   \n",
       "2                       11135                       8865   \n",
       "3                       12236                       9273   \n",
       "4                       14662                      11139   \n",
       "5                       12103                       9689   \n",
       "6                       13272                      10121   \n",
       "7                       13960                      10781   \n",
       "8                       15517                      12042   \n",
       "9                       11771                       9176   \n",
       "10                      12777                      10024   \n",
       "11                      10362                       8440   \n",
       "12                      13447                      10671   \n",
       "13                      10716                       8532   \n",
       "14                      12745                      10313   \n",
       "15                      14194                      11533   \n",
       "16                      14958                      11926   \n",
       "17                      12872                       9584   \n",
       "18                      13946                      10456   \n",
       "\n",
       "   Support Number(num of B)          Confidence             Support  \\\n",
       "0                     12435  0.8295500608025942   0.502794668632148   \n",
       "1                     12435  0.7837644959857271   0.539647441803329   \n",
       "2                     12435   0.796138302649304  0.5444997236042012   \n",
       "3                     12435  0.7578457012095456  0.5695596093606043   \n",
       "4                     12435  0.7597190015004774  0.6841717339229777   \n",
       "5                     12435  0.8005453193423119  0.5951108654259566   \n",
       "6                     12435  0.7625828812537673   0.621644862109207   \n",
       "7                     12435  0.7722779369627507  0.6621829125975063   \n",
       "8                     12435  0.7760520719211188  0.7396351575456053   \n",
       "9                     12435  0.7795429445246793  0.5636017443645968   \n",
       "10                    12435   0.784534710808484  0.6156869971131994   \n",
       "11                    12435   0.814514572476356  0.5183956759412812   \n",
       "12                    12435  0.7935599018368409  0.6554265708494564   \n",
       "13                    12435  0.7961926091825308  0.5240464344941956   \n",
       "14                    12435  0.8091800706159278   0.633437749523985   \n",
       "15                    12435  0.8125264196139214    0.70837172163872   \n",
       "16                    12435    0.79729910415831  0.7325102880658436   \n",
       "17                    12435  0.7445618396519578  0.5886616301209999   \n",
       "18                    12435  0.7497490319804962  0.6422209937964498   \n",
       "\n",
       "                  Lift  \n",
       "0    0.658303176517893  \n",
       "1   0.7065540812223563  \n",
       "2   0.7129071170084439  \n",
       "3    0.745717732207479  \n",
       "4   0.8957780458383595  \n",
       "5   0.7791716928025734  \n",
       "6   0.8139123441897869  \n",
       "7   0.8669883393646964  \n",
       "8   0.9683956574185766  \n",
       "9   0.7379171692802573  \n",
       "10  0.8061117812625653  \n",
       "11  0.6787293928427824  \n",
       "12  0.8581423401688781  \n",
       "13  0.6861278648974668  \n",
       "14  0.8293526336952152  \n",
       "15  0.9274628065942903  \n",
       "16  0.9590671491757137  \n",
       "17  0.7707277844792924  \n",
       "18  0.8408524326497788  "
      ],
      "text/html": "<div>\n<style scoped>\n    .dataframe tbody tr th:only-of-type {\n        vertical-align: middle;\n    }\n\n    .dataframe tbody tr th {\n        vertical-align: top;\n    }\n\n    .dataframe thead th {\n        text-align: right;\n    }\n</style>\n<table border=\"1\" class=\"dataframe\">\n  <thead>\n    <tr style=\"text-align: right;\">\n      <th></th>\n      <th>Frequent Itemset(AUB)</th>\n      <th>From(A)</th>\n      <th>To(B)</th>\n      <th>Confident Number(num of A)</th>\n      <th>Support Number(num of AUB)</th>\n      <th>Support Number(num of B)</th>\n      <th>Confidence</th>\n      <th>Support</th>\n      <th>Lift</th>\n    </tr>\n  </thead>\n  <tbody>\n    <tr>\n      <th>0</th>\n      <td>frozenset({'capital_gain_1', 'capital_loss_1',...</td>\n      <td>frozenset({'capital_gain_1', 'Private', 'capit...</td>\n      <td>frozenset({'&lt;=50K.'})</td>\n      <td>9868</td>\n      <td>8186</td>\n      <td>12435</td>\n      <td>0.8295500608025942</td>\n      <td>0.502794668632148</td>\n      <td>0.658303176517893</td>\n    </tr>\n    <tr>\n      <th>1</th>\n      <td>frozenset({'Private', '&lt;=50K.'})</td>\n      <td>frozenset({'Private'})</td>\n      <td>frozenset({'&lt;=50K.'})</td>\n      <td>11210</td>\n      <td>8786</td>\n      <td>12435</td>\n      <td>0.7837644959857271</td>\n      <td>0.539647441803329</td>\n      <td>0.7065540812223563</td>\n    </tr>\n    <tr>\n      <th>2</th>\n      <td>frozenset({'White', 'capital_gain_1', '&lt;=50K.'...</td>\n      <td>frozenset({'White', 'capital_gain_1', 'United-...</td>\n      <td>frozenset({'&lt;=50K.'})</td>\n      <td>11135</td>\n      <td>8865</td>\n      <td>12435</td>\n      <td>0.796138302649304</td>\n      <td>0.5444997236042012</td>\n      <td>0.7129071170084439</td>\n    </tr>\n    <tr>\n      <th>3</th>\n      <td>frozenset({'White', 'United-States', 'capital_...</td>\n      <td>frozenset({'White', 'United-States', 'capital_...</td>\n      <td>frozenset({'&lt;=50K.'})</td>\n      <td>12236</td>\n      <td>9273</td>\n      <td>12435</td>\n      <td>0.7578457012095456</td>\n      <td>0.5695596093606043</td>\n      <td>0.745717732207479</td>\n    </tr>\n    <tr>\n      <th>4</th>\n      <td>frozenset({'United-States', '&lt;=50K.'})</td>\n      <td>frozenset({'United-States'})</td>\n      <td>frozenset({'&lt;=50K.'})</td>\n      <td>14662</td>\n      <td>11139</td>\n      <td>12435</td>\n      <td>0.7597190015004774</td>\n      <td>0.6841717339229777</td>\n      <td>0.8957780458383595</td>\n    </tr>\n    <tr>\n      <th>5</th>\n      <td>frozenset({'White', 'capital_gain_1', 'capital...</td>\n      <td>frozenset({'White', 'capital_gain_1', 'capital...</td>\n      <td>frozenset({'&lt;=50K.'})</td>\n      <td>12103</td>\n      <td>9689</td>\n      <td>12435</td>\n      <td>0.8005453193423119</td>\n      <td>0.5951108654259566</td>\n      <td>0.7791716928025734</td>\n    </tr>\n    <tr>\n      <th>6</th>\n      <td>frozenset({'White', '&lt;=50K.', 'capital_loss_1'})</td>\n      <td>frozenset({'White', 'capital_loss_1'})</td>\n      <td>frozenset({'&lt;=50K.'})</td>\n      <td>13272</td>\n      <td>10121</td>\n      <td>12435</td>\n      <td>0.7625828812537673</td>\n      <td>0.621644862109207</td>\n      <td>0.8139123441897869</td>\n    </tr>\n    <tr>\n      <th>7</th>\n      <td>frozenset({'&lt;=50K.', 'United-States', 'capital...</td>\n      <td>frozenset({'United-States', 'capital_loss_1'})</td>\n      <td>frozenset({'&lt;=50K.'})</td>\n      <td>13960</td>\n      <td>10781</td>\n      <td>12435</td>\n      <td>0.7722779369627507</td>\n      <td>0.6621829125975063</td>\n      <td>0.8669883393646964</td>\n    </tr>\n    <tr>\n      <th>8</th>\n      <td>frozenset({'&lt;=50K.', 'capital_loss_1'})</td>\n      <td>frozenset({'capital_loss_1'})</td>\n      <td>frozenset({'&lt;=50K.'})</td>\n      <td>15517</td>\n      <td>12042</td>\n      <td>12435</td>\n      <td>0.7760520719211188</td>\n      <td>0.7396351575456053</td>\n      <td>0.9683956574185766</td>\n    </tr>\n    <tr>\n      <th>9</th>\n      <td>frozenset({'White', 'capital_gain_1', 'United-...</td>\n      <td>frozenset({'White', 'capital_gain_1', 'United-...</td>\n      <td>frozenset({'&lt;=50K.'})</td>\n      <td>11771</td>\n      <td>9176</td>\n      <td>12435</td>\n      <td>0.7795429445246793</td>\n      <td>0.5636017443645968</td>\n      <td>0.7379171692802573</td>\n    </tr>\n    <tr>\n      <th>10</th>\n      <td>frozenset({'White', 'capital_gain_1', '&lt;=50K.'})</td>\n      <td>frozenset({'White', 'capital_gain_1'})</td>\n      <td>frozenset({'&lt;=50K.'})</td>\n      <td>12777</td>\n      <td>10024</td>\n      <td>12435</td>\n      <td>0.784534710808484</td>\n      <td>0.6156869971131994</td>\n      <td>0.8061117812625653</td>\n    </tr>\n    <tr>\n      <th>11</th>\n      <td>frozenset({'capital_gain_1', 'Private', '&lt;=50K...</td>\n      <td>frozenset({'capital_gain_1', 'Private'})</td>\n      <td>frozenset({'&lt;=50K.'})</td>\n      <td>10362</td>\n      <td>8440</td>\n      <td>12435</td>\n      <td>0.814514572476356</td>\n      <td>0.5183956759412812</td>\n      <td>0.6787293928427824</td>\n    </tr>\n    <tr>\n      <th>12</th>\n      <td>frozenset({'United-States', 'capital_gain_1', ...</td>\n      <td>frozenset({'capital_gain_1', 'United-States'})</td>\n      <td>frozenset({'&lt;=50K.'})</td>\n      <td>13447</td>\n      <td>10671</td>\n      <td>12435</td>\n      <td>0.7935599018368409</td>\n      <td>0.6554265708494564</td>\n      <td>0.8581423401688781</td>\n    </tr>\n    <tr>\n      <th>13</th>\n      <td>frozenset({'Private', '&lt;=50K.', 'capital_loss_...</td>\n      <td>frozenset({'Private', 'capital_loss_1'})</td>\n      <td>frozenset({'&lt;=50K.'})</td>\n      <td>10716</td>\n      <td>8532</td>\n      <td>12435</td>\n      <td>0.7961926091825308</td>\n      <td>0.5240464344941956</td>\n      <td>0.6861278648974668</td>\n    </tr>\n    <tr>\n      <th>14</th>\n      <td>frozenset({'capital_gain_1', 'United-States', ...</td>\n      <td>frozenset({'capital_gain_1', 'United-States', ...</td>\n      <td>frozenset({'&lt;=50K.'})</td>\n      <td>12745</td>\n      <td>10313</td>\n      <td>12435</td>\n      <td>0.8091800706159278</td>\n      <td>0.633437749523985</td>\n      <td>0.8293526336952152</td>\n    </tr>\n    <tr>\n      <th>15</th>\n      <td>frozenset({'capital_gain_1', '&lt;=50K.', 'capita...</td>\n      <td>frozenset({'capital_gain_1', 'capital_loss_1'})</td>\n      <td>frozenset({'&lt;=50K.'})</td>\n      <td>14194</td>\n      <td>11533</td>\n      <td>12435</td>\n      <td>0.8125264196139214</td>\n      <td>0.70837172163872</td>\n      <td>0.9274628065942903</td>\n    </tr>\n    <tr>\n      <th>16</th>\n      <td>frozenset({'capital_gain_1', '&lt;=50K.'})</td>\n      <td>frozenset({'capital_gain_1'})</td>\n      <td>frozenset({'&lt;=50K.'})</td>\n      <td>14958</td>\n      <td>11926</td>\n      <td>12435</td>\n      <td>0.79729910415831</td>\n      <td>0.7325102880658436</td>\n      <td>0.9590671491757137</td>\n    </tr>\n    <tr>\n      <th>17</th>\n      <td>frozenset({'White', 'United-States', '&lt;=50K.'})</td>\n      <td>frozenset({'White', 'United-States'})</td>\n      <td>frozenset({'&lt;=50K.'})</td>\n      <td>12872</td>\n      <td>9584</td>\n      <td>12435</td>\n      <td>0.7445618396519578</td>\n      <td>0.5886616301209999</td>\n      <td>0.7707277844792924</td>\n    </tr>\n    <tr>\n      <th>18</th>\n      <td>frozenset({'White', '&lt;=50K.'})</td>\n      <td>frozenset({'White'})</td>\n      <td>frozenset({'&lt;=50K.'})</td>\n      <td>13946</td>\n      <td>10456</td>\n      <td>12435</td>\n      <td>0.7497490319804962</td>\n      <td>0.6422209937964498</td>\n      <td>0.8408524326497788</td>\n    </tr>\n  </tbody>\n</table>\n</div>"
     },
     "metadata": {},
     "execution_count": 26
    }
   ],
   "source": [
    "APlessthan50=APlessthan50.sort_values('Frequent Itemset(AUB)',ascending=False).reset_index(drop=True)\n",
    "APlessthan50.drop(columns=['From length']).astype(str)"
   ]
  },
  {
   "cell_type": "code",
   "execution_count": 28,
   "metadata": {},
   "outputs": [
    {
     "output_type": "stream",
     "name": "stdout",
     "text": [
      "(19, 10)\n(19, 10)\n"
     ]
    }
   ],
   "source": [
    "Test=APlessthan50\n",
    "Test.index\n",
    "print(Test.shape)\n",
    "Test.sort_values(by=['Frequent Itemset(AUB)','From length'],inplace=True)\n",
    "Test.drop_duplicates(subset='Frequent Itemset(AUB)',inplace=True)\n",
    "print(Test.shape)"
   ]
  },
  {
   "cell_type": "code",
   "execution_count": 29,
   "metadata": {},
   "outputs": [
    {
     "output_type": "execute_result",
     "data": {
      "text/plain": [
       "             Frequent Itemset(AUB)                  From(A)     To(B)  \\\n",
       "0         [capital_gain_1, <=50K.]         [capital_gain_1]  [<=50K.]   \n",
       "1                [Private, <=50K.]                [Private]  [<=50K.]   \n",
       "2          [United-States, <=50K.]          [United-States]  [<=50K.]   \n",
       "3  [White, <=50K., capital_loss_1]  [White, capital_loss_1]  [<=50K.]   \n",
       "4  [White, capital_gain_1, <=50K.]  [White, capital_gain_1]  [<=50K.]   \n",
       "\n",
       "   Confident Number(num of A)  Support Number(num of AUB)  \\\n",
       "0                       14958                       11926   \n",
       "1                       11210                        8786   \n",
       "2                       14662                       11139   \n",
       "3                       13272                       10121   \n",
       "4                       12777                       10024   \n",
       "\n",
       "   Support Number(num of B)  Confidence   Support      Lift  From length  \n",
       "0                     12435    0.797299  0.732510  0.959067            1  \n",
       "1                     12435    0.783764  0.539647  0.706554            1  \n",
       "2                     12435    0.759719  0.684172  0.895778            1  \n",
       "3                     12435    0.762583  0.621645  0.813912            2  \n",
       "4                     12435    0.784535  0.615687  0.806112            2  "
      ],
      "text/html": "<div>\n<style scoped>\n    .dataframe tbody tr th:only-of-type {\n        vertical-align: middle;\n    }\n\n    .dataframe tbody tr th {\n        vertical-align: top;\n    }\n\n    .dataframe thead th {\n        text-align: right;\n    }\n</style>\n<table border=\"1\" class=\"dataframe\">\n  <thead>\n    <tr style=\"text-align: right;\">\n      <th></th>\n      <th>Frequent Itemset(AUB)</th>\n      <th>From(A)</th>\n      <th>To(B)</th>\n      <th>Confident Number(num of A)</th>\n      <th>Support Number(num of AUB)</th>\n      <th>Support Number(num of B)</th>\n      <th>Confidence</th>\n      <th>Support</th>\n      <th>Lift</th>\n      <th>From length</th>\n    </tr>\n  </thead>\n  <tbody>\n    <tr>\n      <th>0</th>\n      <td>[capital_gain_1, &lt;=50K.]</td>\n      <td>[capital_gain_1]</td>\n      <td>[&lt;=50K.]</td>\n      <td>14958</td>\n      <td>11926</td>\n      <td>12435</td>\n      <td>0.797299</td>\n      <td>0.732510</td>\n      <td>0.959067</td>\n      <td>1</td>\n    </tr>\n    <tr>\n      <th>1</th>\n      <td>[Private, &lt;=50K.]</td>\n      <td>[Private]</td>\n      <td>[&lt;=50K.]</td>\n      <td>11210</td>\n      <td>8786</td>\n      <td>12435</td>\n      <td>0.783764</td>\n      <td>0.539647</td>\n      <td>0.706554</td>\n      <td>1</td>\n    </tr>\n    <tr>\n      <th>2</th>\n      <td>[United-States, &lt;=50K.]</td>\n      <td>[United-States]</td>\n      <td>[&lt;=50K.]</td>\n      <td>14662</td>\n      <td>11139</td>\n      <td>12435</td>\n      <td>0.759719</td>\n      <td>0.684172</td>\n      <td>0.895778</td>\n      <td>1</td>\n    </tr>\n    <tr>\n      <th>3</th>\n      <td>[White, &lt;=50K., capital_loss_1]</td>\n      <td>[White, capital_loss_1]</td>\n      <td>[&lt;=50K.]</td>\n      <td>13272</td>\n      <td>10121</td>\n      <td>12435</td>\n      <td>0.762583</td>\n      <td>0.621645</td>\n      <td>0.813912</td>\n      <td>2</td>\n    </tr>\n    <tr>\n      <th>4</th>\n      <td>[White, capital_gain_1, &lt;=50K.]</td>\n      <td>[White, capital_gain_1]</td>\n      <td>[&lt;=50K.]</td>\n      <td>12777</td>\n      <td>10024</td>\n      <td>12435</td>\n      <td>0.784535</td>\n      <td>0.615687</td>\n      <td>0.806112</td>\n      <td>2</td>\n    </tr>\n  </tbody>\n</table>\n</div>"
     },
     "metadata": {},
     "execution_count": 29
    }
   ],
   "source": [
    "for col in ['Frequent Itemset(AUB)','From(A)','To(B)']:\n",
    "    newcol=[]\n",
    "    newcol=[list(i) for i in Test[col]]\n",
    "    Test[col]=newcol\n",
    "Test.reset_index(drop=True,inplace=True)\n",
    "#Test.drop(columns=['From length']).astype(str).to_csv('Below 50K.csv')\n",
    "Test.head()"
   ]
  },
  {
   "cell_type": "code",
   "execution_count": 31,
   "metadata": {},
   "outputs": [
    {
     "output_type": "display_data",
     "data": {
      "text/plain": "<Figure size 720x576 with 1 Axes>",
      "image/svg+xml": "<?xml version=\"1.0\" encoding=\"utf-8\" standalone=\"no\"?>\n<!DOCTYPE svg PUBLIC \"-//W3C//DTD SVG 1.1//EN\"\n  \"http://www.w3.org/Graphics/SVG/1.1/DTD/svg11.dtd\">\n<!-- Created with matplotlib (https://matplotlib.org/) -->\n<svg height=\"466.23625pt\" version=\"1.1\" viewBox=\"0 0 592.125 466.23625\" width=\"592.125pt\" xmlns=\"http://www.w3.org/2000/svg\" xmlns:xlink=\"http://www.w3.org/1999/xlink\">\n <metadata>\n  <rdf:RDF xmlns:cc=\"http://creativecommons.org/ns#\" xmlns:dc=\"http://purl.org/dc/elements/1.1/\" xmlns:rdf=\"http://www.w3.org/1999/02/22-rdf-syntax-ns#\">\n   <cc:Work>\n    <dc:type rdf:resource=\"http://purl.org/dc/dcmitype/StillImage\"/>\n    <dc:date>2020-10-15T00:34:28.492279</dc:date>\n    <dc:format>image/svg+xml</dc:format>\n    <dc:creator>\n     <cc:Agent>\n      <dc:title>Matplotlib v3.3.1, https://matplotlib.org/</dc:title>\n     </cc:Agent>\n    </dc:creator>\n   </cc:Work>\n  </rdf:RDF>\n </metadata>\n <defs>\n  <style type=\"text/css\">*{stroke-linecap:butt;stroke-linejoin:round;}</style>\n </defs>\n <g id=\"figure_1\">\n  <g id=\"patch_1\">\n   <path d=\"M 0 466.23625 \nL 592.125 466.23625 \nL 592.125 0 \nL 0 0 \nz\n\" style=\"fill:none;\"/>\n  </g>\n  <g id=\"axes_1\">\n   <g id=\"patch_2\">\n    <path d=\"M 26.925 442.08 \nL 584.925 442.08 \nL 584.925 7.2 \nL 26.925 7.2 \nz\n\" style=\"fill:#ffffff;\"/>\n   </g>\n   <g id=\"patch_3\">\n    <path clip-path=\"url(#pbd3b959a0b)\" d=\"M 52.288636 442.08 \nL 136.834091 442.08 \nL 136.834091 27.908571 \nL 52.288636 27.908571 \nz\n\" style=\"fill:#1f77b4;\"/>\n   </g>\n   <g id=\"patch_4\">\n    <path clip-path=\"url(#pbd3b959a0b)\" d=\"M 157.970455 442.08 \nL 242.515909 442.08 \nL 242.515909 276.411429 \nL 157.970455 276.411429 \nz\n\" style=\"fill:#1f77b4;\"/>\n   </g>\n   <g id=\"patch_5\">\n    <path clip-path=\"url(#pbd3b959a0b)\" d=\"M 263.652273 442.08 \nL 348.197727 442.08 \nL 348.197727 110.742857 \nL 263.652273 110.742857 \nz\n\" style=\"fill:#1f77b4;\"/>\n   </g>\n   <g id=\"patch_6\">\n    <path clip-path=\"url(#pbd3b959a0b)\" d=\"M 369.334091 442.08 \nL 453.879545 442.08 \nL 453.879545 110.742857 \nL 369.334091 110.742857 \nz\n\" style=\"fill:#1f77b4;\"/>\n   </g>\n   <g id=\"patch_7\">\n    <path clip-path=\"url(#pbd3b959a0b)\" d=\"M 475.015909 442.08 \nL 559.561364 442.08 \nL 559.561364 27.908571 \nL 475.015909 27.908571 \nz\n\" style=\"fill:#1f77b4;\"/>\n   </g>\n   <g id=\"matplotlib.axis_1\">\n    <g id=\"xtick_1\">\n     <g id=\"line2d_1\">\n      <defs>\n       <path d=\"M 0 0 \nL 0 3.5 \n\" id=\"mc57161ecec\" style=\"stroke:#000000;stroke-width:0.8;\"/>\n      </defs>\n      <g>\n       <use style=\"stroke:#000000;stroke-width:0.8;\" x=\"94.561364\" xlink:href=\"#mc57161ecec\" y=\"442.08\"/>\n      </g>\n     </g>\n     <g id=\"text_1\">\n      <!-- capital_gain_1 -->\n      <g transform=\"translate(58.794176 456.678437)scale(0.1 -0.1)\">\n       <defs>\n        <path d=\"M 48.78125 52.59375 \nL 48.78125 44.1875 \nQ 44.96875 46.296875 41.140625 47.34375 \nQ 37.3125 48.390625 33.40625 48.390625 \nQ 24.65625 48.390625 19.8125 42.84375 \nQ 14.984375 37.3125 14.984375 27.296875 \nQ 14.984375 17.28125 19.8125 11.734375 \nQ 24.65625 6.203125 33.40625 6.203125 \nQ 37.3125 6.203125 41.140625 7.25 \nQ 44.96875 8.296875 48.78125 10.40625 \nL 48.78125 2.09375 \nQ 45.015625 0.34375 40.984375 -0.53125 \nQ 36.96875 -1.421875 32.421875 -1.421875 \nQ 20.0625 -1.421875 12.78125 6.34375 \nQ 5.515625 14.109375 5.515625 27.296875 \nQ 5.515625 40.671875 12.859375 48.328125 \nQ 20.21875 56 33.015625 56 \nQ 37.15625 56 41.109375 55.140625 \nQ 45.0625 54.296875 48.78125 52.59375 \nz\n\" id=\"DejaVuSans-99\"/>\n        <path d=\"M 34.28125 27.484375 \nQ 23.390625 27.484375 19.1875 25 \nQ 14.984375 22.515625 14.984375 16.5 \nQ 14.984375 11.71875 18.140625 8.90625 \nQ 21.296875 6.109375 26.703125 6.109375 \nQ 34.1875 6.109375 38.703125 11.40625 \nQ 43.21875 16.703125 43.21875 25.484375 \nL 43.21875 27.484375 \nz\nM 52.203125 31.203125 \nL 52.203125 0 \nL 43.21875 0 \nL 43.21875 8.296875 \nQ 40.140625 3.328125 35.546875 0.953125 \nQ 30.953125 -1.421875 24.3125 -1.421875 \nQ 15.921875 -1.421875 10.953125 3.296875 \nQ 6 8.015625 6 15.921875 \nQ 6 25.140625 12.171875 29.828125 \nQ 18.359375 34.515625 30.609375 34.515625 \nL 43.21875 34.515625 \nL 43.21875 35.40625 \nQ 43.21875 41.609375 39.140625 45 \nQ 35.0625 48.390625 27.6875 48.390625 \nQ 23 48.390625 18.546875 47.265625 \nQ 14.109375 46.140625 10.015625 43.890625 \nL 10.015625 52.203125 \nQ 14.9375 54.109375 19.578125 55.046875 \nQ 24.21875 56 28.609375 56 \nQ 40.484375 56 46.34375 49.84375 \nQ 52.203125 43.703125 52.203125 31.203125 \nz\n\" id=\"DejaVuSans-97\"/>\n        <path d=\"M 18.109375 8.203125 \nL 18.109375 -20.796875 \nL 9.078125 -20.796875 \nL 9.078125 54.6875 \nL 18.109375 54.6875 \nL 18.109375 46.390625 \nQ 20.953125 51.265625 25.265625 53.625 \nQ 29.59375 56 35.59375 56 \nQ 45.5625 56 51.78125 48.09375 \nQ 58.015625 40.1875 58.015625 27.296875 \nQ 58.015625 14.40625 51.78125 6.484375 \nQ 45.5625 -1.421875 35.59375 -1.421875 \nQ 29.59375 -1.421875 25.265625 0.953125 \nQ 20.953125 3.328125 18.109375 8.203125 \nz\nM 48.6875 27.296875 \nQ 48.6875 37.203125 44.609375 42.84375 \nQ 40.53125 48.484375 33.40625 48.484375 \nQ 26.265625 48.484375 22.1875 42.84375 \nQ 18.109375 37.203125 18.109375 27.296875 \nQ 18.109375 17.390625 22.1875 11.75 \nQ 26.265625 6.109375 33.40625 6.109375 \nQ 40.53125 6.109375 44.609375 11.75 \nQ 48.6875 17.390625 48.6875 27.296875 \nz\n\" id=\"DejaVuSans-112\"/>\n        <path d=\"M 9.421875 54.6875 \nL 18.40625 54.6875 \nL 18.40625 0 \nL 9.421875 0 \nz\nM 9.421875 75.984375 \nL 18.40625 75.984375 \nL 18.40625 64.59375 \nL 9.421875 64.59375 \nz\n\" id=\"DejaVuSans-105\"/>\n        <path d=\"M 18.3125 70.21875 \nL 18.3125 54.6875 \nL 36.8125 54.6875 \nL 36.8125 47.703125 \nL 18.3125 47.703125 \nL 18.3125 18.015625 \nQ 18.3125 11.328125 20.140625 9.421875 \nQ 21.96875 7.515625 27.59375 7.515625 \nL 36.8125 7.515625 \nL 36.8125 0 \nL 27.59375 0 \nQ 17.1875 0 13.234375 3.875 \nQ 9.28125 7.765625 9.28125 18.015625 \nL 9.28125 47.703125 \nL 2.6875 47.703125 \nL 2.6875 54.6875 \nL 9.28125 54.6875 \nL 9.28125 70.21875 \nz\n\" id=\"DejaVuSans-116\"/>\n        <path d=\"M 9.421875 75.984375 \nL 18.40625 75.984375 \nL 18.40625 0 \nL 9.421875 0 \nz\n\" id=\"DejaVuSans-108\"/>\n        <path d=\"M 50.984375 -16.609375 \nL 50.984375 -23.578125 \nL -0.984375 -23.578125 \nL -0.984375 -16.609375 \nz\n\" id=\"DejaVuSans-95\"/>\n        <path d=\"M 45.40625 27.984375 \nQ 45.40625 37.75 41.375 43.109375 \nQ 37.359375 48.484375 30.078125 48.484375 \nQ 22.859375 48.484375 18.828125 43.109375 \nQ 14.796875 37.75 14.796875 27.984375 \nQ 14.796875 18.265625 18.828125 12.890625 \nQ 22.859375 7.515625 30.078125 7.515625 \nQ 37.359375 7.515625 41.375 12.890625 \nQ 45.40625 18.265625 45.40625 27.984375 \nz\nM 54.390625 6.78125 \nQ 54.390625 -7.171875 48.1875 -13.984375 \nQ 42 -20.796875 29.203125 -20.796875 \nQ 24.46875 -20.796875 20.265625 -20.09375 \nQ 16.0625 -19.390625 12.109375 -17.921875 \nL 12.109375 -9.1875 \nQ 16.0625 -11.328125 19.921875 -12.34375 \nQ 23.78125 -13.375 27.78125 -13.375 \nQ 36.625 -13.375 41.015625 -8.765625 \nQ 45.40625 -4.15625 45.40625 5.171875 \nL 45.40625 9.625 \nQ 42.625 4.78125 38.28125 2.390625 \nQ 33.9375 0 27.875 0 \nQ 17.828125 0 11.671875 7.65625 \nQ 5.515625 15.328125 5.515625 27.984375 \nQ 5.515625 40.671875 11.671875 48.328125 \nQ 17.828125 56 27.875 56 \nQ 33.9375 56 38.28125 53.609375 \nQ 42.625 51.21875 45.40625 46.390625 \nL 45.40625 54.6875 \nL 54.390625 54.6875 \nz\n\" id=\"DejaVuSans-103\"/>\n        <path d=\"M 54.890625 33.015625 \nL 54.890625 0 \nL 45.90625 0 \nL 45.90625 32.71875 \nQ 45.90625 40.484375 42.875 44.328125 \nQ 39.84375 48.1875 33.796875 48.1875 \nQ 26.515625 48.1875 22.3125 43.546875 \nQ 18.109375 38.921875 18.109375 30.90625 \nL 18.109375 0 \nL 9.078125 0 \nL 9.078125 54.6875 \nL 18.109375 54.6875 \nL 18.109375 46.1875 \nQ 21.34375 51.125 25.703125 53.5625 \nQ 30.078125 56 35.796875 56 \nQ 45.21875 56 50.046875 50.171875 \nQ 54.890625 44.34375 54.890625 33.015625 \nz\n\" id=\"DejaVuSans-110\"/>\n        <path d=\"M 12.40625 8.296875 \nL 28.515625 8.296875 \nL 28.515625 63.921875 \nL 10.984375 60.40625 \nL 10.984375 69.390625 \nL 28.421875 72.90625 \nL 38.28125 72.90625 \nL 38.28125 8.296875 \nL 54.390625 8.296875 \nL 54.390625 0 \nL 12.40625 0 \nz\n\" id=\"DejaVuSans-49\"/>\n       </defs>\n       <use xlink:href=\"#DejaVuSans-99\"/>\n       <use x=\"54.980469\" xlink:href=\"#DejaVuSans-97\"/>\n       <use x=\"116.259766\" xlink:href=\"#DejaVuSans-112\"/>\n       <use x=\"179.736328\" xlink:href=\"#DejaVuSans-105\"/>\n       <use x=\"207.519531\" xlink:href=\"#DejaVuSans-116\"/>\n       <use x=\"246.728516\" xlink:href=\"#DejaVuSans-97\"/>\n       <use x=\"308.007812\" xlink:href=\"#DejaVuSans-108\"/>\n       <use x=\"335.791016\" xlink:href=\"#DejaVuSans-95\"/>\n       <use x=\"385.791016\" xlink:href=\"#DejaVuSans-103\"/>\n       <use x=\"449.267578\" xlink:href=\"#DejaVuSans-97\"/>\n       <use x=\"510.546875\" xlink:href=\"#DejaVuSans-105\"/>\n       <use x=\"538.330078\" xlink:href=\"#DejaVuSans-110\"/>\n       <use x=\"601.708984\" xlink:href=\"#DejaVuSans-95\"/>\n       <use x=\"651.708984\" xlink:href=\"#DejaVuSans-49\"/>\n      </g>\n     </g>\n    </g>\n    <g id=\"xtick_2\">\n     <g id=\"line2d_2\">\n      <g>\n       <use style=\"stroke:#000000;stroke-width:0.8;\" x=\"200.243182\" xlink:href=\"#mc57161ecec\" y=\"442.08\"/>\n      </g>\n     </g>\n     <g id=\"text_2\">\n      <!-- Private -->\n      <g transform=\"translate(182.811151 456.678437)scale(0.1 -0.1)\">\n       <defs>\n        <path d=\"M 19.671875 64.796875 \nL 19.671875 37.40625 \nL 32.078125 37.40625 \nQ 38.96875 37.40625 42.71875 40.96875 \nQ 46.484375 44.53125 46.484375 51.125 \nQ 46.484375 57.671875 42.71875 61.234375 \nQ 38.96875 64.796875 32.078125 64.796875 \nz\nM 9.8125 72.90625 \nL 32.078125 72.90625 \nQ 44.34375 72.90625 50.609375 67.359375 \nQ 56.890625 61.8125 56.890625 51.125 \nQ 56.890625 40.328125 50.609375 34.8125 \nQ 44.34375 29.296875 32.078125 29.296875 \nL 19.671875 29.296875 \nL 19.671875 0 \nL 9.8125 0 \nz\n\" id=\"DejaVuSans-80\"/>\n        <path d=\"M 41.109375 46.296875 \nQ 39.59375 47.171875 37.8125 47.578125 \nQ 36.03125 48 33.890625 48 \nQ 26.265625 48 22.1875 43.046875 \nQ 18.109375 38.09375 18.109375 28.8125 \nL 18.109375 0 \nL 9.078125 0 \nL 9.078125 54.6875 \nL 18.109375 54.6875 \nL 18.109375 46.1875 \nQ 20.953125 51.171875 25.484375 53.578125 \nQ 30.03125 56 36.53125 56 \nQ 37.453125 56 38.578125 55.875 \nQ 39.703125 55.765625 41.0625 55.515625 \nz\n\" id=\"DejaVuSans-114\"/>\n        <path d=\"M 2.984375 54.6875 \nL 12.5 54.6875 \nL 29.59375 8.796875 \nL 46.6875 54.6875 \nL 56.203125 54.6875 \nL 35.6875 0 \nL 23.484375 0 \nz\n\" id=\"DejaVuSans-118\"/>\n        <path d=\"M 56.203125 29.59375 \nL 56.203125 25.203125 \nL 14.890625 25.203125 \nQ 15.484375 15.921875 20.484375 11.0625 \nQ 25.484375 6.203125 34.421875 6.203125 \nQ 39.59375 6.203125 44.453125 7.46875 \nQ 49.3125 8.734375 54.109375 11.28125 \nL 54.109375 2.78125 \nQ 49.265625 0.734375 44.1875 -0.34375 \nQ 39.109375 -1.421875 33.890625 -1.421875 \nQ 20.796875 -1.421875 13.15625 6.1875 \nQ 5.515625 13.8125 5.515625 26.8125 \nQ 5.515625 40.234375 12.765625 48.109375 \nQ 20.015625 56 32.328125 56 \nQ 43.359375 56 49.78125 48.890625 \nQ 56.203125 41.796875 56.203125 29.59375 \nz\nM 47.21875 32.234375 \nQ 47.125 39.59375 43.09375 43.984375 \nQ 39.0625 48.390625 32.421875 48.390625 \nQ 24.90625 48.390625 20.390625 44.140625 \nQ 15.875 39.890625 15.1875 32.171875 \nz\n\" id=\"DejaVuSans-101\"/>\n       </defs>\n       <use xlink:href=\"#DejaVuSans-80\"/>\n       <use x=\"58.552734\" xlink:href=\"#DejaVuSans-114\"/>\n       <use x=\"99.666016\" xlink:href=\"#DejaVuSans-105\"/>\n       <use x=\"127.449219\" xlink:href=\"#DejaVuSans-118\"/>\n       <use x=\"186.628906\" xlink:href=\"#DejaVuSans-97\"/>\n       <use x=\"247.908203\" xlink:href=\"#DejaVuSans-116\"/>\n       <use x=\"287.117188\" xlink:href=\"#DejaVuSans-101\"/>\n      </g>\n     </g>\n    </g>\n    <g id=\"xtick_3\">\n     <g id=\"line2d_3\">\n      <g>\n       <use style=\"stroke:#000000;stroke-width:0.8;\" x=\"305.925\" xlink:href=\"#mc57161ecec\" y=\"442.08\"/>\n      </g>\n     </g>\n     <g id=\"text_3\">\n      <!-- United-States -->\n      <g transform=\"translate(271.853125 456.678437)scale(0.1 -0.1)\">\n       <defs>\n        <path d=\"M 8.6875 72.90625 \nL 18.609375 72.90625 \nL 18.609375 28.609375 \nQ 18.609375 16.890625 22.84375 11.734375 \nQ 27.09375 6.59375 36.625 6.59375 \nQ 46.09375 6.59375 50.34375 11.734375 \nQ 54.59375 16.890625 54.59375 28.609375 \nL 54.59375 72.90625 \nL 64.5 72.90625 \nL 64.5 27.390625 \nQ 64.5 13.140625 57.4375 5.859375 \nQ 50.390625 -1.421875 36.625 -1.421875 \nQ 22.796875 -1.421875 15.734375 5.859375 \nQ 8.6875 13.140625 8.6875 27.390625 \nz\n\" id=\"DejaVuSans-85\"/>\n        <path d=\"M 45.40625 46.390625 \nL 45.40625 75.984375 \nL 54.390625 75.984375 \nL 54.390625 0 \nL 45.40625 0 \nL 45.40625 8.203125 \nQ 42.578125 3.328125 38.25 0.953125 \nQ 33.9375 -1.421875 27.875 -1.421875 \nQ 17.96875 -1.421875 11.734375 6.484375 \nQ 5.515625 14.40625 5.515625 27.296875 \nQ 5.515625 40.1875 11.734375 48.09375 \nQ 17.96875 56 27.875 56 \nQ 33.9375 56 38.25 53.625 \nQ 42.578125 51.265625 45.40625 46.390625 \nz\nM 14.796875 27.296875 \nQ 14.796875 17.390625 18.875 11.75 \nQ 22.953125 6.109375 30.078125 6.109375 \nQ 37.203125 6.109375 41.296875 11.75 \nQ 45.40625 17.390625 45.40625 27.296875 \nQ 45.40625 37.203125 41.296875 42.84375 \nQ 37.203125 48.484375 30.078125 48.484375 \nQ 22.953125 48.484375 18.875 42.84375 \nQ 14.796875 37.203125 14.796875 27.296875 \nz\n\" id=\"DejaVuSans-100\"/>\n        <path d=\"M 4.890625 31.390625 \nL 31.203125 31.390625 \nL 31.203125 23.390625 \nL 4.890625 23.390625 \nz\n\" id=\"DejaVuSans-45\"/>\n        <path d=\"M 53.515625 70.515625 \nL 53.515625 60.890625 \nQ 47.90625 63.578125 42.921875 64.890625 \nQ 37.9375 66.21875 33.296875 66.21875 \nQ 25.25 66.21875 20.875 63.09375 \nQ 16.5 59.96875 16.5 54.203125 \nQ 16.5 49.359375 19.40625 46.890625 \nQ 22.3125 44.4375 30.421875 42.921875 \nL 36.375 41.703125 \nQ 47.40625 39.59375 52.65625 34.296875 \nQ 57.90625 29 57.90625 20.125 \nQ 57.90625 9.515625 50.796875 4.046875 \nQ 43.703125 -1.421875 29.984375 -1.421875 \nQ 24.8125 -1.421875 18.96875 -0.25 \nQ 13.140625 0.921875 6.890625 3.21875 \nL 6.890625 13.375 \nQ 12.890625 10.015625 18.65625 8.296875 \nQ 24.421875 6.59375 29.984375 6.59375 \nQ 38.421875 6.59375 43.015625 9.90625 \nQ 47.609375 13.234375 47.609375 19.390625 \nQ 47.609375 24.75 44.3125 27.78125 \nQ 41.015625 30.8125 33.5 32.328125 \nL 27.484375 33.5 \nQ 16.453125 35.6875 11.515625 40.375 \nQ 6.59375 45.0625 6.59375 53.421875 \nQ 6.59375 63.09375 13.40625 68.65625 \nQ 20.21875 74.21875 32.171875 74.21875 \nQ 37.3125 74.21875 42.625 73.28125 \nQ 47.953125 72.359375 53.515625 70.515625 \nz\n\" id=\"DejaVuSans-83\"/>\n        <path d=\"M 44.28125 53.078125 \nL 44.28125 44.578125 \nQ 40.484375 46.53125 36.375 47.5 \nQ 32.28125 48.484375 27.875 48.484375 \nQ 21.1875 48.484375 17.84375 46.4375 \nQ 14.5 44.390625 14.5 40.28125 \nQ 14.5 37.15625 16.890625 35.375 \nQ 19.28125 33.59375 26.515625 31.984375 \nL 29.59375 31.296875 \nQ 39.15625 29.25 43.1875 25.515625 \nQ 47.21875 21.78125 47.21875 15.09375 \nQ 47.21875 7.46875 41.1875 3.015625 \nQ 35.15625 -1.421875 24.609375 -1.421875 \nQ 20.21875 -1.421875 15.453125 -0.5625 \nQ 10.6875 0.296875 5.421875 2 \nL 5.421875 11.28125 \nQ 10.40625 8.6875 15.234375 7.390625 \nQ 20.0625 6.109375 24.8125 6.109375 \nQ 31.15625 6.109375 34.5625 8.28125 \nQ 37.984375 10.453125 37.984375 14.40625 \nQ 37.984375 18.0625 35.515625 20.015625 \nQ 33.0625 21.96875 24.703125 23.78125 \nL 21.578125 24.515625 \nQ 13.234375 26.265625 9.515625 29.90625 \nQ 5.8125 33.546875 5.8125 39.890625 \nQ 5.8125 47.609375 11.28125 51.796875 \nQ 16.75 56 26.8125 56 \nQ 31.78125 56 36.171875 55.265625 \nQ 40.578125 54.546875 44.28125 53.078125 \nz\n\" id=\"DejaVuSans-115\"/>\n       </defs>\n       <use xlink:href=\"#DejaVuSans-85\"/>\n       <use x=\"73.193359\" xlink:href=\"#DejaVuSans-110\"/>\n       <use x=\"136.572266\" xlink:href=\"#DejaVuSans-105\"/>\n       <use x=\"164.355469\" xlink:href=\"#DejaVuSans-116\"/>\n       <use x=\"203.564453\" xlink:href=\"#DejaVuSans-101\"/>\n       <use x=\"265.087891\" xlink:href=\"#DejaVuSans-100\"/>\n       <use x=\"328.564453\" xlink:href=\"#DejaVuSans-45\"/>\n       <use x=\"364.648438\" xlink:href=\"#DejaVuSans-83\"/>\n       <use x=\"428.125\" xlink:href=\"#DejaVuSans-116\"/>\n       <use x=\"467.333984\" xlink:href=\"#DejaVuSans-97\"/>\n       <use x=\"528.613281\" xlink:href=\"#DejaVuSans-116\"/>\n       <use x=\"567.822266\" xlink:href=\"#DejaVuSans-101\"/>\n       <use x=\"629.345703\" xlink:href=\"#DejaVuSans-115\"/>\n      </g>\n     </g>\n    </g>\n    <g id=\"xtick_4\">\n     <g id=\"line2d_4\">\n      <g>\n       <use style=\"stroke:#000000;stroke-width:0.8;\" x=\"411.606818\" xlink:href=\"#mc57161ecec\" y=\"442.08\"/>\n      </g>\n     </g>\n     <g id=\"text_4\">\n      <!-- White -->\n      <g transform=\"translate(397.068537 456.678437)scale(0.1 -0.1)\">\n       <defs>\n        <path d=\"M 3.328125 72.90625 \nL 13.28125 72.90625 \nL 28.609375 11.28125 \nL 43.890625 72.90625 \nL 54.984375 72.90625 \nL 70.3125 11.28125 \nL 85.59375 72.90625 \nL 95.609375 72.90625 \nL 77.296875 0 \nL 64.890625 0 \nL 49.515625 63.28125 \nL 33.984375 0 \nL 21.578125 0 \nz\n\" id=\"DejaVuSans-87\"/>\n        <path d=\"M 54.890625 33.015625 \nL 54.890625 0 \nL 45.90625 0 \nL 45.90625 32.71875 \nQ 45.90625 40.484375 42.875 44.328125 \nQ 39.84375 48.1875 33.796875 48.1875 \nQ 26.515625 48.1875 22.3125 43.546875 \nQ 18.109375 38.921875 18.109375 30.90625 \nL 18.109375 0 \nL 9.078125 0 \nL 9.078125 75.984375 \nL 18.109375 75.984375 \nL 18.109375 46.1875 \nQ 21.34375 51.125 25.703125 53.5625 \nQ 30.078125 56 35.796875 56 \nQ 45.21875 56 50.046875 50.171875 \nQ 54.890625 44.34375 54.890625 33.015625 \nz\n\" id=\"DejaVuSans-104\"/>\n       </defs>\n       <use xlink:href=\"#DejaVuSans-87\"/>\n       <use x=\"98.876953\" xlink:href=\"#DejaVuSans-104\"/>\n       <use x=\"162.255859\" xlink:href=\"#DejaVuSans-105\"/>\n       <use x=\"190.039062\" xlink:href=\"#DejaVuSans-116\"/>\n       <use x=\"229.248047\" xlink:href=\"#DejaVuSans-101\"/>\n      </g>\n     </g>\n    </g>\n    <g id=\"xtick_5\">\n     <g id=\"line2d_5\">\n      <g>\n       <use style=\"stroke:#000000;stroke-width:0.8;\" x=\"517.288636\" xlink:href=\"#mc57161ecec\" y=\"442.08\"/>\n      </g>\n     </g>\n     <g id=\"text_5\">\n      <!-- capital_loss_1 -->\n      <g transform=\"translate(482.65973 456.678437)scale(0.1 -0.1)\">\n       <defs>\n        <path d=\"M 30.609375 48.390625 \nQ 23.390625 48.390625 19.1875 42.75 \nQ 14.984375 37.109375 14.984375 27.296875 \nQ 14.984375 17.484375 19.15625 11.84375 \nQ 23.34375 6.203125 30.609375 6.203125 \nQ 37.796875 6.203125 41.984375 11.859375 \nQ 46.1875 17.53125 46.1875 27.296875 \nQ 46.1875 37.015625 41.984375 42.703125 \nQ 37.796875 48.390625 30.609375 48.390625 \nz\nM 30.609375 56 \nQ 42.328125 56 49.015625 48.375 \nQ 55.71875 40.765625 55.71875 27.296875 \nQ 55.71875 13.875 49.015625 6.21875 \nQ 42.328125 -1.421875 30.609375 -1.421875 \nQ 18.84375 -1.421875 12.171875 6.21875 \nQ 5.515625 13.875 5.515625 27.296875 \nQ 5.515625 40.765625 12.171875 48.375 \nQ 18.84375 56 30.609375 56 \nz\n\" id=\"DejaVuSans-111\"/>\n       </defs>\n       <use xlink:href=\"#DejaVuSans-99\"/>\n       <use x=\"54.980469\" xlink:href=\"#DejaVuSans-97\"/>\n       <use x=\"116.259766\" xlink:href=\"#DejaVuSans-112\"/>\n       <use x=\"179.736328\" xlink:href=\"#DejaVuSans-105\"/>\n       <use x=\"207.519531\" xlink:href=\"#DejaVuSans-116\"/>\n       <use x=\"246.728516\" xlink:href=\"#DejaVuSans-97\"/>\n       <use x=\"308.007812\" xlink:href=\"#DejaVuSans-108\"/>\n       <use x=\"335.791016\" xlink:href=\"#DejaVuSans-95\"/>\n       <use x=\"385.791016\" xlink:href=\"#DejaVuSans-108\"/>\n       <use x=\"413.574219\" xlink:href=\"#DejaVuSans-111\"/>\n       <use x=\"474.755859\" xlink:href=\"#DejaVuSans-115\"/>\n       <use x=\"526.855469\" xlink:href=\"#DejaVuSans-115\"/>\n       <use x=\"578.955078\" xlink:href=\"#DejaVuSans-95\"/>\n       <use x=\"628.955078\" xlink:href=\"#DejaVuSans-49\"/>\n      </g>\n     </g>\n    </g>\n   </g>\n   <g id=\"matplotlib.axis_2\">\n    <g id=\"ytick_1\">\n     <g id=\"line2d_6\">\n      <defs>\n       <path d=\"M 0 0 \nL -3.5 0 \n\" id=\"m5f6a1edec3\" style=\"stroke:#000000;stroke-width:0.8;\"/>\n      </defs>\n      <g>\n       <use style=\"stroke:#000000;stroke-width:0.8;\" x=\"26.925\" xlink:href=\"#m5f6a1edec3\" y=\"442.08\"/>\n      </g>\n     </g>\n     <g id=\"text_6\">\n      <!-- 0 -->\n      <g transform=\"translate(13.5625 445.879219)scale(0.1 -0.1)\">\n       <defs>\n        <path d=\"M 31.78125 66.40625 \nQ 24.171875 66.40625 20.328125 58.90625 \nQ 16.5 51.421875 16.5 36.375 \nQ 16.5 21.390625 20.328125 13.890625 \nQ 24.171875 6.390625 31.78125 6.390625 \nQ 39.453125 6.390625 43.28125 13.890625 \nQ 47.125 21.390625 47.125 36.375 \nQ 47.125 51.421875 43.28125 58.90625 \nQ 39.453125 66.40625 31.78125 66.40625 \nz\nM 31.78125 74.21875 \nQ 44.046875 74.21875 50.515625 64.515625 \nQ 56.984375 54.828125 56.984375 36.375 \nQ 56.984375 17.96875 50.515625 8.265625 \nQ 44.046875 -1.421875 31.78125 -1.421875 \nQ 19.53125 -1.421875 13.0625 8.265625 \nQ 6.59375 17.96875 6.59375 36.375 \nQ 6.59375 54.828125 13.0625 64.515625 \nQ 19.53125 74.21875 31.78125 74.21875 \nz\n\" id=\"DejaVuSans-48\"/>\n       </defs>\n       <use xlink:href=\"#DejaVuSans-48\"/>\n      </g>\n     </g>\n    </g>\n    <g id=\"ytick_2\">\n     <g id=\"line2d_7\">\n      <g>\n       <use style=\"stroke:#000000;stroke-width:0.8;\" x=\"26.925\" xlink:href=\"#m5f6a1edec3\" y=\"359.245714\"/>\n      </g>\n     </g>\n     <g id=\"text_7\">\n      <!-- 2 -->\n      <g transform=\"translate(13.5625 363.044933)scale(0.1 -0.1)\">\n       <defs>\n        <path d=\"M 19.1875 8.296875 \nL 53.609375 8.296875 \nL 53.609375 0 \nL 7.328125 0 \nL 7.328125 8.296875 \nQ 12.9375 14.109375 22.625 23.890625 \nQ 32.328125 33.6875 34.8125 36.53125 \nQ 39.546875 41.84375 41.421875 45.53125 \nQ 43.3125 49.21875 43.3125 52.78125 \nQ 43.3125 58.59375 39.234375 62.25 \nQ 35.15625 65.921875 28.609375 65.921875 \nQ 23.96875 65.921875 18.8125 64.3125 \nQ 13.671875 62.703125 7.8125 59.421875 \nL 7.8125 69.390625 \nQ 13.765625 71.78125 18.9375 73 \nQ 24.125 74.21875 28.421875 74.21875 \nQ 39.75 74.21875 46.484375 68.546875 \nQ 53.21875 62.890625 53.21875 53.421875 \nQ 53.21875 48.921875 51.53125 44.890625 \nQ 49.859375 40.875 45.40625 35.40625 \nQ 44.1875 33.984375 37.640625 27.21875 \nQ 31.109375 20.453125 19.1875 8.296875 \nz\n\" id=\"DejaVuSans-50\"/>\n       </defs>\n       <use xlink:href=\"#DejaVuSans-50\"/>\n      </g>\n     </g>\n    </g>\n    <g id=\"ytick_3\">\n     <g id=\"line2d_8\">\n      <g>\n       <use style=\"stroke:#000000;stroke-width:0.8;\" x=\"26.925\" xlink:href=\"#m5f6a1edec3\" y=\"276.411429\"/>\n      </g>\n     </g>\n     <g id=\"text_8\">\n      <!-- 4 -->\n      <g transform=\"translate(13.5625 280.210647)scale(0.1 -0.1)\">\n       <defs>\n        <path d=\"M 37.796875 64.3125 \nL 12.890625 25.390625 \nL 37.796875 25.390625 \nz\nM 35.203125 72.90625 \nL 47.609375 72.90625 \nL 47.609375 25.390625 \nL 58.015625 25.390625 \nL 58.015625 17.1875 \nL 47.609375 17.1875 \nL 47.609375 0 \nL 37.796875 0 \nL 37.796875 17.1875 \nL 4.890625 17.1875 \nL 4.890625 26.703125 \nz\n\" id=\"DejaVuSans-52\"/>\n       </defs>\n       <use xlink:href=\"#DejaVuSans-52\"/>\n      </g>\n     </g>\n    </g>\n    <g id=\"ytick_4\">\n     <g id=\"line2d_9\">\n      <g>\n       <use style=\"stroke:#000000;stroke-width:0.8;\" x=\"26.925\" xlink:href=\"#m5f6a1edec3\" y=\"193.577143\"/>\n      </g>\n     </g>\n     <g id=\"text_9\">\n      <!-- 6 -->\n      <g transform=\"translate(13.5625 197.376362)scale(0.1 -0.1)\">\n       <defs>\n        <path d=\"M 33.015625 40.375 \nQ 26.375 40.375 22.484375 35.828125 \nQ 18.609375 31.296875 18.609375 23.390625 \nQ 18.609375 15.53125 22.484375 10.953125 \nQ 26.375 6.390625 33.015625 6.390625 \nQ 39.65625 6.390625 43.53125 10.953125 \nQ 47.40625 15.53125 47.40625 23.390625 \nQ 47.40625 31.296875 43.53125 35.828125 \nQ 39.65625 40.375 33.015625 40.375 \nz\nM 52.59375 71.296875 \nL 52.59375 62.3125 \nQ 48.875 64.0625 45.09375 64.984375 \nQ 41.3125 65.921875 37.59375 65.921875 \nQ 27.828125 65.921875 22.671875 59.328125 \nQ 17.53125 52.734375 16.796875 39.40625 \nQ 19.671875 43.65625 24.015625 45.921875 \nQ 28.375 48.1875 33.59375 48.1875 \nQ 44.578125 48.1875 50.953125 41.515625 \nQ 57.328125 34.859375 57.328125 23.390625 \nQ 57.328125 12.15625 50.6875 5.359375 \nQ 44.046875 -1.421875 33.015625 -1.421875 \nQ 20.359375 -1.421875 13.671875 8.265625 \nQ 6.984375 17.96875 6.984375 36.375 \nQ 6.984375 53.65625 15.1875 63.9375 \nQ 23.390625 74.21875 37.203125 74.21875 \nQ 40.921875 74.21875 44.703125 73.484375 \nQ 48.484375 72.75 52.59375 71.296875 \nz\n\" id=\"DejaVuSans-54\"/>\n       </defs>\n       <use xlink:href=\"#DejaVuSans-54\"/>\n      </g>\n     </g>\n    </g>\n    <g id=\"ytick_5\">\n     <g id=\"line2d_10\">\n      <g>\n       <use style=\"stroke:#000000;stroke-width:0.8;\" x=\"26.925\" xlink:href=\"#m5f6a1edec3\" y=\"110.742857\"/>\n      </g>\n     </g>\n     <g id=\"text_10\">\n      <!-- 8 -->\n      <g transform=\"translate(13.5625 114.542076)scale(0.1 -0.1)\">\n       <defs>\n        <path d=\"M 31.78125 34.625 \nQ 24.75 34.625 20.71875 30.859375 \nQ 16.703125 27.09375 16.703125 20.515625 \nQ 16.703125 13.921875 20.71875 10.15625 \nQ 24.75 6.390625 31.78125 6.390625 \nQ 38.8125 6.390625 42.859375 10.171875 \nQ 46.921875 13.96875 46.921875 20.515625 \nQ 46.921875 27.09375 42.890625 30.859375 \nQ 38.875 34.625 31.78125 34.625 \nz\nM 21.921875 38.8125 \nQ 15.578125 40.375 12.03125 44.71875 \nQ 8.5 49.078125 8.5 55.328125 \nQ 8.5 64.0625 14.71875 69.140625 \nQ 20.953125 74.21875 31.78125 74.21875 \nQ 42.671875 74.21875 48.875 69.140625 \nQ 55.078125 64.0625 55.078125 55.328125 \nQ 55.078125 49.078125 51.53125 44.71875 \nQ 48 40.375 41.703125 38.8125 \nQ 48.828125 37.15625 52.796875 32.3125 \nQ 56.78125 27.484375 56.78125 20.515625 \nQ 56.78125 9.90625 50.3125 4.234375 \nQ 43.84375 -1.421875 31.78125 -1.421875 \nQ 19.734375 -1.421875 13.25 4.234375 \nQ 6.78125 9.90625 6.78125 20.515625 \nQ 6.78125 27.484375 10.78125 32.3125 \nQ 14.796875 37.15625 21.921875 38.8125 \nz\nM 18.3125 54.390625 \nQ 18.3125 48.734375 21.84375 45.5625 \nQ 25.390625 42.390625 31.78125 42.390625 \nQ 38.140625 42.390625 41.71875 45.5625 \nQ 45.3125 48.734375 45.3125 54.390625 \nQ 45.3125 60.0625 41.71875 63.234375 \nQ 38.140625 66.40625 31.78125 66.40625 \nQ 25.390625 66.40625 21.84375 63.234375 \nQ 18.3125 60.0625 18.3125 54.390625 \nz\n\" id=\"DejaVuSans-56\"/>\n       </defs>\n       <use xlink:href=\"#DejaVuSans-56\"/>\n      </g>\n     </g>\n    </g>\n    <g id=\"ytick_6\">\n     <g id=\"line2d_11\">\n      <g>\n       <use style=\"stroke:#000000;stroke-width:0.8;\" x=\"26.925\" xlink:href=\"#m5f6a1edec3\" y=\"27.908571\"/>\n      </g>\n     </g>\n     <g id=\"text_11\">\n      <!-- 10 -->\n      <g transform=\"translate(7.2 31.70779)scale(0.1 -0.1)\">\n       <use xlink:href=\"#DejaVuSans-49\"/>\n       <use x=\"63.623047\" xlink:href=\"#DejaVuSans-48\"/>\n      </g>\n     </g>\n    </g>\n   </g>\n   <g id=\"patch_8\">\n    <path d=\"M 26.925 442.08 \nL 26.925 7.2 \n\" style=\"fill:none;stroke:#000000;stroke-linecap:square;stroke-linejoin:miter;stroke-width:0.8;\"/>\n   </g>\n   <g id=\"patch_9\">\n    <path d=\"M 584.925 442.08 \nL 584.925 7.2 \n\" style=\"fill:none;stroke:#000000;stroke-linecap:square;stroke-linejoin:miter;stroke-width:0.8;\"/>\n   </g>\n   <g id=\"patch_10\">\n    <path d=\"M 26.925 442.08 \nL 584.925 442.08 \n\" style=\"fill:none;stroke:#000000;stroke-linecap:square;stroke-linejoin:miter;stroke-width:0.8;\"/>\n   </g>\n   <g id=\"patch_11\">\n    <path d=\"M 26.925 7.2 \nL 584.925 7.2 \n\" style=\"fill:none;stroke:#000000;stroke-linecap:square;stroke-linejoin:miter;stroke-width:0.8;\"/>\n   </g>\n  </g>\n </g>\n <defs>\n  <clipPath id=\"pbd3b959a0b\">\n   <rect height=\"434.88\" width=\"558\" x=\"26.925\" y=\"7.2\"/>\n  </clipPath>\n </defs>\n</svg>\n",
      "image/png": "[encoded data removed]"
     },
     "metadata": {
      "needs_background": "light"
     }
    }
   ],
   "source": [
    "Reason=[list(i) for i in Test['From(A)']]\n",
    "Reason_bar={}\n",
    "for i in Reason:\n",
    "    for ii in i:\n",
    "        Reason_bar[ii]=Reason_bar.get(ii,0)+1\n",
    "\n",
    "f = plt.figure(figsize=(10,8))\n",
    "plt.bar(Reason_bar.keys(),Reason_bar.values())\n",
    "plt.show()"
   ]
  },
  {
   "source": [
    "### for larger than 50 K\n"
   ],
   "cell_type": "markdown",
   "metadata": {}
  },
  {
   "cell_type": "code",
   "execution_count": 31,
   "metadata": {},
   "outputs": [
    {
     "output_type": "execute_result",
     "data": {
      "text/plain": [
       "                  Frequent itemset            From                    To  \\\n",
       "40          (United-States, >50K.)         (>50K.)       (United-States)   \n",
       "41     (Married-civ-spouse, >50K.)         (>50K.)  (Married-civ-spouse)   \n",
       "42                  (White, >50K.)         (>50K.)               (White)   \n",
       "43         (capital_loss_1, >50K.)         (>50K.)      (capital_loss_1)   \n",
       "530  (United-States, White, >50K.)  (White, >50K.)       (United-States)   \n",
       "\n",
       "     Confident number  Support Number  Confidence   Support      Lift  \n",
       "40               3846            3523    0.916017  0.216387  4.233229  \n",
       "41               3846            3292    0.855954  0.202199  4.233229  \n",
       "42               3846            3490    0.907436  0.214360  4.233229  \n",
       "43               3846            3475    0.903536  0.213439  4.233229  \n",
       "530              3490            3288    0.942120  0.201953  4.665043  "
      ],
      "text/html": "<div>\n<style scoped>\n    .dataframe tbody tr th:only-of-type {\n        vertical-align: middle;\n    }\n\n    .dataframe tbody tr th {\n        vertical-align: top;\n    }\n\n    .dataframe thead th {\n        text-align: right;\n    }\n</style>\n<table border=\"1\" class=\"dataframe\">\n  <thead>\n    <tr style=\"text-align: right;\">\n      <th></th>\n      <th>Frequent itemset</th>\n      <th>From</th>\n      <th>To</th>\n      <th>Confident number</th>\n      <th>Support Number</th>\n      <th>Confidence</th>\n      <th>Support</th>\n      <th>Lift</th>\n    </tr>\n  </thead>\n  <tbody>\n    <tr>\n      <th>40</th>\n      <td>(United-States, &gt;50K.)</td>\n      <td>(&gt;50K.)</td>\n      <td>(United-States)</td>\n      <td>3846</td>\n      <td>3523</td>\n      <td>0.916017</td>\n      <td>0.216387</td>\n      <td>4.233229</td>\n    </tr>\n    <tr>\n      <th>41</th>\n      <td>(Married-civ-spouse, &gt;50K.)</td>\n      <td>(&gt;50K.)</td>\n      <td>(Married-civ-spouse)</td>\n      <td>3846</td>\n      <td>3292</td>\n      <td>0.855954</td>\n      <td>0.202199</td>\n      <td>4.233229</td>\n    </tr>\n    <tr>\n      <th>42</th>\n      <td>(White, &gt;50K.)</td>\n      <td>(&gt;50K.)</td>\n      <td>(White)</td>\n      <td>3846</td>\n      <td>3490</td>\n      <td>0.907436</td>\n      <td>0.214360</td>\n      <td>4.233229</td>\n    </tr>\n    <tr>\n      <th>43</th>\n      <td>(capital_loss_1, &gt;50K.)</td>\n      <td>(&gt;50K.)</td>\n      <td>(capital_loss_1)</td>\n      <td>3846</td>\n      <td>3475</td>\n      <td>0.903536</td>\n      <td>0.213439</td>\n      <td>4.233229</td>\n    </tr>\n    <tr>\n      <th>530</th>\n      <td>(United-States, White, &gt;50K.)</td>\n      <td>(White, &gt;50K.)</td>\n      <td>(United-States)</td>\n      <td>3490</td>\n      <td>3288</td>\n      <td>0.942120</td>\n      <td>0.201953</td>\n      <td>4.665043</td>\n    </tr>\n  </tbody>\n</table>\n</div>"
     },
     "metadata": {},
     "execution_count": 31
    }
   ],
   "source": [
    "#find the itemset contain >50\n",
    "dx=[]\n",
    "for i,rule in enumerate(Ruletable['Frequent itemset']):\n",
    "    if rule.issuperset({'>50K.'}):\n",
    "        idx.append(i)\n",
    "APlargerthan50=Ruletable.loc[idx]\n",
    "APlargerthan50.head()"
   ]
  },
  {
   "cell_type": "code",
   "execution_count": 32,
   "metadata": {},
   "outputs": [
    {
     "output_type": "stream",
     "name": "stdout",
     "text": [
      "(0, 9)\n(0, 9)\n"
     ]
    }
   ],
   "source": [
    "idx=[]\n",
    "for i,rule in enumerate(Ruletable['To']):\n",
    "    if rule.issubset({'>50K.'}):\n",
    "        idx.append(i)\n",
    "APlargerthan50=Ruletable.loc[idx]\n",
    "APlargerthan50['From length']=[len(i) for i in APlargerthan50['From']]\n",
    "\n",
    "Test=APlargerthan50\n",
    "Test.index\n",
    "print(Test.shape)\n",
    "Test.sort_values(by=['Frequent itemset','From length'],inplace=True)\n",
    "Test.drop_duplicates(subset='Frequent itemset',inplace=True)\n",
    "print(Test.shape)"
   ]
  },
  {
   "cell_type": "code",
   "execution_count": 30,
   "metadata": {},
   "outputs": [
    {
     "output_type": "execute_result",
     "data": {
      "text/plain": [
       "Empty DataFrame\n",
       "Columns: [Frequent itemset, From, To, Confident number, Support Number, Confidence, Support, Lift, From length]\n",
       "Index: []"
      ],
      "text/html": "<div>\n<style scoped>\n    .dataframe tbody tr th:only-of-type {\n        vertical-align: middle;\n    }\n\n    .dataframe tbody tr th {\n        vertical-align: top;\n    }\n\n    .dataframe thead th {\n        text-align: right;\n    }\n</style>\n<table border=\"1\" class=\"dataframe\">\n  <thead>\n    <tr style=\"text-align: right;\">\n      <th></th>\n      <th>Frequent itemset</th>\n      <th>From</th>\n      <th>To</th>\n      <th>Confident number</th>\n      <th>Support Number</th>\n      <th>Confidence</th>\n      <th>Support</th>\n      <th>Lift</th>\n      <th>From length</th>\n    </tr>\n  </thead>\n  <tbody>\n  </tbody>\n</table>\n</div>"
     },
     "metadata": {},
     "execution_count": 30
    }
   ],
   "source": [
    "for col in ['Frequent itemset','From','To']:\n",
    "    newcol=[]\n",
    "    newcol=[list(i) for i in Test[col]]\n",
    "    Test[col]=newcol\n",
    "Test.reset_index(drop=True,inplace=True)\n",
    "#Test.drop(columns=['From length']).astype(str).to_csv('Below 50K.csv')\n",
    "Test.head()\n"
   ]
  },
  {
   "cell_type": "code",
   "execution_count": null,
   "metadata": {},
   "outputs": [],
   "source": [
    "Reason=[list(i) for i in Test['From']]\n",
    "Reason_bar={}\n",
    "for i in Reason:\n",
    "    for ii in i:\n",
    "        Reason_bar[ii]=Reason_bar.get(ii,0)+1\n",
    "\n",
    "f = plt.figure(figsize=(10,8))\n",
    "plt.bar(Reason_bar.keys(),Reason_bar.values())\n",
    "plt.show()"
   ]
  },
  {
   "source": [
    "Need to further check\n"
   ],
   "cell_type": "markdown",
   "metadata": {}
  },
  {
   "cell_type": "code",
   "execution_count": 29,
   "metadata": {},
   "outputs": [
    {
     "output_type": "stream",
     "name": "stdout",
     "text": [
      "set()\n**********\n{3, 4, 5, 6, 7, 16}\n**********\n{3, 4, 5, 6, 7, 16}\n**********\n{3, 4, 5, 6, 7, 10, 11, 16, 18}\n**********\n{3, 4, 5, 6, 7, 10, 11, 15, 16, 18}\n**********\n{3, 4, 5, 6, 7, 10, 11, 15, 16, 18}\n**********\n{3, 4, 5, 6, 7, 10, 11, 15, 16, 18}\n**********\n{3, 4, 5, 6, 7, 9, 10, 11, 15, 16, 17, 18}\n**********\n{3, 4, 5, 6, 7, 9, 10, 11, 12, 15, 16, 17, 18}\n**********\n{3, 4, 5, 6, 7, 9, 10, 11, 12, 15, 16, 17, 18}\n**********\n{2, 3, 4, 5, 6, 7, 8, 9, 10, 11, 12, 13, 14, 15, 16, 17, 18}\n**********\nfrozenset({'capital_loss_1', 'White', 'United-States', 'capital_gain_1'}) Frequent itemset    (capital_loss_1, Private, <=50K., capital_gain_1)\nFrom                        (capital_loss_1, capital_gain_1, Private)\nTo                                                           (<=50K.)\nConfident number                                                 9868\nSupport Number                                                   8186\nConfidence                                                    0.82955\nSupport                                                      0.502795\nLift                                                          1.64988\nFrom length                                                         3\nName: 0, dtype: object\nfrozenset({'capital_loss_1', 'capital_gain_1', 'Private'}) Frequent itemset    (United-States, capital_loss_1, White, <=50K.,...\nFrom                (capital_loss_1, White, United-States, capital...\nTo                                                           (<=50K.)\nConfident number                                                11135\nSupport Number                                                   8865\nConfidence                                                   0.796138\nSupport                                                        0.5445\nLift                                                          1.46215\nFrom length                                                         4\nName: 1, dtype: object\n"
     ]
    }
   ],
   "source": [
    "#select the longest, if the rest is not subset of the longest then keep\n",
    "def subsetremove(redSet,n):\n",
    "    Base=redSet[n]\n",
    "    Notbase_idx=[n]\n",
    "    for i in redSet.index:\n",
    "        if (not redSet[i].issubset(Base)) and i!=n:\n",
    "            Notbase_idx.append(i)\n",
    "    return Notbase_idx\n",
    "\n",
    "Test=APlessthan50\n",
    "orginal_index=Test.index\n",
    "for i in orginal_index:\n",
    "    orginal_index_copy=set([i for i in orginal_index])\n",
    "    try:\n",
    "        Notbase_idx=subsetremove(Test['Frequent itemset'],i)\n",
    "        #print(Test.loc[Notbase_idx,['Frequent itemset']].reset_index(drop=True))\n",
    "        orginal_index_copy-=set(Notbase_idx)\n",
    "        print(orginal_index_copy)\n",
    "        print('*'*10)\n",
    "        Test=Test.loc[Notbase_idx]\n",
    "    except:\n",
    "        pass\n",
    "#Test.loc[Notbase_idx,['Frequent itemset','From','Confidence','From length']]\n",
    "for i,F in enumerate(Test['From']):\n",
    "    print(F,Test.loc[i,])\n"
   ]
  },
  {
   "cell_type": "code",
   "execution_count": null,
   "metadata": {},
   "outputs": [],
   "source": []
  }
 ]
}