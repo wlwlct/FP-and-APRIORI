{
 "metadata": {
  "language_info": {
   "codemirror_mode": {
    "name": "ipython",
    "version": 3
   },
   "file_extension": ".py",
   "mimetype": "text/x-python",
   "name": "python",
   "nbconvert_exporter": "python",
   "pygments_lexer": "ipython3",
   "version": "3.7.3-final"
  },
  "orig_nbformat": 2,
  "kernelspec": {
   "name": "Python 3.7.3 64-bit",
   "display_name": "Python 3.7.3 64-bit",
   "metadata": {
    "interpreter": {
     "hash": "31f2aee4e71d21fbe5cf8b01ff0e069b9275f58929596ceb00d14d90e3e16cd6"
    }
   }
  }
 },
 "nbformat": 4,
 "nbformat_minor": 2,
 "cells": [
  {
   "cell_type": "code",
   "execution_count": 8,
   "metadata": {},
   "outputs": [
    {
     "output_type": "stream",
     "name": "stdout",
     "text": [
      "Automatically created module for IPython interactive environment\n"
     ]
    }
   ],
   "source": [
    "from __future__ import print_function\n",
    "print(__doc__)"
   ]
  },
  {
   "source": [
    "## Settings"
   ],
   "cell_type": "markdown",
   "metadata": {}
  },
  {
   "cell_type": "code",
   "execution_count": 9,
   "metadata": {},
   "outputs": [],
   "source": [
    "class treeNode:\n",
    "    def __init__(self, nameValue, numOccur, parentNode):\n",
    "        self.name = nameValue\n",
    "        self.count = numOccur\n",
    "        self.nodeLink = None\n",
    "        # needs to be updated\n",
    "        self.parent = parentNode\n",
    "        self.children = {}\n",
    "\n",
    "    def inc(self, numOccur):\n",
    "        self.count += numOccur\n",
    "\n",
    "    def disp(self, ind=1):\n",
    "        print('  '*ind, self.name, ' ', self.count)\n",
    "        for child in self.children.values():\n",
    "            child.disp(ind+1)"
   ]
  },
  {
   "source": [
    "## Data"
   ],
   "cell_type": "markdown",
   "metadata": {}
  },
  {
   "cell_type": "code",
   "execution_count": 10,
   "metadata": {},
   "outputs": [],
   "source": [
    "def loadSimpDat():\n",
    "    #simpDat = [['I1','I2','I5'],['I2','I4'],['I2','I3'],['I1','I2','I4'],['I1','I3'],['I2','I3'],['I1','I3'],['I1','I2','I3','I5'],['I1','I2','I3']]\n",
    "    simpDat=[]\n",
    "    with open('Example_data.txt', 'r') as f:\n",
    "        for line in f.readlines():\n",
    "            L=line.split(',')\n",
    "            L[-1]=L[-1].replace('\\n','')\n",
    "            simpDat.append(L)\n",
    "    return simpDat\n",
    "\n",
    "def createInitSet(dataSet):\n",
    "    retDict = {}\n",
    "    for trans in dataSet:\n",
    "        if frozenset(trans) not in retDict:\n",
    "            retDict[frozenset(trans)] = 1\n",
    "        else:\n",
    "            retDict[frozenset(trans)] += 1\n",
    "    return retDict\n"
   ]
  },
  {
   "source": [
    "## Mine Tree"
   ],
   "cell_type": "markdown",
   "metadata": {}
  },
  {
   "cell_type": "code",
   "execution_count": 11,
   "metadata": {},
   "outputs": [],
   "source": [
    "\n",
    "def ascendTree(leafNode, prefixPath):\n",
    "    \"\"\"ascendTree(如果存在父节点，就记录当前节点的name值)\n",
    "\n",
    "    Args:\n",
    "        leafNode   查询的节点对于的nodeTree\n",
    "        prefixPath 要查询的节点值\n",
    "    \"\"\"\n",
    "    if leafNode.parent is not None:\n",
    "        prefixPath.append(leafNode.name)\n",
    "        ascendTree(leafNode.parent, prefixPath)\n",
    "\n",
    "def findPrefixPath(basePat, treeNode):\n",
    "    \"\"\"findPrefixPath 基础数据集\n",
    "\n",
    "    Args:\n",
    "        basePat  要查询的节点值\n",
    "        treeNode 查询的节点所在的当前nodeTree\n",
    "    Returns:\n",
    "        condPats 对非basePat的倒叙值作为key,赋值为count数\n",
    "    \"\"\"\n",
    "    condPats = {}\n",
    "    # 对 treeNode的link进行循环\n",
    "    while treeNode is not None:\n",
    "        prefixPath = []\n",
    "        # 寻找改节点的父节点，相当于找到了该节点的频繁项集\n",
    "        ascendTree(treeNode, prefixPath)\n",
    "        # 避免 单独`Z`一个元素，添加了空节点\n",
    "        if len(prefixPath) > 1:\n",
    "            # 对非basePat的倒叙值作为key,赋值为count数\n",
    "            # prefixPath[1:] 变frozenset后，字母就变无序了\n",
    "            # condPats[frozenset(prefixPath)] = treeNode.count\n",
    "            condPats[frozenset(prefixPath[1:])] = treeNode.count\n",
    "        # 递归，寻找改节点的下一个 相同值的链接节点\n",
    "        treeNode = treeNode.nodeLink\n",
    "        # print treeNode\n",
    "    return condPats\n",
    "\n",
    "def mineTree(inTree, headerTable, minSup, preFix, freqItemList):\n",
    "    \"\"\"mineTree(创建条件FP树)\n",
    "\n",
    "    Args:\n",
    "        inTree       myFPtree\n",
    "        headerTable  满足minSup {所有的元素+(value, treeNode)}\n",
    "        minSup       最小支持项集\n",
    "        preFix       preFix为newFreqSet上一次的存储记录，一旦没有myHead，就不会更新\n",
    "        freqItemList 用来存储频繁子项的列表\n",
    "    \"\"\"\n",
    "    # 通过value进行从小到大的排序， 得到频繁项集的key\n",
    "    # 最小支持项集的key的list集合\n",
    "    #print([v[1][0] for v in headerTable.items()])\n",
    "    bigL = [v for v,_ in sorted(headerTable.items(), key=lambda x: x[1][0])]\n",
    "    #print('-----\\n', sorted(headerTable.items(), key=lambda p: p[1][0]))\n",
    "    #print('bigL=', bigL)\n",
    "    # 循环遍历 最频繁项集的key，从小到大的递归寻找对应的频繁项集\n",
    "    for basePat in bigL:\n",
    "        # preFix为newFreqSet上一次的存储记录，一旦没有myHead，就不会更新\n",
    "        newFreqSet = preFix.copy()\n",
    "        newFreqSet.add(basePat)\n",
    "        #print('newFreqSet=', newFreqSet, preFix)\n",
    "\n",
    "        freqItemList.append(newFreqSet)\n",
    "        #print('freqItemList=', freqItemList)\n",
    "        condPattBases = findPrefixPath(basePat, headerTable[basePat][1])\n",
    "        #print('condPattBases=', basePat, condPattBases)\n",
    "\n",
    "        # 构建FP-tree\n",
    "        myCondTree, myHead = createTree(condPattBases, minSup)\n",
    "        print('myHead=', myHead)\n",
    "        # 挖掘条件 FP-tree, 如果myHead不为空，表示满足minSup {所有的元素+(value, treeNode)}\n",
    "        if myHead is not None:\n",
    "            myCondTree.disp(1)\n",
    "            print('\\n\\n\\n')\n",
    "            # 递归 myHead 找出频繁项集\n",
    "            mineTree(myCondTree, myHead, minSup, newFreqSet, freqItemList)\n",
    "        print('\\n\\n\\n')"
   ]
  },
  {
   "source": [
    "## Main Tree Code"
   ],
   "cell_type": "markdown",
   "metadata": {}
  },
  {
   "cell_type": "code",
   "execution_count": 12,
   "metadata": {},
   "outputs": [],
   "source": [
    "# this version does not use recursion\n",
    "def updateHeader(nodeToTest, targetNode):\n",
    "    \"\"\"updateHeader(更新头指针，建立相同元素之间的关系，例如:  左边的r指向右边的r值，就是后出现的相同元素 指向 已经出现的元素)\n",
    "    Args:\n",
    "        nodeToTest  满足minSup {所有的元素+(value, treeNode)}\n",
    "        targetNode  Tree对象的子节点\n",
    "    \"\"\"\n",
    "    # 建立相同元素之间的关系，例如:  左边的r指向右边的r值\n",
    "    while (nodeToTest.nodeLink is not None):\n",
    "        nodeToTest = nodeToTest.nodeLink\n",
    "    nodeToTest.nodeLink = targetNode\n",
    "\n",
    "def updateTree(items, inTree, headerTable, count):\n",
    "    \"\"\"updateTree(更新FP-tree，第二次遍历)\n",
    "\n",
    "    # 针对每一行的数据\n",
    "    # 最大的key,  添加\n",
    "    Args:\n",
    "        items       满足minSup 排序后的元素key的数组（大到小的排序）\n",
    "        inTree      空的Tree对象\n",
    "        headerTable 满足minSup {所有的元素+(value, treeNode)}\n",
    "        count       原数据集中每一组Kay出现的次数\n",
    "    \"\"\"\n",
    "    # 取出 元素 出现次数最高的\n",
    "    # 如果该元素在 inTree.children 这个字典中，就进行累加\n",
    "    # 如果该元素不存在 就 inTree.children 字典中新增key，value为初始化的 treeNode 对象\n",
    "    if items[0] in inTree.children:\n",
    "        # 更新 最大元素，对应的 treeNode 对象的count进行叠加\n",
    "        inTree.children[items[0]].inc(count)\n",
    "    else:\n",
    "        # 如果不存在子节点，我们为该inTree添加子节点\n",
    "        inTree.children[items[0]] = treeNode(items[0], count, inTree)\n",
    "        # 如果满足minSup的dist字典的value值第二位为null， 我们就设置该元素为 本节点对应的tree节点\n",
    "        # 如果元素第二位不为null，我们就更新header节点\n",
    "        if headerTable[items[0]][1] is None:\n",
    "            # headerTable只记录第一次节点出现的位置\n",
    "            headerTable[items[0]][1] = inTree.children[items[0]]\n",
    "        else:\n",
    "            # 本质上是修改headerTable的key对应的Tree，的nodeLink值\n",
    "            updateHeader(headerTable[items[0]][1], inTree.children[items[0]])\n",
    "    if len(items) > 1:\n",
    "        # 递归的调用，在items[0]的基础上，添加item0[1]做子节点， count只要循环的进行累计加和而已，统计出节点的最后的统计值。\n",
    "        updateTree(items[1:], inTree.children[items[0]], headerTable, count)\n",
    "\n",
    "\n",
    "def createTree(dataSet, minSup=1):\n",
    "    \"\"\"createTree(生成FP-tree)\n",
    "    Args:\n",
    "        dataSet  dist{行: 出现次数}的样本数据\n",
    "        minSup   最小的支持度\n",
    "    Returns:\n",
    "        retTree  FP-tree\n",
    "        headerTable 满足minSup {所有的元素+(value, treeNode)}\n",
    "    \"\"\"\n",
    "    # 支持度>=minSup的dist{所有元素: 出现的次数}\n",
    "    headerTable = {}\n",
    "    # 循环 dist{行: 出现次数}的样本数据\n",
    "    for trans in dataSet:\n",
    "        for item in trans:\n",
    "            headerTable[item] = headerTable.get(item, 0) + dataSet[trans] #if the item does not exist create, or +1\n",
    "            # delete items smaller than minimum support\n",
    "    #print(headerTable)\n",
    "    want2del=[]\n",
    "    for k in headerTable:\n",
    "        if headerTable[k] < minSup:\n",
    "            #del(headerTable[k])\n",
    "            want2del.append(k)\n",
    "    headerTable={i:k for i,k in headerTable.items() if i not in want2del}\n",
    "    print(headerTable)\n",
    "\n",
    "\n",
    "    # 满足minSup: set(各元素集合)\n",
    "    freqItemSet = set(headerTable.keys())\n",
    "    # 如果不存在，直接返回None\n",
    "    if len(freqItemSet) == 0:\n",
    "        return None, None\n",
    "    for k in headerTable:\n",
    "        # 格式化:  dist{元素key: [元素次数, None]}\n",
    "        headerTable[k] = [headerTable[k], None]\n",
    "\n",
    "    # create tree\n",
    "    retTree = treeNode('Null Set', 1, None)\n",
    "    # 循环 dist{行: 出现次数}的样本数据\n",
    "    for tranSet, count in dataSet.items():\n",
    "        # print 'tranSet, count=', tranSet, count\n",
    "        # localD = dist{元素key: 元素总出现次数}\n",
    "        localD = {}\n",
    "        for item in tranSet:\n",
    "            # 判断是否在满足minSup的集合中\n",
    "            if item in freqItemSet:\n",
    "                # print 'headerTable[item][0]=', headerTable[item][0], headerTable[item]\n",
    "                localD[item] = headerTable[item][0]\n",
    "        # print 'localD=', localD\n",
    "        if len(localD) > 0:\n",
    "            # p=key,value; 所以是通过value值的大小，进行从大到小进行排序\n",
    "            # orderedItems 表示取出元组的key值，也就是字母本身，但是字母本身是大到小的顺序\n",
    "            orderedItems = [v[0] for v in sorted(localD.items(), key=lambda p: p[1], reverse=True)]\n",
    "            # print 'orderedItems=', orderedItems, 'headerTable', headerTable, '\\n\\n\\n'\n",
    "            # 填充树，通过有序的orderedItems的第一位，进行顺序填充 第一层的子节点。\n",
    "            updateTree(orderedItems, retTree, headerTable, count)\n",
    "\n",
    "    return retTree, headerTable\n",
    "\n"
   ]
  },
  {
   "source": [
    "## Run/Test Code"
   ],
   "cell_type": "markdown",
   "metadata": {}
  },
  {
   "cell_type": "code",
   "execution_count": 6,
   "metadata": {
    "tags": []
   },
   "outputs": [
    {
     "output_type": "stream",
     "name": "stdout",
     "text": [
      "{'Private': 11210, '<=50K.': 12435, 'United-States': 14662, 'Male': 10860, 'White': 13946}\n{}\nmyHead= None\n\n\n\n\n{'United-States': 10010}\nmyHead= {'United-States': [10010, <__main__.treeNode object at 0x1054b4860>]}\n\n\n\n\n{}\nmyHead= None\n\n\n\n\n\n\n\n\n{'United-States': 11139, 'White': 10456}\nmyHead= {'United-States': [11139, <__main__.treeNode object at 0x1054b4940>], 'White': [10456, <__main__.treeNode object at 0x1054b4978>]}\n\n\n\n\n{}\nmyHead= None\n\n\n\n\n{}\nmyHead= None\n\n\n\n\n\n\n\n\n{'United-States': 12872}\nmyHead= {'United-States': [12872, <__main__.treeNode object at 0x1054b4a90>]}\n\n\n\n\n{}\nmyHead= None\n\n\n\n\n\n\n\n\n{}\nmyHead= None\n\n\n\n\n[{'Male'}, {'Private'}, {'Private', 'United-States'}, {'<=50K.'}, {'White', '<=50K.'}, {'United-States', '<=50K.'}, {'White'}, {'White', 'United-States'}, {'United-States'}]\n"
     ]
    }
   ],
   "source": [
    "\n",
    "if __name__ == \"__main__\":\n",
    "    # rootNode = treeNode('pyramid', 9, None)\n",
    "    # rootNode.children['eye'] = treeNode('eye', 13, None)\n",
    "    # rootNode.children['phoenix'] = treeNode('phoenix', 3, None)\n",
    "    # # 将树以文本形式显示\n",
    "    # # print rootNode.disp()\n",
    "\n",
    "    # load样本数据\n",
    "    simpDat = loadSimpDat()\n",
    "    # print simpDat, '\\n'\n",
    "    # frozen set 格式化 并 重新装载 样本数据，对所有的行进行统计求和，格式: {行: 出现次数}\n",
    "    initSet = createInitSet(simpDat)\n",
    "    #print(initSet)\n",
    "\n",
    "    # 创建FP树\n",
    "    # 输入: dist{行: 出现次数}的样本数据  和  最小的支持度\n",
    "    # 输出: 最终的PF-tree，通过循环获取第一层的节点，然后每一层的节点进行递归的获取每一行的字节点，也就是分支。然后所谓的指针，就是后来的指向已存在的\n",
    "    myFPtree, myHeaderTab = createTree(initSet, 0.6*len(simpDat))\n",
    "    #print(myHeaderTab)\n",
    "    #myFPtree.disp()\n",
    "\n",
    "    # 抽取条件模式基\n",
    "    # 查询树节点的，频繁子项\n",
    "    #print('x --->', findPrefixPath('x', myHeaderTab['x'][1]))\n",
    "    #print('z --->', findPrefixPath('z', myHeaderTab['z'][1]))\n",
    "    #print('r --->', findPrefixPath('r', myHeaderTab['r'][1]))\n",
    "\n",
    "    # 创建条件模式基\n",
    "    freqItemList = []\n",
    "    mineTree(myFPtree, myHeaderTab, 0.6*len(simpDat), set([]), freqItemList)\n",
    "    print(freqItemList)"
   ]
  },
  {
   "cell_type": "code",
   "execution_count": null,
   "metadata": {},
   "outputs": [],
   "source": []
  }
 ]
}