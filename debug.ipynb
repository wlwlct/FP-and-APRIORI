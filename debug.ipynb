{
 "metadata": {
  "language_info": {
   "codemirror_mode": {
    "name": "ipython",
    "version": 3
   },
   "file_extension": ".py",
   "mimetype": "text/x-python",
   "name": "python",
   "nbconvert_exporter": "python",
   "pygments_lexer": "ipython3",
   "version": "3.7.3-final"
  },
  "orig_nbformat": 2,
  "kernelspec": {
   "name": "Python 3.7.3 64-bit",
   "display_name": "Python 3.7.3 64-bit",
   "metadata": {
    "interpreter": {
     "hash": "31f2aee4e71d21fbe5cf8b01ff0e069b9275f58929596ceb00d14d90e3e16cd6"
    }
   }
  }
 },
 "nbformat": 4,
 "nbformat_minor": 2,
 "cells": [
  {
   "cell_type": "code",
   "execution_count": 2,
   "metadata": {},
   "outputs": [
    {
     "output_type": "stream",
     "name": "stdout",
     "text": [
      "    0   1     2     3\n0  I1  I2    I5  None\n1  I2  I4  None  None\n2  I2  I3  None  None\n3  I1  I2    I4  None\n4  I1  I3  None  None\n5  I2  I3  None  None\n6  I1  I3  None  None\n7  I1  I2    I3    I5\n8  I1  I2    I3  None\n"
     ]
    }
   ],
   "source": [
    "import pandas as pd\n",
    "print(pd.DataFrame([['I1','I2','I5'],['I2','I4'],['I2','I3'],['I1','I2','I4'],['I1','I3'],['I2','I3'],['I1','I3'],['I1','I2','I3','I5'],['I1','I2','I3']]))"
   ]
  },
  {
   "cell_type": "code",
   "execution_count": 1,
   "metadata": {
    "tags": []
   },
   "outputs": [
    {
     "output_type": "stream",
     "name": "stdout",
     "text": [
      "newFreqSet: {'I5'}\nFreqitemls: {frozenset({'I5'}): 0}\n  Item        Prefix  count\n0   I5      (I2, I1)      1\n1   I5  (I3, I2, I1)      1\n{'I2': [2, None], 'I1': [2, None]}\n------------------------------\nnewFreqSet: {'I5', 'I2'}\nFreqitemls: {frozenset({'I5'}): 2, frozenset({'I5', 'I2'}): 0}\nnewFreqSet: {'I5', 'I1'}\nFreqitemls: {frozenset({'I5'}): 2, frozenset({'I5', 'I2'}): 0, frozenset({'I5', 'I1'}): 0}\n  Item Prefix  count\n0   I1   (I2)      2\n{'I2': [2, None]}\n------------------------------\nnewFreqSet: {'I2', 'I5', 'I1'}\nFreqitemls: {frozenset({'I5'}): 2, frozenset({'I5', 'I2'}): 0, frozenset({'I5', 'I1'}): 2, frozenset({'I2', 'I5', 'I1'}): 0}\nnewFreqSet: {'I4'}\nFreqitemls: {frozenset({'I5'}): 2, frozenset({'I5', 'I2'}): 0, frozenset({'I5', 'I1'}): 2, frozenset({'I2', 'I5', 'I1'}): 0, frozenset({'I4'}): 0}\n  Item    Prefix  count\n0   I4      (I2)      1\n1   I4  (I2, I1)      1\n{'I2': [2, None]}\n------------------------------\nnewFreqSet: {'I4', 'I2'}\nFreqitemls: {frozenset({'I5'}): 2, frozenset({'I5', 'I2'}): 0, frozenset({'I5', 'I1'}): 2, frozenset({'I2', 'I5', 'I1'}): 0, frozenset({'I4'}): 2, frozenset({'I4', 'I2'}): 0}\nnewFreqSet: {'I1'}\nFreqitemls: {frozenset({'I5'}): 2, frozenset({'I5', 'I2'}): 0, frozenset({'I5', 'I1'}): 2, frozenset({'I2', 'I5', 'I1'}): 0, frozenset({'I4'}): 2, frozenset({'I4', 'I2'}): 0, frozenset({'I1'}): 0}\n  Item Prefix  count\n0   I1   (I2)      4\n{'I2': [4, None]}\n------------------------------\nnewFreqSet: {'I2', 'I1'}\nFreqitemls: {frozenset({'I5'}): 2, frozenset({'I5', 'I2'}): 0, frozenset({'I5', 'I1'}): 2, frozenset({'I2', 'I5', 'I1'}): 0, frozenset({'I4'}): 2, frozenset({'I4', 'I2'}): 0, frozenset({'I1'}): 4, frozenset({'I2', 'I1'}): 0}\nnewFreqSet: {'I3'}\nFreqitemls: {frozenset({'I5'}): 2, frozenset({'I5', 'I2'}): 0, frozenset({'I5', 'I1'}): 2, frozenset({'I2', 'I5', 'I1'}): 0, frozenset({'I4'}): 2, frozenset({'I4', 'I2'}): 0, frozenset({'I1'}): 4, frozenset({'I2', 'I1'}): 0, frozenset({'I3'}): 0}\n  Item    Prefix  count\n0   I3      (I2)      2\n1   I3      (I1)      2\n2   I3  (I2, I1)      2\n{'I2': [4, None], 'I1': [4, None]}\n------------------------------\nnewFreqSet: {'I3', 'I2'}\nFreqitemls: {frozenset({'I5'}): 2, frozenset({'I5', 'I2'}): 0, frozenset({'I5', 'I1'}): 2, frozenset({'I2', 'I5', 'I1'}): 0, frozenset({'I4'}): 2, frozenset({'I4', 'I2'}): 0, frozenset({'I1'}): 4, frozenset({'I2', 'I1'}): 0, frozenset({'I3'}): 6, frozenset({'I3', 'I2'}): 0}\nnewFreqSet: {'I3', 'I1'}\nFreqitemls: {frozenset({'I5'}): 2, frozenset({'I5', 'I2'}): 0, frozenset({'I5', 'I1'}): 2, frozenset({'I2', 'I5', 'I1'}): 0, frozenset({'I4'}): 2, frozenset({'I4', 'I2'}): 0, frozenset({'I1'}): 4, frozenset({'I2', 'I1'}): 0, frozenset({'I3'}): 6, frozenset({'I3', 'I2'}): 0, frozenset({'I3', 'I1'}): 0}\n  Item Prefix  count\n0   I1   (I2)      2\n{'I2': [2, None]}\n------------------------------\nnewFreqSet: {'I3', 'I2', 'I1'}\nFreqitemls: {frozenset({'I5'}): 2, frozenset({'I5', 'I2'}): 0, frozenset({'I5', 'I1'}): 2, frozenset({'I2', 'I5', 'I1'}): 0, frozenset({'I4'}): 2, frozenset({'I4', 'I2'}): 0, frozenset({'I1'}): 4, frozenset({'I2', 'I1'}): 0, frozenset({'I3'}): 6, frozenset({'I3', 'I2'}): 0, frozenset({'I3', 'I1'}): 2, frozenset({'I3', 'I2', 'I1'}): 0}\nnewFreqSet: {'I2'}\nFreqitemls: {frozenset({'I5'}): 2, frozenset({'I5', 'I2'}): 0, frozenset({'I5', 'I1'}): 2, frozenset({'I2', 'I5', 'I1'}): 0, frozenset({'I4'}): 2, frozenset({'I4', 'I2'}): 0, frozenset({'I1'}): 4, frozenset({'I2', 'I1'}): 0, frozenset({'I3'}): 6, frozenset({'I3', 'I2'}): 0, frozenset({'I3', 'I1'}): 2, frozenset({'I3', 'I2', 'I1'}): 0, frozenset({'I2'}): 0}\n"
     ]
    }
   ],
   "source": [
    "import pandas as pd\n",
    "'''\n",
    "Load data\n",
    "'''\n",
    "def loadSimpDat():\n",
    "    simpDat = [['I1','I2','I5'],['I2','I4'],['I2','I3'],['I1','I2','I4'],['I1','I3'],['I2','I3'],['I1','I3'],['I1','I2','I3','I5'],['I1','I2','I3']]\n",
    "    '''simpDat=[]\n",
    "    with open('Example_data.txt', 'r') as f:\n",
    "        for line in f.readlines():\n",
    "            L=line.split(',')\n",
    "            L[-1]=L[-1].replace('\\n','')\n",
    "            simpDat.append(L)'''\n",
    "    return simpDat\n",
    "\n",
    "#tree node\n",
    "class TreeNode:\n",
    "    def __init__(self, item, count, parentNode):\n",
    "        self.item=item\n",
    "        self.count=count\n",
    "        self.nodelink=None\n",
    "        self.parent=parentNode\n",
    "        self.children={}\n",
    "    def inc_count(self,num):\n",
    "        self.count+=num\n",
    "\n",
    "'''\n",
    "Generate Headertable and remove item does not meet minimum support\n",
    "|item|counts|Nodelink\n",
    "'''\n",
    "def GenC1(trans,min_support):\n",
    "    C1={}\n",
    "    for i in trans:\n",
    "        for ii in set(i):\n",
    "            if ii not in C1:\n",
    "                try:\n",
    "                    C1[ii]=trans[i]\n",
    "                except:\n",
    "                    C1[ii]=1\n",
    "            else:\n",
    "                try:\n",
    "                    C1[ii]+=trans[i]\n",
    "                except:\n",
    "                    C1[ii]+=1\n",
    "    C1={key:value for key, value in C1.items() if value>=min_support}#include min_support\n",
    "    return {i:[k,None] for i,k in sorted(C1.items(),key=lambda x:x[1],reverse=True)}\n",
    "\n",
    "def link_same_items(curr,targetNode):\n",
    "    while curr.nodelink is not None:\n",
    "        curr=curr.nodelink\n",
    "    curr.nodelink=targetNode\n",
    "\n",
    "\n",
    "'''\n",
    "Build Tree\n",
    "'''\n",
    "def link_same_items(curr,targetNode):\n",
    "    while curr.nodelink is not None:\n",
    "        curr=curr.nodelink\n",
    "    curr.nodelink=targetNode\n",
    "\n",
    "def updateTree_Table(SortedItems,FPTree,headertable,count):\n",
    "    if SortedItems[0] in FPTree.children:\n",
    "        FPTree.children[SortedItems[0]].inc_count(count)\n",
    "    else:\n",
    "        FPTree.children[SortedItems[0]]=TreeNode(SortedItems[0],count,FPTree)\n",
    "        if headertable[SortedItems[0]][1]==None:\n",
    "            headertable[SortedItems[0]][1]=FPTree.children[SortedItems[0]]\n",
    "        else:\n",
    "            link_same_items(headertable[SortedItems[0]][1], FPTree.children[SortedItems[0]])\n",
    "    if len(SortedItems)>1:\n",
    "        updateTree_Table(SortedItems[1:],FPTree.children[SortedItems[0]],headertable,count)\n",
    "\n",
    "def Build_tree(trans,headertable,count=1):\n",
    "    recTree=TreeNode('Null',1,None)\n",
    "    for iii,itemset in enumerate(trans):\n",
    "        #order the itemset according to the header table\n",
    "        itemset=[i for i in itemset if i in headertable]\n",
    "        if len(itemset)>0:\n",
    "            SortedItems=sorted(list(itemset),key=lambda x:headertable[x][0],reverse=True)\n",
    "            try:\n",
    "                updateTree_Table(SortedItems,recTree,headertable,count[iii])\n",
    "            except:\n",
    "                updateTree_Table(SortedItems,recTree,headertable,count)\n",
    "    return recTree,headertable\n",
    "\n",
    "'''\n",
    "Mine Tree\n",
    "'''\n",
    "def ascendTree(leafNode,PrefixPath):\n",
    "    if leafNode.parent is not None:\n",
    "        PrefixPath.append(leafNode.item)\n",
    "        ascendTree(leafNode.parent, PrefixPath)\n",
    "\n",
    "def findPrefixPath(baseitem,TreeNode):\n",
    "    CPB={}\n",
    "    while TreeNode is not None:\n",
    "        PrefixPath=[]\n",
    "        ascendTree(TreeNode,PrefixPath)\n",
    "        if len(PrefixPath)>1:\n",
    "            CPB[frozenset(PrefixPath[1:])]=TreeNode.count\n",
    "        TreeNode=TreeNode.nodelink\n",
    "    return CPB\n",
    "\n",
    "def mineTree(inTree, headertable, min_support, preFix, freqItemList):\n",
    "    reverse_headertable = [v for v,_ in sorted(headertable.items(), key=lambda x: x[1][0])]\n",
    "    for baseitem in reverse_headertable:\n",
    "        newFreqSet = preFix.copy()\n",
    "        newFreqSet.add(baseitem)\n",
    "        freqItemList[frozenset(newFreqSet)]=0###\n",
    "        print('newFreqSet:',newFreqSet)\n",
    "        print('Freqitemls:',freqItemList)\n",
    "\n",
    "        # Conditional Pattern Base\n",
    "        CPB = findPrefixPath(baseitem, headertable[baseitem][1])\n",
    "        freqItemList[frozenset(newFreqSet)]+=sum(CPB.values())\n",
    "\n",
    "        if len(CPB)!=0:\n",
    "            print(pd.DataFrame({'Item':[str(baseitem) for i in range(len(CPB))],'Prefix':[(i) for i in CPB],'count':[(i) for i in CPB.values()]}))\n",
    "        CPBC1=GenC1(CPB,min_support)\n",
    "        if len(CPBC1)!=0:\n",
    "            print(CPBC1)\n",
    "            print('-'*30)\n",
    "        CondFPTree, Condheadertable = Build_tree(list(CPB.keys()),CPBC1,list(CPB.values()))\n",
    "        if Condheadertable is not None:\n",
    "            pass\n",
    "            #myCondTree.disp(1)\n",
    "            mineTree(CondFPTree, Condheadertable, min_support, newFreqSet, freqItemList)\n",
    "\n",
    "if __name__=='__main__':\n",
    "    simpDat=loadSimpDat()\n",
    "    min_support=1.9/9*len(simpDat)\n",
    "    C1=GenC1(simpDat,min_support)\n",
    "    myTree,myHeader=Build_tree(simpDat,C1)\n",
    "    freqItemList,preFix={},set([])\n",
    "    mineTree(myTree, myHeader, min_support, preFix, freqItemList)\n",
    "\n"
   ]
  },
  {
   "cell_type": "code",
   "execution_count": 2,
   "metadata": {},
   "outputs": [
    {
     "output_type": "execute_result",
     "data": {
      "text/plain": [
       "           index  FredP  leng\n",
       "0           (I5)      2     1\n",
       "1           (I4)      2     1\n",
       "2           (I1)      4     1\n",
       "3           (I3)      6     1\n",
       "4           (I2)      0     1\n",
       "5       (I5, I2)      0     2\n",
       "6       (I5, I1)      2     2\n",
       "7       (I4, I2)      0     2\n",
       "8       (I2, I1)      0     2\n",
       "9       (I3, I2)      0     2\n",
       "10      (I3, I1)      2     2\n",
       "11  (I2, I5, I1)      0     3\n",
       "12  (I3, I2, I1)      0     3"
      ],
      "text/html": "<div>\n<style scoped>\n    .dataframe tbody tr th:only-of-type {\n        vertical-align: middle;\n    }\n\n    .dataframe tbody tr th {\n        vertical-align: top;\n    }\n\n    .dataframe thead th {\n        text-align: right;\n    }\n</style>\n<table border=\"1\" class=\"dataframe\">\n  <thead>\n    <tr style=\"text-align: right;\">\n      <th></th>\n      <th>index</th>\n      <th>FredP</th>\n      <th>leng</th>\n    </tr>\n  </thead>\n  <tbody>\n    <tr>\n      <th>0</th>\n      <td>(I5)</td>\n      <td>2</td>\n      <td>1</td>\n    </tr>\n    <tr>\n      <th>1</th>\n      <td>(I4)</td>\n      <td>2</td>\n      <td>1</td>\n    </tr>\n    <tr>\n      <th>2</th>\n      <td>(I1)</td>\n      <td>4</td>\n      <td>1</td>\n    </tr>\n    <tr>\n      <th>3</th>\n      <td>(I3)</td>\n      <td>6</td>\n      <td>1</td>\n    </tr>\n    <tr>\n      <th>4</th>\n      <td>(I2)</td>\n      <td>0</td>\n      <td>1</td>\n    </tr>\n    <tr>\n      <th>5</th>\n      <td>(I5, I2)</td>\n      <td>0</td>\n      <td>2</td>\n    </tr>\n    <tr>\n      <th>6</th>\n      <td>(I5, I1)</td>\n      <td>2</td>\n      <td>2</td>\n    </tr>\n    <tr>\n      <th>7</th>\n      <td>(I4, I2)</td>\n      <td>0</td>\n      <td>2</td>\n    </tr>\n    <tr>\n      <th>8</th>\n      <td>(I2, I1)</td>\n      <td>0</td>\n      <td>2</td>\n    </tr>\n    <tr>\n      <th>9</th>\n      <td>(I3, I2)</td>\n      <td>0</td>\n      <td>2</td>\n    </tr>\n    <tr>\n      <th>10</th>\n      <td>(I3, I1)</td>\n      <td>2</td>\n      <td>2</td>\n    </tr>\n    <tr>\n      <th>11</th>\n      <td>(I2, I5, I1)</td>\n      <td>0</td>\n      <td>3</td>\n    </tr>\n    <tr>\n      <th>12</th>\n      <td>(I3, I2, I1)</td>\n      <td>0</td>\n      <td>3</td>\n    </tr>\n  </tbody>\n</table>\n</div>"
     },
     "metadata": {},
     "execution_count": 2
    }
   ],
   "source": [
    "A=pd.DataFrame({'FredP':freqItemList}).reset_index()\n",
    "A['leng']=[len(i) for i in A['index']]\n",
    "A.sort_values('leng').reset_index(drop=True)"
   ]
  },
  {
   "cell_type": "code",
   "execution_count": 3,
   "metadata": {},
   "outputs": [
    {
     "output_type": "execute_result",
     "data": {
      "text/plain": [
       "     support      itemsets  supportnum  leng\n",
       "0   0.777778          (I2)         7.0     1\n",
       "1   0.666667          (I1)         6.0     1\n",
       "2   0.222222          (I5)         2.0     1\n",
       "3   0.222222          (I4)         2.0     1\n",
       "4   0.666667          (I3)         6.0     1\n",
       "5   0.444444      (I2, I1)         4.0     2\n",
       "6   0.444444      (I3, I1)         4.0     2\n",
       "7   0.222222      (I5, I1)         2.0     2\n",
       "8   0.222222      (I5, I2)         2.0     2\n",
       "9   0.222222      (I4, I2)         2.0     2\n",
       "10  0.444444      (I3, I2)         4.0     2\n",
       "11  0.222222  (I3, I2, I1)         2.0     3\n",
       "12  0.222222  (I5, I2, I1)         2.0     3"
      ],
      "text/html": "<div>\n<style scoped>\n    .dataframe tbody tr th:only-of-type {\n        vertical-align: middle;\n    }\n\n    .dataframe tbody tr th {\n        vertical-align: top;\n    }\n\n    .dataframe thead th {\n        text-align: right;\n    }\n</style>\n<table border=\"1\" class=\"dataframe\">\n  <thead>\n    <tr style=\"text-align: right;\">\n      <th></th>\n      <th>support</th>\n      <th>itemsets</th>\n      <th>supportnum</th>\n      <th>leng</th>\n    </tr>\n  </thead>\n  <tbody>\n    <tr>\n      <th>0</th>\n      <td>0.777778</td>\n      <td>(I2)</td>\n      <td>7.0</td>\n      <td>1</td>\n    </tr>\n    <tr>\n      <th>1</th>\n      <td>0.666667</td>\n      <td>(I1)</td>\n      <td>6.0</td>\n      <td>1</td>\n    </tr>\n    <tr>\n      <th>2</th>\n      <td>0.222222</td>\n      <td>(I5)</td>\n      <td>2.0</td>\n      <td>1</td>\n    </tr>\n    <tr>\n      <th>3</th>\n      <td>0.222222</td>\n      <td>(I4)</td>\n      <td>2.0</td>\n      <td>1</td>\n    </tr>\n    <tr>\n      <th>4</th>\n      <td>0.666667</td>\n      <td>(I3)</td>\n      <td>6.0</td>\n      <td>1</td>\n    </tr>\n    <tr>\n      <th>5</th>\n      <td>0.444444</td>\n      <td>(I2, I1)</td>\n      <td>4.0</td>\n      <td>2</td>\n    </tr>\n    <tr>\n      <th>6</th>\n      <td>0.444444</td>\n      <td>(I3, I1)</td>\n      <td>4.0</td>\n      <td>2</td>\n    </tr>\n    <tr>\n      <th>7</th>\n      <td>0.222222</td>\n      <td>(I5, I1)</td>\n      <td>2.0</td>\n      <td>2</td>\n    </tr>\n    <tr>\n      <th>8</th>\n      <td>0.222222</td>\n      <td>(I5, I2)</td>\n      <td>2.0</td>\n      <td>2</td>\n    </tr>\n    <tr>\n      <th>9</th>\n      <td>0.222222</td>\n      <td>(I4, I2)</td>\n      <td>2.0</td>\n      <td>2</td>\n    </tr>\n    <tr>\n      <th>10</th>\n      <td>0.444444</td>\n      <td>(I3, I2)</td>\n      <td>4.0</td>\n      <td>2</td>\n    </tr>\n    <tr>\n      <th>11</th>\n      <td>0.222222</td>\n      <td>(I3, I2, I1)</td>\n      <td>2.0</td>\n      <td>3</td>\n    </tr>\n    <tr>\n      <th>12</th>\n      <td>0.222222</td>\n      <td>(I5, I2, I1)</td>\n      <td>2.0</td>\n      <td>3</td>\n    </tr>\n  </tbody>\n</table>\n</div>"
     },
     "metadata": {},
     "execution_count": 3
    }
   ],
   "source": [
    "transactions=loadSimpDat()\n",
    "from mlxtend.preprocessing import TransactionEncoder\n",
    "te = TransactionEncoder()\n",
    "te_ary = te.fit(transactions).transform(transactions)\n",
    "df = pd.DataFrame(te_ary, columns=te.columns_)\n",
    "#df.head()\n",
    "from mlxtend.frequent_patterns import fpgrowth\n",
    "FP=fpgrowth(df, min_support=1.9/9,use_colnames=True)\n",
    "FP['supportnum']=FP['support']*len(transactions)\n",
    "FP['leng']=[len(i) for i in FP['itemsets']]\n",
    "FP.sort_values('leng',ascending=True).reset_index(drop=True)"
   ]
  },
  {
   "cell_type": "code",
   "execution_count": 4,
   "metadata": {},
   "outputs": [
    {
     "output_type": "execute_result",
     "data": {
      "text/plain": [
       "[{'I2'},\n",
       " {'I1'},\n",
       " {'I5'},\n",
       " {'I4'},\n",
       " {'I3'},\n",
       " {'I1', 'I2'},\n",
       " {'I1', 'I3'},\n",
       " {'I1', 'I2', 'I3'},\n",
       " {'I1', 'I5'},\n",
       " {'I2', 'I5'},\n",
       " {'I1', 'I2', 'I5'},\n",
       " {'I2', 'I4'},\n",
       " {'I2', 'I3'}]"
      ]
     },
     "metadata": {},
     "execution_count": 4
    }
   ],
   "source": [
    "idx=[]\n",
    "for m,ii in enumerate([set(i) for i in FP.itemsets]):\n",
    "    for j in A.FredP:\n",
    "        if j==(ii):\n",
    "            idx.append(m)\n",
    "[k for i,k in enumerate([set(i) for i in FP.itemsets]) if i not in set(idx)]"
   ]
  },
  {
   "cell_type": "code",
   "execution_count": null,
   "metadata": {},
   "outputs": [],
   "source": []
  }
 ]
}