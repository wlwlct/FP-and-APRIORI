{
 "metadata": {
  "language_info": {
   "codemirror_mode": {
    "name": "ipython",
    "version": 3
   },
   "file_extension": ".py",
   "mimetype": "text/x-python",
   "name": "python",
   "nbconvert_exporter": "python",
   "pygments_lexer": "ipython3",
   "version": "3.7.3-final"
  },
  "orig_nbformat": 2,
  "kernelspec": {
   "name": "Python 3.7.3 64-bit",
   "display_name": "Python 3.7.3 64-bit",
   "metadata": {
    "interpreter": {
     "hash": "31f2aee4e71d21fbe5cf8b01ff0e069b9275f58929596ceb00d14d90e3e16cd6"
    }
   }
  }
 },
 "nbformat": 4,
 "nbformat_minor": 2,
 "cells": [
  {
   "source": [
    "# FP Growth\n",
    "## Method\n",
    "1.  Clean the data set\n",
    "2.  Generate the table with each item and corresponding counts\n",
    "3.  Generate FP tree\n",
    "4.  Mine tree"
   ],
   "cell_type": "markdown",
   "metadata": {}
  },
  {
   "source": [
    "### Import important libraries"
   ],
   "cell_type": "markdown",
   "metadata": {}
  },
  {
   "cell_type": "code",
   "execution_count": 11,
   "metadata": {},
   "outputs": [],
   "source": [
    "import pandas as pd"
   ]
  },
  {
   "cell_type": "code",
   "execution_count": 12,
   "metadata": {},
   "outputs": [
    {
     "output_type": "execute_result",
     "data": {
      "text/plain": [
       "['Private',\n",
       " '11th',\n",
       " 'Never-married',\n",
       " 'Machine-op-inspct',\n",
       " 'Own-child',\n",
       " 'Black',\n",
       " 'Male',\n",
       " 'United-States',\n",
       " '<=50K.']"
      ]
     },
     "metadata": {},
     "execution_count": 12
    }
   ],
   "source": [
    "transactions=[]\n",
    "with open('Example_data.txt', 'r') as f:\n",
    "    for line in f.readlines():\n",
    "        L=line.split(',')\n",
    "        L[-1]=L[-1].replace('\\n','')\n",
    "        transactions.append(L)\n",
    "transactions[0]"
   ]
  },
  {
   "cell_type": "code",
   "execution_count": 13,
   "metadata": {},
   "outputs": [
    {
     "output_type": "execute_result",
     "data": {
      "text/plain": [
       "    support                  itemsets\n",
       "0  0.900559           (United-States)\n",
       "1  0.856581                   (White)\n",
       "2  0.790615    (United-States, White)\n",
       "3  0.763774                  (<=50K.)\n",
       "4  0.688533                 (Private)\n",
       "5  0.684172   (United-States, <=50K.)\n",
       "6  0.667035                    (Male)\n",
       "7  0.642221           (<=50K., White)\n",
       "8  0.614827  (United-States, Private)"
      ],
      "text/html": "<div>\n<style scoped>\n    .dataframe tbody tr th:only-of-type {\n        vertical-align: middle;\n    }\n\n    .dataframe tbody tr th {\n        vertical-align: top;\n    }\n\n    .dataframe thead th {\n        text-align: right;\n    }\n</style>\n<table border=\"1\" class=\"dataframe\">\n  <thead>\n    <tr style=\"text-align: right;\">\n      <th></th>\n      <th>support</th>\n      <th>itemsets</th>\n    </tr>\n  </thead>\n  <tbody>\n    <tr>\n      <th>0</th>\n      <td>0.900559</td>\n      <td>(United-States)</td>\n    </tr>\n    <tr>\n      <th>1</th>\n      <td>0.856581</td>\n      <td>(White)</td>\n    </tr>\n    <tr>\n      <th>2</th>\n      <td>0.790615</td>\n      <td>(United-States, White)</td>\n    </tr>\n    <tr>\n      <th>3</th>\n      <td>0.763774</td>\n      <td>(&lt;=50K.)</td>\n    </tr>\n    <tr>\n      <th>4</th>\n      <td>0.688533</td>\n      <td>(Private)</td>\n    </tr>\n    <tr>\n      <th>5</th>\n      <td>0.684172</td>\n      <td>(United-States, &lt;=50K.)</td>\n    </tr>\n    <tr>\n      <th>6</th>\n      <td>0.667035</td>\n      <td>(Male)</td>\n    </tr>\n    <tr>\n      <th>7</th>\n      <td>0.642221</td>\n      <td>(&lt;=50K., White)</td>\n    </tr>\n    <tr>\n      <th>8</th>\n      <td>0.614827</td>\n      <td>(United-States, Private)</td>\n    </tr>\n  </tbody>\n</table>\n</div>"
     },
     "metadata": {},
     "execution_count": 13
    }
   ],
   "source": [
    "from mlxtend.preprocessing import TransactionEncoder\n",
    "te = TransactionEncoder()\n",
    "te_ary = te.fit(transactions).transform(transactions)\n",
    "df = pd.DataFrame(te_ary, columns=te.columns_)\n",
    "#df.head()\n",
    "from mlxtend.frequent_patterns import apriori\n",
    "\n",
    "AP=apriori(df, min_support=0.6,use_colnames=True)\n",
    "AP.sort_values('support',ascending=False).reset_index(drop=True)"
   ]
  },
  {
   "cell_type": "code",
   "execution_count": 14,
   "metadata": {},
   "outputs": [
    {
     "output_type": "execute_result",
     "data": {
      "text/plain": [
       "    support                  itemsets\n",
       "0  0.900559           (United-States)\n",
       "1  0.856581                   (White)\n",
       "2  0.790615    (United-States, White)\n",
       "3  0.763774                  (<=50K.)\n",
       "4  0.688533                 (Private)\n",
       "5  0.684172   (United-States, <=50K.)\n",
       "6  0.667035                    (Male)\n",
       "7  0.642221           (<=50K., White)\n",
       "8  0.614827  (United-States, Private)"
      ],
      "text/html": "<div>\n<style scoped>\n    .dataframe tbody tr th:only-of-type {\n        vertical-align: middle;\n    }\n\n    .dataframe tbody tr th {\n        vertical-align: top;\n    }\n\n    .dataframe thead th {\n        text-align: right;\n    }\n</style>\n<table border=\"1\" class=\"dataframe\">\n  <thead>\n    <tr style=\"text-align: right;\">\n      <th></th>\n      <th>support</th>\n      <th>itemsets</th>\n    </tr>\n  </thead>\n  <tbody>\n    <tr>\n      <th>0</th>\n      <td>0.900559</td>\n      <td>(United-States)</td>\n    </tr>\n    <tr>\n      <th>1</th>\n      <td>0.856581</td>\n      <td>(White)</td>\n    </tr>\n    <tr>\n      <th>2</th>\n      <td>0.790615</td>\n      <td>(United-States, White)</td>\n    </tr>\n    <tr>\n      <th>3</th>\n      <td>0.763774</td>\n      <td>(&lt;=50K.)</td>\n    </tr>\n    <tr>\n      <th>4</th>\n      <td>0.688533</td>\n      <td>(Private)</td>\n    </tr>\n    <tr>\n      <th>5</th>\n      <td>0.684172</td>\n      <td>(United-States, &lt;=50K.)</td>\n    </tr>\n    <tr>\n      <th>6</th>\n      <td>0.667035</td>\n      <td>(Male)</td>\n    </tr>\n    <tr>\n      <th>7</th>\n      <td>0.642221</td>\n      <td>(&lt;=50K., White)</td>\n    </tr>\n    <tr>\n      <th>8</th>\n      <td>0.614827</td>\n      <td>(United-States, Private)</td>\n    </tr>\n  </tbody>\n</table>\n</div>"
     },
     "metadata": {},
     "execution_count": 14
    }
   ],
   "source": [
    "from mlxtend.preprocessing import TransactionEncoder\n",
    "te = TransactionEncoder()\n",
    "te_ary = te.fit(transactions).transform(transactions)\n",
    "df = pd.DataFrame(te_ary, columns=te.columns_)\n",
    "#df.head()\n",
    "from mlxtend.frequent_patterns import fpgrowth\n",
    "FP=fpgrowth(df, min_support=0.6,use_colnames=True)\n",
    "FP.sort_values('support',ascending=False).reset_index(drop=True)"
   ]
  },
  {
   "cell_type": "code",
   "execution_count": 15,
   "metadata": {},
   "outputs": [
    {
     "output_type": "execute_result",
     "data": {
      "text/plain": [
       "    TID          itemsets\n",
       "0  T100      [I1, I2, I5]\n",
       "1  T200          [I2, I4]\n",
       "2  T300          [I2, I3]\n",
       "3  T400      [I1, I2, I4]\n",
       "4  T500          [I1, I3]\n",
       "5  T600          [I2, I3]\n",
       "6  T700          [I1, I3]\n",
       "7  T800  [I1, I2, I3, I5]\n",
       "8  T900      [I1, I2, I3]"
      ],
      "text/html": "<div>\n<style scoped>\n    .dataframe tbody tr th:only-of-type {\n        vertical-align: middle;\n    }\n\n    .dataframe tbody tr th {\n        vertical-align: top;\n    }\n\n    .dataframe thead th {\n        text-align: right;\n    }\n</style>\n<table border=\"1\" class=\"dataframe\">\n  <thead>\n    <tr style=\"text-align: right;\">\n      <th></th>\n      <th>TID</th>\n      <th>itemsets</th>\n    </tr>\n  </thead>\n  <tbody>\n    <tr>\n      <th>0</th>\n      <td>T100</td>\n      <td>[I1, I2, I5]</td>\n    </tr>\n    <tr>\n      <th>1</th>\n      <td>T200</td>\n      <td>[I2, I4]</td>\n    </tr>\n    <tr>\n      <th>2</th>\n      <td>T300</td>\n      <td>[I2, I3]</td>\n    </tr>\n    <tr>\n      <th>3</th>\n      <td>T400</td>\n      <td>[I1, I2, I4]</td>\n    </tr>\n    <tr>\n      <th>4</th>\n      <td>T500</td>\n      <td>[I1, I3]</td>\n    </tr>\n    <tr>\n      <th>5</th>\n      <td>T600</td>\n      <td>[I2, I3]</td>\n    </tr>\n    <tr>\n      <th>6</th>\n      <td>T700</td>\n      <td>[I1, I3]</td>\n    </tr>\n    <tr>\n      <th>7</th>\n      <td>T800</td>\n      <td>[I1, I2, I3, I5]</td>\n    </tr>\n    <tr>\n      <th>8</th>\n      <td>T900</td>\n      <td>[I1, I2, I3]</td>\n    </tr>\n  </tbody>\n</table>\n</div>"
     },
     "metadata": {},
     "execution_count": 15
    }
   ],
   "source": [
    "transactions=pd.DataFrame({'TID':['T'+str(i) for i in range(100,1000,100)],'itemsets':[['I1','I2','I5'],['I2','I4'],['I2','I3'],['I1','I2','I4'],['I1','I3'],['I2','I3'],['I1','I3'],['I1','I2','I3','I5'],['I1','I2','I3']]})\n",
    "transactions"
   ]
  },
  {
   "source": [
    "### Generate distinct items and corresponding counts\n",
    "- The table will further used as header table\n",
    "- input dataframe which contains all transactions<br>\n",
    "        trans: |TID|itemsets|<br>\n",
    "        min_support: eg. 0.5\n",
    "- output an ordered dictionary with unique items and corresponding counts<br>\n",
    "dataset: "
   ],
   "cell_type": "markdown",
   "metadata": {}
  },
  {
   "cell_type": "code",
   "execution_count": 16,
   "metadata": {},
   "outputs": [],
   "source": [
    "#generate the first set with correponding counts. Sort by the counts from highest to lowest. \n",
    "def GenC1(trans,min_support):\n",
    "    C1={}\n",
    "    for i in trans:\n",
    "        for ii in set(i):\n",
    "            if ii not in C1:\n",
    "                C1[ii]=1\n",
    "            else:\n",
    "                C1[ii]+=1\n",
    "    C1={key:value for key, value in C1.items() if value/len(trans)>=min_support}#include min_support\n",
    "    return {i:[k,None] for i,k in sorted(C1.items(),key=lambda x:x[1],reverse=True)}\n"
   ]
  },
  {
   "cell_type": "code",
   "execution_count": 17,
   "metadata": {},
   "outputs": [
    {
     "output_type": "execute_result",
     "data": {
      "text/plain": [
       "{'I2': [7, None],\n",
       " 'I1': [6, None],\n",
       " 'I3': [6, None],\n",
       " 'I5': [2, None],\n",
       " 'I4': [2, None]}"
      ]
     },
     "metadata": {},
     "execution_count": 17
    }
   ],
   "source": [
    "C1=GenC1(transactions['itemsets'],0.0)\n",
    "C1"
   ]
  },
  {
   "source": [
    "If C1 does not contain any value, there is no need to further process\n",
    "\n",
    "### Generate FP tree\n",
    "- input dataset with all transactiosn\n",
    "- output an FPtree"
   ],
   "cell_type": "markdown",
   "metadata": {}
  },
  {
   "cell_type": "code",
   "execution_count": 18,
   "metadata": {},
   "outputs": [],
   "source": [
    "#tree node\n",
    "class TreeNode:\n",
    "    def __init__(self, item, count, parentNode):\n",
    "        self.item=item\n",
    "        self.count=count\n",
    "        self.nodelink=None\n",
    "        self.parent=parentNode\n",
    "        self.children={}\n",
    "    def inc_count(self,num):\n",
    "        self.count+=num\n",
    "    #def disp(self,ind=1):\n",
    "    #    print('   '*ind, self.item,'  ',self.count)\n",
    "    #    for child in self.children.values():\n",
    "    #        child.disp(ind+1)"
   ]
  },
  {
   "cell_type": "code",
   "execution_count": 19,
   "metadata": {},
   "outputs": [],
   "source": [
    "def link_same_items(curr,targetNode):\n",
    "    while curr.nodelink is not None:\n",
    "        curr=curr.nodelink\n",
    "    curr.nodelink=targetNode\n",
    "\n",
    "def updateTree_Table(SortedItems,FPTree,headertable,count):\n",
    "    if SortedItems[0] in FPTree.children:\n",
    "        FPTree.children[SortedItems[0]].inc_count(count)\n",
    "    else:\n",
    "        FPTree.children[SortedItems[0]]=TreeNode(SortedItems[0],count,FPTree)\n",
    "        if headertable[SortedItems[0]][1]==None:\n",
    "            headertable[SortedItems[0]][1]=FPTree.children[SortedItems[0]]\n",
    "        else:\n",
    "            link_same_items(headertable[SortedItems[0]][1], FPTree.children[SortedItems[0]])\n",
    "    if len(SortedItems)>1:\n",
    "        updateTree_Table(SortedItems[1:],FPTree.children[SortedItems[0]],headertable,count)"
   ]
  },
  {
   "cell_type": "code",
   "execution_count": 24,
   "metadata": {},
   "outputs": [
    {
     "output_type": "stream",
     "name": "stdout",
     "text": [
      "['I1', 'I2', 'I5']\n['I2', 'I4']\n['I2', 'I3']\n['I1', 'I2', 'I4']\n['I1', 'I3']\n['I2', 'I3']\n['I1', 'I3']\n['I1', 'I2', 'I3', 'I5']\n['I1', 'I2', 'I3']\n"
     ]
    }
   ],
   "source": [
    "#Build Tree\n",
    "def Build_tree(trans,headertable,count=1):\n",
    "    recTree=TreeNode('Null',1,None)\n",
    "    for itemset in trans:\n",
    "        #order the itemset according to the header table\n",
    "        if len(itemset)>0:\n",
    "            print(list(itemset))\n",
    "            if len(itemset)>1:\n",
    "                SortedItems=sorted(list(itemset),key=lambda x:headertable[x][0],reverse=True)\n",
    "            else:\n",
    "                SortedItems=sorted(itemset,key=lambda x:headertable[x][0],reverse=True)\n",
    "            updateTree_Table(SortedItems,recTree,headertable,count)\n",
    "    return recTree,headertable\n",
    "\n",
    "\n",
    "FPtree, HeaderTable=Build_tree(transactions['itemsets'],C1,1)"
   ]
  },
  {
   "source": [
    "### Print Tree"
   ],
   "cell_type": "markdown",
   "metadata": {}
  },
  {
   "cell_type": "code",
   "execution_count": 25,
   "metadata": {},
   "outputs": [
    {
     "output_type": "stream",
     "name": "stdout",
     "text": [
      "<__main__.TreeNode object at 0x114ba4588>\n"
     ]
    }
   ],
   "source": [
    "print(FPtree)"
   ]
  },
  {
   "cell_type": "code",
   "execution_count": 12,
   "metadata": {},
   "outputs": [
    {
     "output_type": "stream",
     "name": "stdout",
     "text": [
      "1 : null : Null dict_keys(['I2', 'I1'])\n2 : I2 : I2 dict_keys(['I1', 'I4', 'I3'])\n3 : I1 : I1 dict_keys(['I5', 'I4', 'I3'])\nGET BACK\nGET BACK\n4 : I3 : I3 dict_keys(['I5'])\nGET BACK\nGET BACK\nGET BACK\n2 : I1 : I1 dict_keys(['I3'])\nGET BACK\n    0                                          1\nI2  7  <__main__.TreeNode object at 0x114b88cc0>\nI1  6  <__main__.TreeNode object at 0x114b88d30>\nI3  6  <__main__.TreeNode object at 0x1218fc8d0>\nI5  2  <__main__.TreeNode object at 0x114b88048>\nI4  2  <__main__.TreeNode object at 0x114b88518>\n"
     ]
    }
   ],
   "source": [
    "#print(FPTree.children.keys())\n",
    "def printTree(Tree,i=0,p='null'):\n",
    "    if len(Tree.children)==0:\n",
    "        print('GET BACK')\n",
    "        return\n",
    "    else:\n",
    "        i+=1\n",
    "        print(i,':',p,':',Tree.item,Tree.children.keys())\n",
    "        for key,child in Tree.children.items():\n",
    "            printTree(child,i,key)\n",
    "printTree(FPtree)\n",
    "print(pd.DataFrame(HeaderTable.values(),HeaderTable.keys()))"
   ]
  },
  {
   "source": [
    "### Mine Tree"
   ],
   "cell_type": "markdown",
   "metadata": {}
  },
  {
   "cell_type": "code",
   "execution_count": 26,
   "metadata": {},
   "outputs": [],
   "source": [
    "def ascendTree(leafNode,PrefixPath):\n",
    "    if leafNode.parent is not None:\n",
    "        PrefixPath.append(leafNode.item)\n",
    "        ascendTree(leafNode.parent, PrefixPath)\n",
    "\n",
    "def findPrefixPath(baseitem,TreeNode):\n",
    "    CPB={}\n",
    "    while TreeNode is not None:\n",
    "        PrefixPath=[]\n",
    "        ascendTree(TreeNode,PrefixPath)\n",
    "        if len(PrefixPath)>1:\n",
    "            CPB[frozenset(PrefixPath[1:])]=TreeNode.count\n",
    "        TreeNode=TreeNode.nodelink\n",
    "    return CPB"
   ]
  },
  {
   "cell_type": "code",
   "execution_count": 27,
   "metadata": {},
   "outputs": [
    {
     "output_type": "stream",
     "name": "stdout",
     "text": [
      "  Item        Prefix\n0   I5      (I1, I2)\n1   I5  (I3, I1, I2)\n['I1', 'I2']\n"
     ]
    },
    {
     "output_type": "error",
     "ename": "KeyError",
     "evalue": "'I1'",
     "traceback": [
      "\u001b[0;31m---------------------------------------------------------------------------\u001b[0m",
      "\u001b[0;31mKeyError\u001b[0m                                  Traceback (most recent call last)",
      "\u001b[0;32m<ipython-input-27-56af305a6f37>\u001b[0m in \u001b[0;36m<module>\u001b[0;34m\u001b[0m\n\u001b[1;32m     25\u001b[0m \u001b[0mheadertable\u001b[0m\u001b[0;34m=\u001b[0m\u001b[0mHeaderTable\u001b[0m\u001b[0;34m\u001b[0m\u001b[0;34m\u001b[0m\u001b[0m\n\u001b[1;32m     26\u001b[0m \u001b[0mfreqItemList\u001b[0m\u001b[0;34m=\u001b[0m\u001b[0;34m[\u001b[0m\u001b[0;34m]\u001b[0m\u001b[0;34m\u001b[0m\u001b[0;34m\u001b[0m\u001b[0m\n\u001b[0;32m---> 27\u001b[0;31m \u001b[0mmineTree\u001b[0m\u001b[0;34m(\u001b[0m\u001b[0mFPtree\u001b[0m\u001b[0;34m,\u001b[0m \u001b[0mheadertable\u001b[0m\u001b[0;34m,\u001b[0m \u001b[0;36m3\u001b[0m\u001b[0;34m,\u001b[0m \u001b[0mset\u001b[0m\u001b[0;34m(\u001b[0m\u001b[0;34m[\u001b[0m\u001b[0;34m]\u001b[0m\u001b[0;34m)\u001b[0m\u001b[0;34m,\u001b[0m \u001b[0mfreqItemList\u001b[0m\u001b[0;34m)\u001b[0m\u001b[0;34m\u001b[0m\u001b[0;34m\u001b[0m\u001b[0m\n\u001b[0m",
      "\u001b[0;32m<ipython-input-27-56af305a6f37>\u001b[0m in \u001b[0;36mmineTree\u001b[0;34m(inTree, headertable, min_support, preFix, freqItemList)\u001b[0m\n\u001b[1;32m     18\u001b[0m             \u001b[0mprint\u001b[0m\u001b[0;34m(\u001b[0m\u001b[0mCPBC1\u001b[0m\u001b[0;34m)\u001b[0m\u001b[0;34m\u001b[0m\u001b[0;34m\u001b[0m\u001b[0m\n\u001b[1;32m     19\u001b[0m             \u001b[0mprint\u001b[0m\u001b[0;34m(\u001b[0m\u001b[0;34m'-'\u001b[0m\u001b[0;34m*\u001b[0m\u001b[0;36m30\u001b[0m\u001b[0;34m)\u001b[0m\u001b[0;34m\u001b[0m\u001b[0;34m\u001b[0m\u001b[0m\n\u001b[0;32m---> 20\u001b[0;31m         \u001b[0mCondFPtree\u001b[0m\u001b[0;34m,\u001b[0m \u001b[0mCondheadertable\u001b[0m\u001b[0;34m=\u001b[0m\u001b[0mBuild_tree\u001b[0m\u001b[0;34m(\u001b[0m\u001b[0mlist\u001b[0m\u001b[0;34m(\u001b[0m\u001b[0mCPB\u001b[0m\u001b[0;34m.\u001b[0m\u001b[0mkeys\u001b[0m\u001b[0;34m(\u001b[0m\u001b[0;34m)\u001b[0m\u001b[0;34m)\u001b[0m\u001b[0;34m,\u001b[0m\u001b[0mCPBC1\u001b[0m\u001b[0;34m,\u001b[0m\u001b[0;36m1\u001b[0m\u001b[0;34m)\u001b[0m\u001b[0;34m\u001b[0m\u001b[0;34m\u001b[0m\u001b[0m\n\u001b[0m\u001b[1;32m     21\u001b[0m \u001b[0;34m\u001b[0m\u001b[0m\n\u001b[1;32m     22\u001b[0m         \u001b[0;32mif\u001b[0m \u001b[0mCondheadertable\u001b[0m \u001b[0;32mis\u001b[0m \u001b[0;32mnot\u001b[0m \u001b[0;32mNone\u001b[0m\u001b[0;34m:\u001b[0m\u001b[0;34m\u001b[0m\u001b[0;34m\u001b[0m\u001b[0m\n",
      "\u001b[0;32m<ipython-input-24-6376f45d1f85>\u001b[0m in \u001b[0;36mBuild_tree\u001b[0;34m(trans, headertable, count)\u001b[0m\n\u001b[1;32m      6\u001b[0m         \u001b[0;32mif\u001b[0m \u001b[0mlen\u001b[0m\u001b[0;34m(\u001b[0m\u001b[0mitemset\u001b[0m\u001b[0;34m)\u001b[0m\u001b[0;34m>\u001b[0m\u001b[0;36m0\u001b[0m\u001b[0;34m:\u001b[0m\u001b[0;34m\u001b[0m\u001b[0;34m\u001b[0m\u001b[0m\n\u001b[1;32m      7\u001b[0m             \u001b[0mprint\u001b[0m\u001b[0;34m(\u001b[0m\u001b[0mlist\u001b[0m\u001b[0;34m(\u001b[0m\u001b[0mitemset\u001b[0m\u001b[0;34m)\u001b[0m\u001b[0;34m)\u001b[0m\u001b[0;34m\u001b[0m\u001b[0;34m\u001b[0m\u001b[0m\n\u001b[0;32m----> 8\u001b[0;31m             \u001b[0mSortedItems\u001b[0m\u001b[0;34m=\u001b[0m\u001b[0msorted\u001b[0m\u001b[0;34m(\u001b[0m\u001b[0mlist\u001b[0m\u001b[0;34m(\u001b[0m\u001b[0mitemset\u001b[0m\u001b[0;34m)\u001b[0m\u001b[0;34m,\u001b[0m\u001b[0mkey\u001b[0m\u001b[0;34m=\u001b[0m\u001b[0;32mlambda\u001b[0m \u001b[0mx\u001b[0m\u001b[0;34m:\u001b[0m\u001b[0mheadertable\u001b[0m\u001b[0;34m[\u001b[0m\u001b[0mx\u001b[0m\u001b[0;34m]\u001b[0m\u001b[0;34m[\u001b[0m\u001b[0;36m0\u001b[0m\u001b[0;34m]\u001b[0m\u001b[0;34m,\u001b[0m\u001b[0mreverse\u001b[0m\u001b[0;34m=\u001b[0m\u001b[0;32mTrue\u001b[0m\u001b[0;34m)\u001b[0m\u001b[0;34m\u001b[0m\u001b[0;34m\u001b[0m\u001b[0m\n\u001b[0m\u001b[1;32m      9\u001b[0m             \u001b[0mupdateTree_Table\u001b[0m\u001b[0;34m(\u001b[0m\u001b[0mSortedItems\u001b[0m\u001b[0;34m,\u001b[0m\u001b[0mrecTree\u001b[0m\u001b[0;34m,\u001b[0m\u001b[0mheadertable\u001b[0m\u001b[0;34m,\u001b[0m\u001b[0mcount\u001b[0m\u001b[0;34m)\u001b[0m\u001b[0;34m\u001b[0m\u001b[0;34m\u001b[0m\u001b[0m\n\u001b[1;32m     10\u001b[0m     \u001b[0;32mreturn\u001b[0m \u001b[0mrecTree\u001b[0m\u001b[0;34m,\u001b[0m\u001b[0mheadertable\u001b[0m\u001b[0;34m\u001b[0m\u001b[0;34m\u001b[0m\u001b[0m\n",
      "\u001b[0;32m<ipython-input-24-6376f45d1f85>\u001b[0m in \u001b[0;36m<lambda>\u001b[0;34m(x)\u001b[0m\n\u001b[1;32m      6\u001b[0m         \u001b[0;32mif\u001b[0m \u001b[0mlen\u001b[0m\u001b[0;34m(\u001b[0m\u001b[0mitemset\u001b[0m\u001b[0;34m)\u001b[0m\u001b[0;34m>\u001b[0m\u001b[0;36m0\u001b[0m\u001b[0;34m:\u001b[0m\u001b[0;34m\u001b[0m\u001b[0;34m\u001b[0m\u001b[0m\n\u001b[1;32m      7\u001b[0m             \u001b[0mprint\u001b[0m\u001b[0;34m(\u001b[0m\u001b[0mlist\u001b[0m\u001b[0;34m(\u001b[0m\u001b[0mitemset\u001b[0m\u001b[0;34m)\u001b[0m\u001b[0;34m)\u001b[0m\u001b[0;34m\u001b[0m\u001b[0;34m\u001b[0m\u001b[0m\n\u001b[0;32m----> 8\u001b[0;31m             \u001b[0mSortedItems\u001b[0m\u001b[0;34m=\u001b[0m\u001b[0msorted\u001b[0m\u001b[0;34m(\u001b[0m\u001b[0mlist\u001b[0m\u001b[0;34m(\u001b[0m\u001b[0mitemset\u001b[0m\u001b[0;34m)\u001b[0m\u001b[0;34m,\u001b[0m\u001b[0mkey\u001b[0m\u001b[0;34m=\u001b[0m\u001b[0;32mlambda\u001b[0m \u001b[0mx\u001b[0m\u001b[0;34m:\u001b[0m\u001b[0mheadertable\u001b[0m\u001b[0;34m[\u001b[0m\u001b[0mx\u001b[0m\u001b[0;34m]\u001b[0m\u001b[0;34m[\u001b[0m\u001b[0;36m0\u001b[0m\u001b[0;34m]\u001b[0m\u001b[0;34m,\u001b[0m\u001b[0mreverse\u001b[0m\u001b[0;34m=\u001b[0m\u001b[0;32mTrue\u001b[0m\u001b[0;34m)\u001b[0m\u001b[0;34m\u001b[0m\u001b[0;34m\u001b[0m\u001b[0m\n\u001b[0m\u001b[1;32m      9\u001b[0m             \u001b[0mupdateTree_Table\u001b[0m\u001b[0;34m(\u001b[0m\u001b[0mSortedItems\u001b[0m\u001b[0;34m,\u001b[0m\u001b[0mrecTree\u001b[0m\u001b[0;34m,\u001b[0m\u001b[0mheadertable\u001b[0m\u001b[0;34m,\u001b[0m\u001b[0mcount\u001b[0m\u001b[0;34m)\u001b[0m\u001b[0;34m\u001b[0m\u001b[0;34m\u001b[0m\u001b[0m\n\u001b[1;32m     10\u001b[0m     \u001b[0;32mreturn\u001b[0m \u001b[0mrecTree\u001b[0m\u001b[0;34m,\u001b[0m\u001b[0mheadertable\u001b[0m\u001b[0;34m\u001b[0m\u001b[0;34m\u001b[0m\u001b[0m\n",
      "\u001b[0;31mKeyError\u001b[0m: 'I1'"
     ]
    }
   ],
   "source": [
    "#FPtree\n",
    "def mineTree(inTree, headertable, min_support,preFix, freqItemList):\n",
    "    reverse_headertable = [v for v,_ in sorted(headertable.items(), key=lambda x: x[1][0])]\n",
    "    for baseitem in reverse_headertable:\n",
    "        #Find prefixed items in a set\n",
    "        newFreqSet=preFix.copy()\n",
    "        newFreqSet.add(baseitem)\n",
    "        freqItemList.append(newFreqSet)\n",
    "\n",
    "        #Conditional Pattern Base\n",
    "        CPB=findPrefixPath(baseitem,headertable[baseitem][1])\n",
    "        if len(CPB)!=0:\n",
    "            print(pd.DataFrame({'Item':[str(baseitem) for i in range(len(CPB))],'Prefix':[(i) for i in CPB]}))\n",
    "        #print(baseitem,CPB)\n",
    "        #Make conditional FP tree accordingly\n",
    "        CPBC1=GenC1(CPB,min_support)\n",
    "        if len(CPBC1)!=0:\n",
    "            print(CPBC1)\n",
    "            print('-'*30)\n",
    "        CondFPtree, Condheadertable=Build_tree(list(CPB.keys()),CPBC1,1)\n",
    "\n",
    "        if Condheadertable is not None:\n",
    "            mineTree(CondFPtree, Condheadertable, min_support,newFreqSet, freqItemList)\n",
    "    \n",
    "headertable=HeaderTable\n",
    "freqItemList=[]\n",
    "mineTree(FPtree, headertable, 3, set([]), freqItemList)\n"
   ]
  },
  {
   "cell_type": "code",
   "execution_count": 169,
   "metadata": {},
   "outputs": [],
   "source": [
    "trans=list(CPB.keys())\n",
    "headertable=CPBC1\n",
    "count=1\n",
    "Build_tree(list(CPB.keys()),CPBC1,1)\n",
    "\n",
    "recTree=TreeNode('Null',1,None)\n",
    "for itemset in trans:\n",
    "    #order the itemset according to the header table\n",
    "    if len(itemset)>0:\n",
    "        SortedItems=sorted(list(itemset),key=lambda x:headertable[x][0],reverse=True)\n",
    "    updateTree_Table(SortedItems,recTree,headertable,count)\n"
   ]
  },
  {
   "source": [
    "### calculate rules"
   ],
   "cell_type": "markdown",
   "metadata": {}
  },
  {
   "cell_type": "code",
   "execution_count": null,
   "metadata": {},
   "outputs": [],
   "source": [
    "def aprioriGen(Lk, k):\n",
    "    retList = []\n",
    "    lenLk = len(Lk)\n",
    "    for i in range(lenLk):\n",
    "        for j in range(i+1, lenLk):\n",
    "            L1 = list(Lk[i])[:k-2]; L2 = list(Lk[j])[:k-2]\n",
    "            L1.sort(); L2.sort()\n",
    "            if L1 == L2: \n",
    "                retList.append(Lk[i] | Lk[j])\n",
    "    return retList\n",
    "\n",
    "def calcConf(freqSet, H, supportData, br1, minConf=0.7):\n",
    "    prunedH = []\n",
    "    for conseq in H:\n",
    "        conf = supportData[freqSet] / supportData[freqSet - conseq]\n",
    "        if conf >= minConf:\n",
    "            print \"{0} --> {1} conf:{2}\".format(freqSet - conseq, conseq, conf)\n",
    "            br1.append((freqSet - conseq, conseq, conf))\n",
    "            prunedH.append(conseq)\n",
    "    return prunedH\n",
    "\n",
    "def rulesFromConseq(freqSet, H, supportData, br1, minConf=0.7):\n",
    "    m = len(H[0])\n",
    "    if len(freqSet) > m+1:\n",
    "        Hmp1 = aprioriGen(H, m+1)\n",
    "        Hmp1 = calcConf(freqSet, Hmp1, supportData, br1, minConf)\n",
    "        if len(Hmp1)>1:\n",
    "            rulesFromConseq(freqSet, Hmp1, supportData, br1, minConf)\n",
    "\n",
    "def generateRules(freqItemList, supportData, minConf=0.7):\n",
    "    bigRuleList = []\n",
    "    for freqSet in freqItemList:\n",
    "        H1 = [frozenset([item]) for item in freqSet]\n",
    "        if len(freqSet)>1:\n",
    "            rulesFromConseq(freqSet, H1, supportData, bigRuleList, minConf)\n",
    "        else:\n",
    "            calcConf(freqSet, H1, supportData, bigRuleList, minConf)\n",
    "    return bigRuleList"
   ]
  },
  {
   "cell_type": "code",
   "execution_count": null,
   "metadata": {},
   "outputs": [],
   "source": [
    "def calSuppData(headerTable, freqItemList, total):\n",
    "    suppData = {}\n",
    "    for Item in freqItemList:\n",
    "        # 找到最底下的结点\n",
    "        Item = sorted(Item, key=lambda x:headerTable[x][0])\n",
    "        base = findPrefixPath(Item[0], headerTable)\n",
    "        # 计算支持度\n",
    "        support = 0\n",
    "        for B in base:\n",
    "            if frozenset(Item[1:]).issubset(set(B)):\n",
    "                support += base[B]\n",
    "        # 对于根的儿子，没有条件模式基\n",
    "        if len(base)==0 and len(Item)==1:\n",
    "            support = headerTable[Item[0]][0]\n",
    "            \n",
    "        suppData[frozenset(Item)] = support/float(total)\n",
    "    return suppData\n",
    "\n",
    "\n",
    "suppData = fpgrowth.calSuppData(myHeaderTab, freqItems, len(parsedDat))\n",
    "suppData[frozenset([])] = 1.0\n",
    "for x,v in suppData.iteritems():\n",
    "    print x,v\n",
    "\n",
    "freqItems = [frozenset(x) for x in freqItems]\n",
    "fpgrowth.generateRules(freqItems, suppData)"
   ]
  },
  {
   "cell_type": "code",
   "execution_count": 167,
   "metadata": {},
   "outputs": [
    {
     "output_type": "stream",
     "name": "stdout",
     "text": [
      "1 : null : Null dict_keys(['I1'])\n2 : I1 : I1 dict_keys(['I2'])\n3 : I2 : I2 dict_keys(['I3'])\nGET BACK\n"
     ]
    }
   ],
   "source": [
    "printTree(recTree)"
   ]
  },
  {
   "cell_type": "code",
   "execution_count": 164,
   "metadata": {},
   "outputs": [
    {
     "output_type": "stream",
     "name": "stdout",
     "text": [
      "[frozenset({'I1', 'I2'}), frozenset({'I1', 'I2', 'I3'})]\nfrozenset({'I1', 'I2'})\nfrozenset({'I1', 'I2', 'I3'})\n{'I1': [2, None], 'I2': [2, None], 'I3': [1, None]}\n"
     ]
    }
   ],
   "source": [
    "print(list(CPB.keys()))\n",
    "for i in CPB.keys():\n",
    "    print(i)\n",
    "print(CPBC1)\n",
    "itemset=list(CPB.keys())"
   ]
  },
  {
   "cell_type": "code",
   "execution_count": 83,
   "metadata": {},
   "outputs": [
    {
     "output_type": "execute_result",
     "data": {
      "text/plain": [
       "          index  0\n",
       "0      (I1, I2)  1\n",
       "1  (I1, I2, I3)  1"
      ],
      "text/html": "<div>\n<style scoped>\n    .dataframe tbody tr th:only-of-type {\n        vertical-align: middle;\n    }\n\n    .dataframe tbody tr th {\n        vertical-align: top;\n    }\n\n    .dataframe thead th {\n        text-align: right;\n    }\n</style>\n<table border=\"1\" class=\"dataframe\">\n  <thead>\n    <tr style=\"text-align: right;\">\n      <th></th>\n      <th>index</th>\n      <th>0</th>\n    </tr>\n  </thead>\n  <tbody>\n    <tr>\n      <th>0</th>\n      <td>(I1, I2)</td>\n      <td>1</td>\n    </tr>\n    <tr>\n      <th>1</th>\n      <td>(I1, I2, I3)</td>\n      <td>1</td>\n    </tr>\n  </tbody>\n</table>\n</div>"
     },
     "metadata": {},
     "execution_count": 83
    }
   ],
   "source": [
    "pd.DataFrame.from_dict(CPB,orient='index').reset_index()"
   ]
  }
 ]
}