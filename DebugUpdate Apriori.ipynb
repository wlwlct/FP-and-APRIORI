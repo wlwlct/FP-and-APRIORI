{
 "metadata": {
  "language_info": {
   "codemirror_mode": {
    "name": "ipython",
    "version": 3
   },
   "file_extension": ".py",
   "mimetype": "text/x-python",
   "name": "python",
   "nbconvert_exporter": "python",
   "pygments_lexer": "ipython3",
   "version": "3.7.3-final"
  },
  "orig_nbformat": 2,
  "kernelspec": {
   "name": "Python 3.7.3 64-bit",
   "display_name": "Python 3.7.3 64-bit",
   "metadata": {
    "interpreter": {
     "hash": "31f2aee4e71d21fbe5cf8b01ff0e069b9275f58929596ceb00d14d90e3e16cd6"
    }
   }
  }
 },
 "nbformat": 4,
 "nbformat_minor": 2,
 "cells": [
  {
   "cell_type": "code",
   "execution_count": 1,
   "metadata": {},
   "outputs": [],
   "source": [
    "simpDat=[]\n",
    "with open('/Users/livi/Documents/2020 Fall/data mining/Project 1/FP-and-APRIORI/Example_data.txt', 'r') as f:\n",
    "    for line in f.readlines():\n",
    "        L=line.split(',')\n",
    "        L[-1]=L[-1].replace('\\n','')\n",
    "        simpDat.append(L)"
   ]
  },
  {
   "cell_type": "code",
   "execution_count": 5,
   "metadata": {
    "tags": []
   },
   "outputs": [
    {
     "output_type": "stream",
     "name": "stdout",
     "text": [
      "         itemset  support\n0       (I5, I1)        2\n1   (I5, I1, I2)        2\n2       (I5, I2)        2\n3       (I2, I1)        4\n4           (I5)        2\n5           (I1)        6\n6           (I2)        7\n7       (I2, I4)        2\n8           (I4)        2\n9       (I3, I2)        4\n10          (I3)        6\n11      (I3, I1)        4\n12  (I2, I1, I3)        2\n   Frequent Itemset(AUB)   From(A)     To(B)  Confident Number(num of A)  \\\n0               (I3, I1)      (I1)      (I3)                           6   \n1               (I3, I1)      (I3)      (I1)                           6   \n2               (I3, I2)      (I2)      (I3)                           7   \n3               (I3, I2)      (I3)      (I2)                           6   \n4               (I2, I4)      (I4)      (I2)                           2   \n5               (I2, I4)      (I2)      (I4)                           7   \n6               (I2, I1)      (I1)      (I2)                           6   \n7               (I2, I1)      (I2)      (I1)                           7   \n8               (I5, I2)      (I2)      (I5)                           7   \n9               (I5, I2)      (I5)      (I2)                           2   \n10              (I5, I1)      (I1)      (I5)                           6   \n11              (I5, I1)      (I5)      (I1)                           2   \n12          (I2, I1, I3)  (I1, I3)      (I2)                           4   \n13          (I2, I1, I3)  (I2, I3)      (I1)                           4   \n14          (I2, I1, I3)  (I2, I1)      (I3)                           4   \n15          (I2, I1, I3)      (I3)  (I2, I1)                           6   \n16          (I2, I1, I3)      (I1)  (I2, I3)                           6   \n17          (I2, I1, I3)      (I2)  (I1, I3)                           7   \n18          (I5, I1, I2)  (I1, I2)      (I5)                           4   \n19          (I5, I1, I2)  (I5, I2)      (I1)                           2   \n20          (I5, I1, I2)  (I5, I1)      (I2)                           2   \n21          (I5, I1, I2)      (I2)  (I5, I1)                           7   \n22          (I5, I1, I2)      (I1)  (I5, I2)                           6   \n23          (I5, I1, I2)      (I5)  (I1, I2)                           2   \n\n    Support Number(num of AUB)  Support Number(num of B)  Confidence  \\\n0                            4                         6    0.666667   \n1                            4                         6    0.666667   \n2                            4                         6    0.571429   \n3                            4                         7    0.666667   \n4                            2                         7    1.000000   \n5                            2                         2    0.285714   \n6                            4                         7    0.666667   \n7                            4                         6    0.571429   \n8                            2                         2    0.285714   \n9                            2                         7    1.000000   \n10                           2                         2    0.333333   \n11                           2                         6    1.000000   \n12                           2                         7    0.500000   \n13                           2                         6    0.500000   \n14                           2                         6    0.500000   \n15                           2                         4    0.333333   \n16                           2                         4    0.333333   \n17                           2                         4    0.285714   \n18                           2                         2    0.500000   \n19                           2                         6    1.000000   \n20                           2                         7    1.000000   \n21                           2                         2    0.285714   \n22                           2                         2    0.333333   \n23                           2                         4    1.000000   \n\n     Support      Lift  \n0   0.444444  0.666667  \n1   0.444444  0.666667  \n2   0.444444  0.666667  \n3   0.444444  0.571429  \n4   0.222222  0.285714  \n5   0.222222  1.000000  \n6   0.444444  0.571429  \n7   0.444444  0.666667  \n8   0.222222  1.000000  \n9   0.222222  0.285714  \n10  0.222222  1.000000  \n11  0.222222  0.333333  \n12  0.222222  0.285714  \n13  0.222222  0.333333  \n14  0.222222  0.333333  \n15  0.222222  0.500000  \n16  0.222222  0.500000  \n17  0.222222  0.500000  \n18  0.222222  1.000000  \n19  0.222222  0.333333  \n20  0.222222  0.285714  \n21  0.222222  1.000000  \n22  0.222222  1.000000  \n23  0.222222  0.500000  \n"
     ]
    }
   ],
   "source": [
    "import pandas as pd\n",
    "import itertools\n",
    "\n",
    "'''\n",
    "Get Seed and repeat\n",
    "'''\n",
    "# Generate seed C1\n",
    "def createC1(dataSet):\n",
    "    C1 = []\n",
    "    for transaction in dataSet:\n",
    "        for item in transaction:\n",
    "            if not [item] in C1:\n",
    "                C1.append([item])\n",
    "    C1.sort()\n",
    "    return [frozenset(i) for i in C1]\n",
    "\n",
    "\n",
    "#Scan through datasets, remove the ones below min support\n",
    "def scanD(D, Ck, minSupport):\n",
    "    # Generate counts for the C\n",
    "    #print('D',D)\n",
    "    #print('Ck',Ck)\n",
    "    ssCnt = {}\n",
    "    for tid in D:\n",
    "        for can in Ck:\n",
    "            if can.issubset(tid):\n",
    "                if can not in ssCnt:\n",
    "                    ssCnt[can] = 1\n",
    "                else:\n",
    "                    ssCnt[can] += 1\n",
    "    #print('Cn with count:',pd.DataFrame.from_dict(ssCnt,orient='index'))\n",
    "    \n",
    "    # Check weather meet minimum support or not, remove the ones below\n",
    "    numItems = float(len(D))\n",
    "    retList = []\n",
    "    supportData = {}\n",
    "    for key in ssCnt:\n",
    "        support = ssCnt[key]\n",
    "        #print('support',support,'min_support',minSupport,'Bool',support >= minSupport)\n",
    "        if support >= minSupport*numItems:\n",
    "            retList.insert(0, key)\n",
    "            supportData[key] = support\n",
    "    #print('supportData:',pd.DataFrame.from_dict(supportData,orient='index'))\n",
    "    #print('-'*30)\n",
    "    return retList, supportData\n",
    "\n",
    "def notRedundant(mergedlist,Lkm1,km1,l1,l2):\n",
    "    sub_mergedlist=[set(i) for i in itertools.combinations(mergedlist,km1) if set(i) not in [l1,l2]]\n",
    "    for i in sub_mergedlist:\n",
    "        if i not in Lkm1:\n",
    "            return False\n",
    "    return True\n",
    "\n",
    "\n",
    "#Generate Ck according to Lk\n",
    "def aprioriGen(Lk, k):\n",
    "    #print('AprioriGen Lk',Lk)\n",
    "    #print('AprioriGen k',k)\n",
    "    retList = []\n",
    "    lenLk = len(Lk)\n",
    "    for i in range(lenLk):\n",
    "        for j in range(i+1, lenLk):\n",
    "            L1 = list(Lk[i])[: k-2]\n",
    "            L2 = list(Lk[j])[: k-2]\n",
    "            L1.sort()\n",
    "            L2.sort()\n",
    "            #If the all elements exept the last are same, merge two elements\n",
    "            if L1 == L2:\n",
    "                mergedlist=Lk[i] | Lk[j]\n",
    "                #print('---------',mergedlist,k-1)\n",
    "                if notRedundant(mergedlist,Lk,k-1,Lk[i],Lk[j]):\n",
    "                    retList.append(mergedlist)\n",
    "                #else:\n",
    "                #    print('----Remove-----',mergedlist,k-1)\n",
    "    return retList\n",
    "\n",
    "\n",
    "def apriori(dataSet, minSupport=0.5):\n",
    "    #Generate C1 \n",
    "    C1 = createC1(dataSet)\n",
    "    D=list(map(set,dataSet))\n",
    "    #print('C1',C1)\n",
    "    L1, supportData = scanD(D, C1, minSupport)\n",
    "\n",
    "    #print('supportData',pd.DataFrame(supportData.values(),supportData.keys()))\n",
    "    #print('L1',(L1))\n",
    "    #print('------Seed------'*5,'\\n')\n",
    "\n",
    "    #repeatively generate L and C\n",
    "    L = [L1]\n",
    "    k = 2 #help to put values in L\n",
    "    while (len(L[k-2]) > 0):\n",
    "        #print('L_',k-2,L[k-2])\n",
    "        Ck = aprioriGen(L[k-2], k) \n",
    "        #print(pd.DataFrame({'Ck':Ck}))\n",
    "        Lk, supK = scanD(D, Ck, minSupport) \n",
    "        #print(pd.DataFrame(supK.values(),supK.keys()))\n",
    "        supportData.update(supK)\n",
    "        #print('*'*10)\n",
    "        if len(Lk) == 0:\n",
    "            break\n",
    "        # all the Lk generated along the way are put into L.\n",
    "        L.append(Lk)\n",
    "        k += 1\n",
    "    return L, supportData\n",
    "\n",
    "\n",
    "'''\n",
    "Mine Association Rule\n",
    "'''\n",
    "def calcConf(freqSet, H, supportData, brl, minConf=0.7):\n",
    "    prunedH = []\n",
    "    for conseq in H:\n",
    "        conf = supportData[freqSet]/supportData[freqSet-conseq]\n",
    "        #print('freqSet:',freqSet)\n",
    "        #print('conseq:',conseq)\n",
    "        #print('freqSet-conseq',freqSet-conseq)\n",
    "        #print('conf:',conf)\n",
    "        if conf >= minConf:\n",
    "            #print(freqSet-conseq, '-->', conseq, 'conf:', conf)\n",
    "            brl.append((freqSet,freqSet-conseq, conseq,supportData[freqSet-conseq],supportData[freqSet],supportData[conseq]))\n",
    "            prunedH.append(conseq)\n",
    "    return prunedH\n",
    "\n",
    "def rulesFromConseq(freqSet, H, supportData, brl, minConf=0.7):\n",
    "    m = len(H[0])\n",
    "    #print('*'*10*m,'H[0]',H[0])\n",
    "    #print('H:',H)\n",
    "    if (len(freqSet) >(m+1)):\n",
    "        H = calcConf(freqSet, H, supportData, brl, minConf)\n",
    "        Hmp1 = aprioriGen(H, m+1)\n",
    "        #print('*'*20*m,Hmp1)\n",
    "        Hmp1 = calcConf(freqSet, Hmp1, supportData, brl, minConf)\n",
    "        #print('Hmp1=', Hmp1)\n",
    "        #print('len(Hmp1)=', len(Hmp1), 'len(freqSet)=', len(freqSet))\n",
    "        if (len(Hmp1) >= 1):\n",
    "            rulesFromConseq(freqSet, Hmp1, supportData, brl, minConf)\n",
    "\n",
    "# Generate Association rules\n",
    "def generateRules(L, supportData, minConf=0.7):\n",
    "    allo=[[] for i in range(max([len(i) for i in L]))]\n",
    "    [allo[len(i)-1].append(i) for i in L]\n",
    "    L=allo\n",
    "    bigRuleList = []\n",
    "    for i in range(1, len(L)):\n",
    "        for freqSet in L[i]:#wont calculate with frequent item=1\n",
    "            H1 = [frozenset([item]) for item in freqSet]\n",
    "            #print('H1',H1)\n",
    "            if (i > 1):#if only has two items, no need to split the relation\n",
    "                rulesFromConseq(freqSet, H1, supportData, bigRuleList, minConf)\n",
    "            else:\n",
    "                calcConf(freqSet, H1, supportData, bigRuleList, minConf)\n",
    "            #print('-'*30)\n",
    "    return bigRuleList\n",
    "\n",
    "def printrules(rules,total):\n",
    "    C=['Frequent Itemset(AUB)','From(A)','To(B)','Confident Number(num of A)','Support Number(num of AUB)','Support Number(num of B)']\n",
    "    Ruletable=pd.DataFrame(rules)\n",
    "    Ruletable.columns=C\n",
    "    Ruletable['Confidence']=Ruletable['Support Number(num of AUB)']/Ruletable['Confident Number(num of A)']\n",
    "    Ruletable['Support']=Ruletable['Support Number(num of AUB)']/total\n",
    "    Ruletable['Lift']=Ruletable['Support Number(num of AUB)']/Ruletable['Support Number(num of B)']\n",
    "    #print(Ruletable.shape)\n",
    "    Ruletable.drop_duplicates(inplace=True)\n",
    "    Ruletable.reset_index(drop=True,inplace=True)\n",
    "    #print(Ruletable.shape)\n",
    "    return Ruletable\n",
    "\n",
    "def printsupport(S):\n",
    "    S_table=pd.DataFrame.from_dict(S,orient='index').reset_index()\n",
    "    S_table.columns=['itemset','support']\n",
    "    S_table\n",
    "    return S_table\n",
    "\n",
    "\n",
    "#partition\n",
    "def partition(fulldataSet,n,minSupport):#n specific how many partitions you want\n",
    "    split=[i for i in range(0,len(fulldataSet),round(len(fulldataSet)/n))]\n",
    "    A=[(split[i],split[i+1]) if i+1!=len(split) else (split[i],len(fulldataSet)) for i in range(len(split))]\n",
    "    partitionL=set()\n",
    "    #print(partitionL)\n",
    "    for i in A:\n",
    "        LI,_ = apriori(fulldataSet[i[0]:i[1]], minSupport)\n",
    "        for sublist in LI:\n",
    "            for item in sublist:\n",
    "                partitionL.add(item)\n",
    "    #print(len(partitionL))\n",
    "    alllist, allsupport=scanD(fulldataSet,list(partitionL),minSupport)\n",
    "    return alllist,allsupport\n",
    "\n",
    "if __name__ == \"__main__\":\n",
    "    simpDat = [['I1','I2','I5'],['I2','I4'],['I2','I3'],['I1','I2','I4'],['I1','I3'],['I2','I3'],['I1','I3'],['I1','I2','I3','I5'],['I1','I2','I3']]\n",
    "    #LI, S = apriori(simpDat, minSupport=0.5)\n",
    "    #print(LI)\n",
    "    LI,S=partition(simpDat,3,minSupport=1.9/9)\n",
    "    print(printsupport(S))\n",
    "    rules = generateRules(LI, S, minConf=0)\n",
    "    print(printrules(rules,len(simpDat)))"
   ]
  },
  {
   "cell_type": "code",
   "execution_count": 3,
   "metadata": {},
   "outputs": [
    {
     "output_type": "execute_result",
     "data": {
      "text/plain": [
       "         itemset  support\n",
       "0       (I5, I1)        2\n",
       "1   (I5, I1, I2)        2\n",
       "2       (I5, I2)        2\n",
       "3       (I2, I1)        4\n",
       "4           (I5)        2\n",
       "5           (I1)        6\n",
       "6           (I2)        7\n",
       "7       (I2, I4)        2\n",
       "8           (I4)        2\n",
       "9       (I3, I2)        4\n",
       "10          (I3)        6\n",
       "11      (I3, I1)        4\n",
       "12  (I2, I1, I3)        2"
      ],
      "text/html": "<div>\n<style scoped>\n    .dataframe tbody tr th:only-of-type {\n        vertical-align: middle;\n    }\n\n    .dataframe tbody tr th {\n        vertical-align: top;\n    }\n\n    .dataframe thead th {\n        text-align: right;\n    }\n</style>\n<table border=\"1\" class=\"dataframe\">\n  <thead>\n    <tr style=\"text-align: right;\">\n      <th></th>\n      <th>itemset</th>\n      <th>support</th>\n    </tr>\n  </thead>\n  <tbody>\n    <tr>\n      <th>0</th>\n      <td>(I5, I1)</td>\n      <td>2</td>\n    </tr>\n    <tr>\n      <th>1</th>\n      <td>(I5, I1, I2)</td>\n      <td>2</td>\n    </tr>\n    <tr>\n      <th>2</th>\n      <td>(I5, I2)</td>\n      <td>2</td>\n    </tr>\n    <tr>\n      <th>3</th>\n      <td>(I2, I1)</td>\n      <td>4</td>\n    </tr>\n    <tr>\n      <th>4</th>\n      <td>(I5)</td>\n      <td>2</td>\n    </tr>\n    <tr>\n      <th>5</th>\n      <td>(I1)</td>\n      <td>6</td>\n    </tr>\n    <tr>\n      <th>6</th>\n      <td>(I2)</td>\n      <td>7</td>\n    </tr>\n    <tr>\n      <th>7</th>\n      <td>(I2, I4)</td>\n      <td>2</td>\n    </tr>\n    <tr>\n      <th>8</th>\n      <td>(I4)</td>\n      <td>2</td>\n    </tr>\n    <tr>\n      <th>9</th>\n      <td>(I3, I2)</td>\n      <td>4</td>\n    </tr>\n    <tr>\n      <th>10</th>\n      <td>(I3)</td>\n      <td>6</td>\n    </tr>\n    <tr>\n      <th>11</th>\n      <td>(I3, I1)</td>\n      <td>4</td>\n    </tr>\n    <tr>\n      <th>12</th>\n      <td>(I2, I1, I3)</td>\n      <td>2</td>\n    </tr>\n  </tbody>\n</table>\n</div>"
     },
     "metadata": {},
     "execution_count": 3
    }
   ],
   "source": [
    "printsupport(S)"
   ]
  },
  {
   "cell_type": "code",
   "execution_count": 4,
   "metadata": {},
   "outputs": [
    {
     "output_type": "execute_result",
     "data": {
      "text/plain": [
       "   Frequent Itemset(AUB)   From(A)     To(B)  Confident Number(num of A)  \\\n",
       "0               (I3, I1)      (I1)      (I3)                           6   \n",
       "1               (I3, I1)      (I3)      (I1)                           6   \n",
       "2               (I3, I2)      (I2)      (I3)                           7   \n",
       "3               (I3, I2)      (I3)      (I2)                           6   \n",
       "4               (I2, I4)      (I4)      (I2)                           2   \n",
       "5               (I2, I4)      (I2)      (I4)                           7   \n",
       "6               (I2, I1)      (I1)      (I2)                           6   \n",
       "7               (I2, I1)      (I2)      (I1)                           7   \n",
       "8               (I5, I2)      (I2)      (I5)                           7   \n",
       "9               (I5, I2)      (I5)      (I2)                           2   \n",
       "10              (I5, I1)      (I1)      (I5)                           6   \n",
       "11              (I5, I1)      (I5)      (I1)                           2   \n",
       "12          (I2, I1, I3)  (I1, I3)      (I2)                           4   \n",
       "13          (I2, I1, I3)  (I2, I3)      (I1)                           4   \n",
       "14          (I2, I1, I3)  (I2, I1)      (I3)                           4   \n",
       "15          (I2, I1, I3)      (I3)  (I2, I1)                           6   \n",
       "16          (I2, I1, I3)      (I1)  (I2, I3)                           6   \n",
       "17          (I2, I1, I3)      (I2)  (I1, I3)                           7   \n",
       "18          (I5, I1, I2)  (I1, I2)      (I5)                           4   \n",
       "19          (I5, I1, I2)  (I5, I2)      (I1)                           2   \n",
       "20          (I5, I1, I2)  (I5, I1)      (I2)                           2   \n",
       "21          (I5, I1, I2)      (I2)  (I5, I1)                           7   \n",
       "22          (I5, I1, I2)      (I1)  (I5, I2)                           6   \n",
       "23          (I5, I1, I2)      (I5)  (I1, I2)                           2   \n",
       "\n",
       "    Support Number(num of AUB)  Support Number(num of B)  Confidence  \\\n",
       "0                            4                         6    0.666667   \n",
       "1                            4                         6    0.666667   \n",
       "2                            4                         6    0.571429   \n",
       "3                            4                         7    0.666667   \n",
       "4                            2                         7    1.000000   \n",
       "5                            2                         2    0.285714   \n",
       "6                            4                         7    0.666667   \n",
       "7                            4                         6    0.571429   \n",
       "8                            2                         2    0.285714   \n",
       "9                            2                         7    1.000000   \n",
       "10                           2                         2    0.333333   \n",
       "11                           2                         6    1.000000   \n",
       "12                           2                         7    0.500000   \n",
       "13                           2                         6    0.500000   \n",
       "14                           2                         6    0.500000   \n",
       "15                           2                         4    0.333333   \n",
       "16                           2                         4    0.333333   \n",
       "17                           2                         4    0.285714   \n",
       "18                           2                         2    0.500000   \n",
       "19                           2                         6    1.000000   \n",
       "20                           2                         7    1.000000   \n",
       "21                           2                         2    0.285714   \n",
       "22                           2                         2    0.333333   \n",
       "23                           2                         4    1.000000   \n",
       "\n",
       "     Support      Lift  \n",
       "0   0.444444  0.666667  \n",
       "1   0.444444  0.666667  \n",
       "2   0.444444  0.666667  \n",
       "3   0.444444  0.571429  \n",
       "4   0.222222  0.285714  \n",
       "5   0.222222  1.000000  \n",
       "6   0.444444  0.571429  \n",
       "7   0.444444  0.666667  \n",
       "8   0.222222  1.000000  \n",
       "9   0.222222  0.285714  \n",
       "10  0.222222  1.000000  \n",
       "11  0.222222  0.333333  \n",
       "12  0.222222  0.285714  \n",
       "13  0.222222  0.333333  \n",
       "14  0.222222  0.333333  \n",
       "15  0.222222  0.500000  \n",
       "16  0.222222  0.500000  \n",
       "17  0.222222  0.500000  \n",
       "18  0.222222  1.000000  \n",
       "19  0.222222  0.333333  \n",
       "20  0.222222  0.285714  \n",
       "21  0.222222  1.000000  \n",
       "22  0.222222  1.000000  \n",
       "23  0.222222  0.500000  "
      ],
      "text/html": "<div>\n<style scoped>\n    .dataframe tbody tr th:only-of-type {\n        vertical-align: middle;\n    }\n\n    .dataframe tbody tr th {\n        vertical-align: top;\n    }\n\n    .dataframe thead th {\n        text-align: right;\n    }\n</style>\n<table border=\"1\" class=\"dataframe\">\n  <thead>\n    <tr style=\"text-align: right;\">\n      <th></th>\n      <th>Frequent Itemset(AUB)</th>\n      <th>From(A)</th>\n      <th>To(B)</th>\n      <th>Confident Number(num of A)</th>\n      <th>Support Number(num of AUB)</th>\n      <th>Support Number(num of B)</th>\n      <th>Confidence</th>\n      <th>Support</th>\n      <th>Lift</th>\n    </tr>\n  </thead>\n  <tbody>\n    <tr>\n      <th>0</th>\n      <td>(I3, I1)</td>\n      <td>(I1)</td>\n      <td>(I3)</td>\n      <td>6</td>\n      <td>4</td>\n      <td>6</td>\n      <td>0.666667</td>\n      <td>0.444444</td>\n      <td>0.666667</td>\n    </tr>\n    <tr>\n      <th>1</th>\n      <td>(I3, I1)</td>\n      <td>(I3)</td>\n      <td>(I1)</td>\n      <td>6</td>\n      <td>4</td>\n      <td>6</td>\n      <td>0.666667</td>\n      <td>0.444444</td>\n      <td>0.666667</td>\n    </tr>\n    <tr>\n      <th>2</th>\n      <td>(I3, I2)</td>\n      <td>(I2)</td>\n      <td>(I3)</td>\n      <td>7</td>\n      <td>4</td>\n      <td>6</td>\n      <td>0.571429</td>\n      <td>0.444444</td>\n      <td>0.666667</td>\n    </tr>\n    <tr>\n      <th>3</th>\n      <td>(I3, I2)</td>\n      <td>(I3)</td>\n      <td>(I2)</td>\n      <td>6</td>\n      <td>4</td>\n      <td>7</td>\n      <td>0.666667</td>\n      <td>0.444444</td>\n      <td>0.571429</td>\n    </tr>\n    <tr>\n      <th>4</th>\n      <td>(I2, I4)</td>\n      <td>(I4)</td>\n      <td>(I2)</td>\n      <td>2</td>\n      <td>2</td>\n      <td>7</td>\n      <td>1.000000</td>\n      <td>0.222222</td>\n      <td>0.285714</td>\n    </tr>\n    <tr>\n      <th>5</th>\n      <td>(I2, I4)</td>\n      <td>(I2)</td>\n      <td>(I4)</td>\n      <td>7</td>\n      <td>2</td>\n      <td>2</td>\n      <td>0.285714</td>\n      <td>0.222222</td>\n      <td>1.000000</td>\n    </tr>\n    <tr>\n      <th>6</th>\n      <td>(I2, I1)</td>\n      <td>(I1)</td>\n      <td>(I2)</td>\n      <td>6</td>\n      <td>4</td>\n      <td>7</td>\n      <td>0.666667</td>\n      <td>0.444444</td>\n      <td>0.571429</td>\n    </tr>\n    <tr>\n      <th>7</th>\n      <td>(I2, I1)</td>\n      <td>(I2)</td>\n      <td>(I1)</td>\n      <td>7</td>\n      <td>4</td>\n      <td>6</td>\n      <td>0.571429</td>\n      <td>0.444444</td>\n      <td>0.666667</td>\n    </tr>\n    <tr>\n      <th>8</th>\n      <td>(I5, I2)</td>\n      <td>(I2)</td>\n      <td>(I5)</td>\n      <td>7</td>\n      <td>2</td>\n      <td>2</td>\n      <td>0.285714</td>\n      <td>0.222222</td>\n      <td>1.000000</td>\n    </tr>\n    <tr>\n      <th>9</th>\n      <td>(I5, I2)</td>\n      <td>(I5)</td>\n      <td>(I2)</td>\n      <td>2</td>\n      <td>2</td>\n      <td>7</td>\n      <td>1.000000</td>\n      <td>0.222222</td>\n      <td>0.285714</td>\n    </tr>\n    <tr>\n      <th>10</th>\n      <td>(I5, I1)</td>\n      <td>(I1)</td>\n      <td>(I5)</td>\n      <td>6</td>\n      <td>2</td>\n      <td>2</td>\n      <td>0.333333</td>\n      <td>0.222222</td>\n      <td>1.000000</td>\n    </tr>\n    <tr>\n      <th>11</th>\n      <td>(I5, I1)</td>\n      <td>(I5)</td>\n      <td>(I1)</td>\n      <td>2</td>\n      <td>2</td>\n      <td>6</td>\n      <td>1.000000</td>\n      <td>0.222222</td>\n      <td>0.333333</td>\n    </tr>\n    <tr>\n      <th>12</th>\n      <td>(I2, I1, I3)</td>\n      <td>(I1, I3)</td>\n      <td>(I2)</td>\n      <td>4</td>\n      <td>2</td>\n      <td>7</td>\n      <td>0.500000</td>\n      <td>0.222222</td>\n      <td>0.285714</td>\n    </tr>\n    <tr>\n      <th>13</th>\n      <td>(I2, I1, I3)</td>\n      <td>(I2, I3)</td>\n      <td>(I1)</td>\n      <td>4</td>\n      <td>2</td>\n      <td>6</td>\n      <td>0.500000</td>\n      <td>0.222222</td>\n      <td>0.333333</td>\n    </tr>\n    <tr>\n      <th>14</th>\n      <td>(I2, I1, I3)</td>\n      <td>(I2, I1)</td>\n      <td>(I3)</td>\n      <td>4</td>\n      <td>2</td>\n      <td>6</td>\n      <td>0.500000</td>\n      <td>0.222222</td>\n      <td>0.333333</td>\n    </tr>\n    <tr>\n      <th>15</th>\n      <td>(I2, I1, I3)</td>\n      <td>(I3)</td>\n      <td>(I2, I1)</td>\n      <td>6</td>\n      <td>2</td>\n      <td>4</td>\n      <td>0.333333</td>\n      <td>0.222222</td>\n      <td>0.500000</td>\n    </tr>\n    <tr>\n      <th>16</th>\n      <td>(I2, I1, I3)</td>\n      <td>(I1)</td>\n      <td>(I2, I3)</td>\n      <td>6</td>\n      <td>2</td>\n      <td>4</td>\n      <td>0.333333</td>\n      <td>0.222222</td>\n      <td>0.500000</td>\n    </tr>\n    <tr>\n      <th>17</th>\n      <td>(I2, I1, I3)</td>\n      <td>(I2)</td>\n      <td>(I1, I3)</td>\n      <td>7</td>\n      <td>2</td>\n      <td>4</td>\n      <td>0.285714</td>\n      <td>0.222222</td>\n      <td>0.500000</td>\n    </tr>\n    <tr>\n      <th>18</th>\n      <td>(I5, I1, I2)</td>\n      <td>(I1, I2)</td>\n      <td>(I5)</td>\n      <td>4</td>\n      <td>2</td>\n      <td>2</td>\n      <td>0.500000</td>\n      <td>0.222222</td>\n      <td>1.000000</td>\n    </tr>\n    <tr>\n      <th>19</th>\n      <td>(I5, I1, I2)</td>\n      <td>(I5, I2)</td>\n      <td>(I1)</td>\n      <td>2</td>\n      <td>2</td>\n      <td>6</td>\n      <td>1.000000</td>\n      <td>0.222222</td>\n      <td>0.333333</td>\n    </tr>\n    <tr>\n      <th>20</th>\n      <td>(I5, I1, I2)</td>\n      <td>(I5, I1)</td>\n      <td>(I2)</td>\n      <td>2</td>\n      <td>2</td>\n      <td>7</td>\n      <td>1.000000</td>\n      <td>0.222222</td>\n      <td>0.285714</td>\n    </tr>\n    <tr>\n      <th>21</th>\n      <td>(I5, I1, I2)</td>\n      <td>(I2)</td>\n      <td>(I5, I1)</td>\n      <td>7</td>\n      <td>2</td>\n      <td>2</td>\n      <td>0.285714</td>\n      <td>0.222222</td>\n      <td>1.000000</td>\n    </tr>\n    <tr>\n      <th>22</th>\n      <td>(I5, I1, I2)</td>\n      <td>(I1)</td>\n      <td>(I5, I2)</td>\n      <td>6</td>\n      <td>2</td>\n      <td>2</td>\n      <td>0.333333</td>\n      <td>0.222222</td>\n      <td>1.000000</td>\n    </tr>\n    <tr>\n      <th>23</th>\n      <td>(I5, I1, I2)</td>\n      <td>(I5)</td>\n      <td>(I1, I2)</td>\n      <td>2</td>\n      <td>2</td>\n      <td>4</td>\n      <td>1.000000</td>\n      <td>0.222222</td>\n      <td>0.500000</td>\n    </tr>\n  </tbody>\n</table>\n</div>"
     },
     "metadata": {},
     "execution_count": 4
    }
   ],
   "source": [
    "printrules(rules,len(simpDat))\n",
    "\n"
   ]
  },
  {
   "cell_type": "code",
   "execution_count": 44,
   "metadata": {},
   "outputs": [],
   "source": [
    "\n",
    "sortedLI=sorted(LI,key=lambda x: len(x))\n"
   ]
  },
  {
   "cell_type": "code",
   "execution_count": 35,
   "metadata": {
    "tags": []
   },
   "outputs": [
    {
     "output_type": "stream",
     "name": "stdout",
     "text": [
      "[frozenset({'High'}), frozenset({'capital_loss_1'}), frozenset({'White'}), frozenset({'capital_gain_1'}), frozenset({'United-States'}), frozenset({'Private'}), frozenset({'Male'}), frozenset({'<=50K.'})]\n"
     ]
    }
   ],
   "source": [
    "print(LI[0])"
   ]
  },
  {
   "cell_type": "code",
   "execution_count": 18,
   "metadata": {},
   "outputs": [
    {
     "output_type": "execute_result",
     "data": {
      "text/plain": [
       "             itemset  support  leng\n",
       "2           (<=50K.)    12435     1\n",
       "3          (Private)    11210     1\n",
       "8    (United-States)    14662     1\n",
       "11  (capital_gain_1)    14958     1\n",
       "13            (Male)    10860     1\n",
       "21  (capital_loss_1)    15517     1\n",
       "52           (White)    13946     1\n",
       "63            (High)     8843     1"
      ],
      "text/html": "<div>\n<style scoped>\n    .dataframe tbody tr th:only-of-type {\n        vertical-align: middle;\n    }\n\n    .dataframe tbody tr th {\n        vertical-align: top;\n    }\n\n    .dataframe thead th {\n        text-align: right;\n    }\n</style>\n<table border=\"1\" class=\"dataframe\">\n  <thead>\n    <tr style=\"text-align: right;\">\n      <th></th>\n      <th>itemset</th>\n      <th>support</th>\n      <th>leng</th>\n    </tr>\n  </thead>\n  <tbody>\n    <tr>\n      <th>2</th>\n      <td>(&lt;=50K.)</td>\n      <td>12435</td>\n      <td>1</td>\n    </tr>\n    <tr>\n      <th>3</th>\n      <td>(Private)</td>\n      <td>11210</td>\n      <td>1</td>\n    </tr>\n    <tr>\n      <th>8</th>\n      <td>(United-States)</td>\n      <td>14662</td>\n      <td>1</td>\n    </tr>\n    <tr>\n      <th>11</th>\n      <td>(capital_gain_1)</td>\n      <td>14958</td>\n      <td>1</td>\n    </tr>\n    <tr>\n      <th>13</th>\n      <td>(Male)</td>\n      <td>10860</td>\n      <td>1</td>\n    </tr>\n    <tr>\n      <th>21</th>\n      <td>(capital_loss_1)</td>\n      <td>15517</td>\n      <td>1</td>\n    </tr>\n    <tr>\n      <th>52</th>\n      <td>(White)</td>\n      <td>13946</td>\n      <td>1</td>\n    </tr>\n    <tr>\n      <th>63</th>\n      <td>(High)</td>\n      <td>8843</td>\n      <td>1</td>\n    </tr>\n  </tbody>\n</table>\n</div>"
     },
     "metadata": {},
     "execution_count": 18
    }
   ],
   "source": [
    "TEST=printsupport(S)\n",
    "TEST['leng']=[len(i) for i in TEST['itemset']]\n",
    "TEST[TEST['leng']==1]"
   ]
  },
  {
   "cell_type": "code",
   "execution_count": null,
   "metadata": {},
   "outputs": [],
   "source": []
  },
  {
   "cell_type": "code",
   "execution_count": 3,
   "metadata": {},
   "outputs": [
    {
     "output_type": "stream",
     "name": "stdout",
     "text": [
      "D [{'I5', 'I2', 'I1'}, {'I4', 'I2'}, {'I2', 'I3'}]\nCk [frozenset({'I1'}), frozenset({'I2'}), frozenset({'I3'}), frozenset({'I4'}), frozenset({'I5'})]\nCn with count:       0\n(I1)  1\n(I2)  3\n(I5)  1\n(I4)  1\n(I3)  1\nsupportData:              0\n(I1)  0.333333\n(I2)  1.000000\n(I5)  0.333333\n(I4)  0.333333\n(I3)  0.333333\n------------------------------\nD [{'I5', 'I2', 'I1'}, {'I4', 'I2'}, {'I2', 'I3'}]\nCk [frozenset({'I4', 'I3'}), frozenset({'I5', 'I3'}), frozenset({'I2', 'I3'}), frozenset({'I1', 'I3'}), frozenset({'I4', 'I5'}), frozenset({'I4', 'I2'}), frozenset({'I4', 'I1'}), frozenset({'I5', 'I2'}), frozenset({'I5', 'I1'}), frozenset({'I2', 'I1'})]\nCn with count:           0\n(I5, I2)  1\n(I5, I1)  1\n(I2, I1)  1\n(I4, I2)  1\n(I2, I3)  1\nsupportData:                  0\n(I5, I2)  0.333333\n(I5, I1)  0.333333\n(I2, I1)  0.333333\n(I4, I2)  0.333333\n(I2, I3)  0.333333\n------------------------------\nD [{'I5', 'I2', 'I1'}, {'I4', 'I2'}, {'I2', 'I3'}]\nCk [frozenset({'I5', 'I2', 'I1'})]\nCn with count:               0\n(I5, I2, I1)  1\nsupportData:                      0\n(I5, I2, I1)  0.333333\n------------------------------\nD [{'I5', 'I2', 'I1'}, {'I4', 'I2'}, {'I2', 'I3'}]\nCk []\nCn with count: Empty DataFrame\nColumns: []\nIndex: []\nsupportData: Empty DataFrame\nColumns: []\nIndex: []\n------------------------------\nD [{'I4', 'I2', 'I1'}, {'I3', 'I1'}, {'I2', 'I3'}]\nCk [frozenset({'I1'}), frozenset({'I2'}), frozenset({'I3'}), frozenset({'I4'})]\nCn with count:       0\n(I1)  2\n(I2)  2\n(I4)  1\n(I3)  2\nsupportData:              0\n(I1)  0.666667\n(I2)  0.666667\n(I4)  0.333333\n(I3)  0.666667\n------------------------------\nD [{'I4', 'I2', 'I1'}, {'I3', 'I1'}, {'I2', 'I3'}]\nCk [frozenset({'I4', 'I3'}), frozenset({'I2', 'I3'}), frozenset({'I1', 'I3'}), frozenset({'I4', 'I2'}), frozenset({'I4', 'I1'}), frozenset({'I2', 'I1'})]\nCn with count:           0\n(I4, I2)  1\n(I4, I1)  1\n(I2, I1)  1\n(I1, I3)  1\n(I2, I3)  1\nsupportData:                  0\n(I4, I2)  0.333333\n(I4, I1)  0.333333\n(I2, I1)  0.333333\n(I1, I3)  0.333333\n(I2, I3)  0.333333\n------------------------------\nD [{'I4', 'I2', 'I1'}, {'I3', 'I1'}, {'I2', 'I3'}]\nCk [frozenset({'I1', 'I2', 'I3'}), frozenset({'I4', 'I2', 'I1'})]\nCn with count:               0\n(I4, I2, I1)  1\nsupportData:                      0\n(I4, I2, I1)  0.333333\n------------------------------\nD [{'I4', 'I2', 'I1'}, {'I3', 'I1'}, {'I2', 'I3'}]\nCk []\nCn with count: Empty DataFrame\nColumns: []\nIndex: []\nsupportData: Empty DataFrame\nColumns: []\nIndex: []\n------------------------------\nD [{'I3', 'I1'}, {'I3', 'I5', 'I2', 'I1'}, {'I3', 'I2', 'I1'}]\nCk [frozenset({'I1'}), frozenset({'I2'}), frozenset({'I3'}), frozenset({'I5'})]\nCn with count:       0\n(I1)  3\n(I3)  3\n(I2)  2\n(I5)  1\nsupportData:              0\n(I1)  1.000000\n(I3)  1.000000\n(I2)  0.666667\n(I5)  0.333333\n------------------------------\nD [{'I3', 'I1'}, {'I3', 'I5', 'I2', 'I1'}, {'I3', 'I2', 'I1'}]\nCk [frozenset({'I5', 'I2'}), frozenset({'I5', 'I3'}), frozenset({'I5', 'I1'}), frozenset({'I2', 'I3'}), frozenset({'I2', 'I1'}), frozenset({'I1', 'I3'})]\nCn with count:           0\n(I1, I3)  3\n(I5, I2)  1\n(I5, I3)  1\n(I5, I1)  1\n(I2, I3)  2\n(I2, I1)  2\nsupportData:                  0\n(I1, I3)  1.000000\n(I5, I2)  0.333333\n(I5, I3)  0.333333\n(I5, I1)  0.333333\n(I2, I3)  0.666667\n(I2, I1)  0.666667\n------------------------------\nD [{'I3', 'I1'}, {'I3', 'I5', 'I2', 'I1'}, {'I3', 'I2', 'I1'}]\nCk [frozenset({'I3', 'I2', 'I1'}), frozenset({'I3', 'I5', 'I1'}), frozenset({'I5', 'I2', 'I1'}), frozenset({'I5', 'I2', 'I3'})]\nCn with count:               0\n(I3, I2, I1)  2\n(I3, I5, I1)  1\n(I5, I2, I1)  1\n(I5, I2, I3)  1\nsupportData:                      0\n(I3, I2, I1)  0.666667\n(I3, I5, I1)  0.333333\n(I5, I2, I1)  0.333333\n(I5, I2, I3)  0.333333\n------------------------------\nD [{'I3', 'I1'}, {'I3', 'I5', 'I2', 'I1'}, {'I3', 'I2', 'I1'}]\nCk [frozenset({'I3', 'I1', 'I5', 'I2'})]\nCn with count:                   0\n(I3, I1, I5, I2)  1\nsupportData:                          0\n(I3, I1, I5, I2)  0.333333\n------------------------------\nD [{'I3', 'I1'}, {'I3', 'I5', 'I2', 'I1'}, {'I3', 'I2', 'I1'}]\nCk []\nCn with count: Empty DataFrame\nColumns: []\nIndex: []\nsupportData: Empty DataFrame\nColumns: []\nIndex: []\n------------------------------\n19\n***last scan******last scan******last scan******last scan******last scan******last scan******last scan******last scan***\nD [['I1', 'I2', 'I5'], ['I2', 'I4'], ['I2', 'I3'], ['I1', 'I2', 'I4'], ['I1', 'I3'], ['I2', 'I3'], ['I1', 'I3'], ['I1', 'I2', 'I3', 'I5'], ['I1', 'I2', 'I3']]\nCk [frozenset({'I3', 'I1', 'I5', 'I2'}), frozenset({'I2'}), frozenset({'I3', 'I5', 'I1'}), frozenset({'I1'}), frozenset({'I2', 'I3'}), frozenset({'I4', 'I2'}), frozenset({'I4', 'I2', 'I1'}), frozenset({'I3'}), frozenset({'I1', 'I3'}), frozenset({'I5', 'I2', 'I3'}), frozenset({'I2', 'I1'}), frozenset({'I5'}), frozenset({'I4', 'I1'}), frozenset({'I5', 'I1'}), frozenset({'I5', 'I2'}), frozenset({'I5', 'I2', 'I1'}), frozenset({'I3', 'I2', 'I1'}), frozenset({'I5', 'I3'}), frozenset({'I4'})]\nCn with count:                   0\n(I2)              7\n(I1)              6\n(I2, I1)          4\n(I5)              2\n(I5, I1)          2\n(I5, I2)          2\n(I5, I2, I1)      2\n(I4, I2)          2\n(I4)              2\n(I2, I3)          4\n(I3)              6\n(I4, I2, I1)      1\n(I4, I1)          1\n(I1, I3)          4\n(I3, I1, I5, I2)  1\n(I3, I5, I1)      1\n(I5, I2, I3)      1\n(I3, I2, I1)      2\n(I5, I3)          1\nsupportData:                      0\n(I2)          0.777778\n(I1)          0.666667\n(I2, I1)      0.444444\n(I5)          0.222222\n(I5, I1)      0.222222\n(I5, I2)      0.222222\n(I5, I2, I1)  0.222222\n(I4, I2)      0.222222\n(I4)          0.222222\n(I2, I3)      0.444444\n(I3)          0.666667\n(I1, I3)      0.444444\n(I3, I2, I1)  0.222222\n------------------------------\n"
     ]
    },
    {
     "output_type": "execute_result",
     "data": {
      "text/plain": [
       "\"\\n#print(pd.DataFrame({'key':allsupport.keys(),'value':allsupport.values()}))\\nprint(pd.DataFrame(allsupport.values(),allsupport.keys()))\""
      ]
     },
     "metadata": {},
     "execution_count": 3
    }
   ],
   "source": [
    "split=[i for i in range(0,len(dataSet),round(len(dataSet)/3))]\n",
    "A=[(split[i],split[i+1]) if i+1!=len(split) else (split[i],len(dataSet)) for i in range(len(split))]\n",
    "partitionL=[]\n",
    "#print(partitionL)\n",
    "for i in A:\n",
    "    sub_dataset=dataSet[i[0]:i[1]]\n",
    "    LI,_ = apriori(sub_dataset, minSupport=1.9/9)\n",
    "    flat_list = [item for sublist in LI for item in sublist]\n",
    "    partitionL=partitionL+flat_list\n",
    "print(len(set(partitionL)))\n",
    "print('***last scan***'*8)\n",
    "alllist, allsupport=scanD(dataSet,list(set(partitionL)),1.9/9)\n",
    "'''\n",
    "#print(pd.DataFrame({'key':allsupport.keys(),'value':allsupport.values()}))\n",
    "print(pd.DataFrame(allsupport.values(),allsupport.keys()))'''"
   ]
  },
  {
   "cell_type": "code",
   "execution_count": 4,
   "metadata": {},
   "outputs": [],
   "source": [
    "def printtable(support):\n",
    "    subdatasetrun=pd.DataFrame.from_dict(support,orient='index')\n",
    "    subdatasetrun.reset_index(inplace=True)\n",
    "    c=['itemset','support']\n",
    "    subdatasetrun.columns=c\n",
    "    subdatasetrun['len']=[len(i) for i in subdatasetrun['itemset']]\n",
    "    return subdatasetrun.sort_values('len').reset_index(drop=True)"
   ]
  },
  {
   "cell_type": "code",
   "execution_count": 5,
   "metadata": {},
   "outputs": [
    {
     "output_type": "execute_result",
     "data": {
      "text/plain": [
       "         itemset   support  len\n",
       "0           (I1)  0.666667    1\n",
       "1           (I2)  0.777778    1\n",
       "2           (I5)  0.222222    1\n",
       "3           (I4)  0.222222    1\n",
       "4           (I3)  0.666667    1\n",
       "5       (I5, I2)  0.222222    2\n",
       "6       (I5, I1)  0.222222    2\n",
       "7       (I2, I1)  0.444444    2\n",
       "8       (I4, I2)  0.222222    2\n",
       "9       (I2, I3)  0.444444    2\n",
       "10      (I1, I3)  0.444444    2\n",
       "11  (I5, I2, I1)  0.222222    3\n",
       "12  (I1, I2, I3)  0.222222    3"
      ],
      "text/html": "<div>\n<style scoped>\n    .dataframe tbody tr th:only-of-type {\n        vertical-align: middle;\n    }\n\n    .dataframe tbody tr th {\n        vertical-align: top;\n    }\n\n    .dataframe thead th {\n        text-align: right;\n    }\n</style>\n<table border=\"1\" class=\"dataframe\">\n  <thead>\n    <tr style=\"text-align: right;\">\n      <th></th>\n      <th>itemset</th>\n      <th>support</th>\n      <th>len</th>\n    </tr>\n  </thead>\n  <tbody>\n    <tr>\n      <th>0</th>\n      <td>(I1)</td>\n      <td>0.666667</td>\n      <td>1</td>\n    </tr>\n    <tr>\n      <th>1</th>\n      <td>(I2)</td>\n      <td>0.777778</td>\n      <td>1</td>\n    </tr>\n    <tr>\n      <th>2</th>\n      <td>(I5)</td>\n      <td>0.222222</td>\n      <td>1</td>\n    </tr>\n    <tr>\n      <th>3</th>\n      <td>(I4)</td>\n      <td>0.222222</td>\n      <td>1</td>\n    </tr>\n    <tr>\n      <th>4</th>\n      <td>(I3)</td>\n      <td>0.666667</td>\n      <td>1</td>\n    </tr>\n    <tr>\n      <th>5</th>\n      <td>(I5, I2)</td>\n      <td>0.222222</td>\n      <td>2</td>\n    </tr>\n    <tr>\n      <th>6</th>\n      <td>(I5, I1)</td>\n      <td>0.222222</td>\n      <td>2</td>\n    </tr>\n    <tr>\n      <th>7</th>\n      <td>(I2, I1)</td>\n      <td>0.444444</td>\n      <td>2</td>\n    </tr>\n    <tr>\n      <th>8</th>\n      <td>(I4, I2)</td>\n      <td>0.222222</td>\n      <td>2</td>\n    </tr>\n    <tr>\n      <th>9</th>\n      <td>(I2, I3)</td>\n      <td>0.444444</td>\n      <td>2</td>\n    </tr>\n    <tr>\n      <th>10</th>\n      <td>(I1, I3)</td>\n      <td>0.444444</td>\n      <td>2</td>\n    </tr>\n    <tr>\n      <th>11</th>\n      <td>(I5, I2, I1)</td>\n      <td>0.222222</td>\n      <td>3</td>\n    </tr>\n    <tr>\n      <th>12</th>\n      <td>(I1, I2, I3)</td>\n      <td>0.222222</td>\n      <td>3</td>\n    </tr>\n  </tbody>\n</table>\n</div>"
     },
     "metadata": {},
     "execution_count": 5
    }
   ],
   "source": [
    "printtable(S)"
   ]
  },
  {
   "cell_type": "code",
   "execution_count": 6,
   "metadata": {},
   "outputs": [
    {
     "output_type": "execute_result",
     "data": {
      "text/plain": [
       "         itemset   support  len\n",
       "0           (I2)  0.777778    1\n",
       "1           (I1)  0.666667    1\n",
       "2           (I5)  0.222222    1\n",
       "3           (I4)  0.222222    1\n",
       "4           (I3)  0.666667    1\n",
       "5       (I2, I1)  0.444444    2\n",
       "6       (I5, I1)  0.222222    2\n",
       "7       (I5, I2)  0.222222    2\n",
       "8       (I4, I2)  0.222222    2\n",
       "9       (I2, I3)  0.444444    2\n",
       "10      (I1, I3)  0.444444    2\n",
       "11  (I5, I2, I1)  0.222222    3\n",
       "12  (I3, I2, I1)  0.222222    3"
      ],
      "text/html": "<div>\n<style scoped>\n    .dataframe tbody tr th:only-of-type {\n        vertical-align: middle;\n    }\n\n    .dataframe tbody tr th {\n        vertical-align: top;\n    }\n\n    .dataframe thead th {\n        text-align: right;\n    }\n</style>\n<table border=\"1\" class=\"dataframe\">\n  <thead>\n    <tr style=\"text-align: right;\">\n      <th></th>\n      <th>itemset</th>\n      <th>support</th>\n      <th>len</th>\n    </tr>\n  </thead>\n  <tbody>\n    <tr>\n      <th>0</th>\n      <td>(I2)</td>\n      <td>0.777778</td>\n      <td>1</td>\n    </tr>\n    <tr>\n      <th>1</th>\n      <td>(I1)</td>\n      <td>0.666667</td>\n      <td>1</td>\n    </tr>\n    <tr>\n      <th>2</th>\n      <td>(I5)</td>\n      <td>0.222222</td>\n      <td>1</td>\n    </tr>\n    <tr>\n      <th>3</th>\n      <td>(I4)</td>\n      <td>0.222222</td>\n      <td>1</td>\n    </tr>\n    <tr>\n      <th>4</th>\n      <td>(I3)</td>\n      <td>0.666667</td>\n      <td>1</td>\n    </tr>\n    <tr>\n      <th>5</th>\n      <td>(I2, I1)</td>\n      <td>0.444444</td>\n      <td>2</td>\n    </tr>\n    <tr>\n      <th>6</th>\n      <td>(I5, I1)</td>\n      <td>0.222222</td>\n      <td>2</td>\n    </tr>\n    <tr>\n      <th>7</th>\n      <td>(I5, I2)</td>\n      <td>0.222222</td>\n      <td>2</td>\n    </tr>\n    <tr>\n      <th>8</th>\n      <td>(I4, I2)</td>\n      <td>0.222222</td>\n      <td>2</td>\n    </tr>\n    <tr>\n      <th>9</th>\n      <td>(I2, I3)</td>\n      <td>0.444444</td>\n      <td>2</td>\n    </tr>\n    <tr>\n      <th>10</th>\n      <td>(I1, I3)</td>\n      <td>0.444444</td>\n      <td>2</td>\n    </tr>\n    <tr>\n      <th>11</th>\n      <td>(I5, I2, I1)</td>\n      <td>0.222222</td>\n      <td>3</td>\n    </tr>\n    <tr>\n      <th>12</th>\n      <td>(I3, I2, I1)</td>\n      <td>0.222222</td>\n      <td>3</td>\n    </tr>\n  </tbody>\n</table>\n</div>"
     },
     "metadata": {},
     "execution_count": 6
    }
   ],
   "source": [
    "printtable(allsupport)"
   ]
  },
  {
   "cell_type": "code",
   "execution_count": 9,
   "metadata": {},
   "outputs": [
    {
     "output_type": "execute_result",
     "data": {
      "text/plain": [
       "True"
      ]
     },
     "metadata": {},
     "execution_count": 9
    }
   ],
   "source": [
    "all([S[i]==allsupport[i] for i in S if i in allsupport])"
   ]
  },
  {
   "cell_type": "code",
   "execution_count": null,
   "metadata": {},
   "outputs": [],
   "source": []
  }
 ]
}