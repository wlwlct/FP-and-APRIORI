{
 "metadata": {
  "language_info": {
   "codemirror_mode": {
    "name": "ipython",
    "version": 3
   },
   "file_extension": ".py",
   "mimetype": "text/x-python",
   "name": "python",
   "nbconvert_exporter": "python",
   "pygments_lexer": "ipython3",
   "version": "3.7.3-final"
  },
  "orig_nbformat": 2,
  "kernelspec": {
   "name": "Python 3.7.3 64-bit",
   "display_name": "Python 3.7.3 64-bit",
   "metadata": {
    "interpreter": {
     "hash": "31f2aee4e71d21fbe5cf8b01ff0e069b9275f58929596ceb00d14d90e3e16cd6"
    }
   }
  }
 },
 "nbformat": 4,
 "nbformat_minor": 2,
 "cells": [
  {
   "cell_type": "code",
   "execution_count": 54,
   "metadata": {
    "tags": []
   },
   "outputs": [],
   "source": [
    "import pandas as pd\n",
    "import itertools\n",
    "'''\n",
    "Get Seed and repeat\n",
    "'''\n",
    "# Generate seed C1\n",
    "def createC1(dataSet):\n",
    "    C1 = []\n",
    "    for transaction in dataSet:\n",
    "        for item in transaction:\n",
    "            if not [item] in C1:\n",
    "                C1.append([item])\n",
    "    C1.sort()\n",
    "    return [frozenset(i) for i in C1]\n",
    "\n",
    "\n",
    "#Scan through datasets, remove the ones below min support\n",
    "def scanD(D, Ck, minSupport):\n",
    "    # Generate counts for the C\n",
    "    ssCnt = {}\n",
    "    for tid in D:\n",
    "        for can in Ck:\n",
    "            if can.issubset(tid):\n",
    "                if can not in ssCnt:\n",
    "                    ssCnt[can] = 1\n",
    "                else:\n",
    "                    ssCnt[can] += 1\n",
    "    #print('Cn with count:',pd.DataFrame.from_dict(ssCnt,orient='index'))\n",
    "    # Check weather meet minimum support or not, remove the ones below\n",
    "    numItems = float(len(D))\n",
    "    retList = []\n",
    "    supportData = {}\n",
    "    for key in ssCnt:\n",
    "        support = ssCnt[key]#/numItems\n",
    "        #print('support',support,'min_support',minSupport,'Bool',support >= minSupport)\n",
    "        if support >= minSupport*numItems:\n",
    "            retList.insert(0, key)\n",
    "            supportData[key] = support\n",
    "    #print('supportData:',pd.DataFrame.from_dict(supportData,orient='index'))\n",
    "    #print('-'*30)\n",
    "    return retList, supportData\n",
    "\n",
    "def notRedundant(mergedlist,Lkm1,km1,l1,l2):\n",
    "    sub_mergedlist=[set(i) for i in itertools.combinations(mergedlist,km1) if set(i) not in [l1,l2]]\n",
    "    for i in sub_mergedlist:\n",
    "        if i not in Lkm1:\n",
    "            return False\n",
    "    return True\n",
    "\n",
    "\n",
    "#Generate Ck according to Lk\n",
    "def aprioriGen(Lk, k):\n",
    "    #print('AprioriGen Lk',Lk)\n",
    "    #print('AprioriGen k',k)\n",
    "    retList = []\n",
    "    lenLk = len(Lk)\n",
    "    for i in range(lenLk):\n",
    "        for j in range(i+1, lenLk):\n",
    "            L1 = list(Lk[i])[: k-2]\n",
    "            L2 = list(Lk[j])[: k-2]\n",
    "            L1.sort()\n",
    "            L2.sort()\n",
    "            #If the all elements exept the last are same, merge two elements\n",
    "            if L1 == L2:\n",
    "                mergedlist=Lk[i] | Lk[j]\n",
    "                #print('---------',mergedlist,k-1)\n",
    "                if notRedundant(mergedlist,Lk,k-1,Lk[i],Lk[j]):\n",
    "                    retList.append(mergedlist)\n",
    "                #else:\n",
    "                #    print('----Remove-----',mergedlist,k-1)\n",
    "    return retList\n",
    "\n",
    "\n",
    "def apriori(dataSet, minSupport=0.5):\n",
    "    #Generate C1 \n",
    "    C1 = createC1(dataSet)\n",
    "    D=list(map(set,dataSet))\n",
    "    L1, supportData = scanD(D, C1, minSupport)\n",
    "\n",
    "    #print('supportData',pd.DataFrame(supportData.values(),supportData.keys()))\n",
    "    #print('L1',(L1))\n",
    "    #print('------Seed------'*5,'\\n')\n",
    "\n",
    "    #repeatively generate L and C\n",
    "    L = [L1]\n",
    "    k = 2 #help to put values in L\n",
    "    while (len(L[k-2]) > 0):\n",
    "        #print('L_',k-2,L[k-2])\n",
    "        Ck = aprioriGen(L[k-2], k) \n",
    "        #print(pd.DataFrame({'Ck':Ck}))\n",
    "        Lk, supK = scanD(D, Ck, minSupport) \n",
    "        #print(pd.DataFrame(supK.values(),supK.keys()))\n",
    "        supportData.update(supK)\n",
    "        #print('*'*10)\n",
    "        if len(Lk) == 0:\n",
    "            break\n",
    "        # all the Lk generated along the way are put into L.\n",
    "        L.append(Lk)\n",
    "        k += 1\n",
    "    return L, supportData\n",
    "\n",
    "\n",
    "'''\n",
    "Mine Association Rule\n",
    "'''\n",
    "def calcConf(freqSet, H, supportData, brl, minConf=0.7):\n",
    "    prunedH = []\n",
    "    for conseq in H:\n",
    "        conf = supportData[freqSet]/supportData[freqSet-conseq]\n",
    "        #print('freqSet:',freqSet)\n",
    "        #print('conseq:',conseq)\n",
    "        #print('freqSet-conseq',freqSet-conseq)\n",
    "        #print('conf:',conf)\n",
    "        if conf >= minConf:\n",
    "            #print(freqSet-conseq, '-->', conseq, 'conf:', conf)\n",
    "            brl.append((freqSet,freqSet-conseq, conseq,supportData[freqSet-conseq],supportData[freqSet],supportData[conseq]))\n",
    "            prunedH.append(conseq)\n",
    "    return prunedH\n",
    "\n",
    "def rulesFromConseq(freqSet, H, supportData, brl, minConf=0.7):\n",
    "    m = len(H[0])\n",
    "    #print('*'*10*m,'H[0]',H[0])\n",
    "    #print('H:',H)\n",
    "    if (len(freqSet) >(m+1)):\n",
    "        H = calcConf(freqSet, H, supportData, brl, minConf)\n",
    "        Hmp1 = aprioriGen(H, m+1)\n",
    "        #print('*'*20*m,Hmp1)\n",
    "        Hmp1 = calcConf(freqSet, Hmp1, supportData, brl, minConf)\n",
    "        #print('Hmp1=', Hmp1)\n",
    "        #print('len(Hmp1)=', len(Hmp1), 'len(freqSet)=', len(freqSet))\n",
    "        if (len(Hmp1) >= 1):\n",
    "            rulesFromConseq(freqSet, Hmp1, supportData, brl, minConf)\n",
    "\n",
    "# Generate Association rules\n",
    "def generateRules(L, supportData, minConf=0.7):\n",
    "    bigRuleList = []\n",
    "    for i in range(1, len(L)):\n",
    "        for freqSet in L[i]:#wont calculate with frequent item=1\n",
    "            H1 = [frozenset([item]) for item in freqSet]\n",
    "            #print('H1',H1)\n",
    "            if (i > 1):#if only has two items, no need to split the relation\n",
    "                rulesFromConseq(freqSet, H1, supportData, bigRuleList, minConf)\n",
    "            else:\n",
    "                calcConf(freqSet, H1, supportData, bigRuleList, minConf)\n",
    "            #print('-'*30)\n",
    "    return bigRuleList\n",
    "\n",
    "def printrules(rules,total):\n",
    "    C=['Frequent Itemset(AUB)','From(A)','To(B)','Confident Number(num of A)','Support Number(num of AUB)','Support Number(num of B)']\n",
    "    Ruletable=pd.DataFrame(rules)\n",
    "    Ruletable.columns=C\n",
    "    Ruletable['Confidence']=Ruletable['Support Number(num of AUB)']/Ruletable['Confident Number(num of A)']\n",
    "    Ruletable['Support']=Ruletable['Support Number(num of AUB)']/total\n",
    "    Ruletable['Lift']=Ruletable['Support Number(num of AUB)']/Ruletable['Support Number(num of B)']\n",
    "    return Ruletable\n",
    "\n",
    "def printsupport(S):\n",
    "    S_table=pd.DataFrame.from_dict(S,orient='index').reset_index()\n",
    "    S_table.columns=['itemset','support']\n",
    "    S_table\n",
    "    return S_table\n",
    "\n",
    "if __name__ == \"__main__\":\n",
    "    dataSet = [['I1','I2','I5'],['I2','I4'],['I2','I3'],['I1','I2','I4'],['I1','I3'],['I2','I3'],['I1','I3'],['I1','I2','I3','I5'],['I1','I2','I3']]\n",
    "    LI, S = apriori(dataSet, minSupport=1.9/9)\n",
    "    rules = generateRules(LI, S, minConf=0)\n",
    "    printrules(rules,len(dataSet))\n"
   ]
  },
  {
   "cell_type": "code",
   "execution_count": 13,
   "metadata": {},
   "outputs": [],
   "source": [
    "#step by step:\n",
    "dataSet = [['I1','I2','I5'],['I2','I4'],['I2','I3'],['I1','I2','I4'],['I1','I3'],['I2','I3'],['I1','I3'],['I1','I2','I3','I5'],['I1','I2','I3']]"
   ]
  },
  {
   "cell_type": "code",
   "execution_count": 56,
   "metadata": {},
   "outputs": [
    {
     "output_type": "execute_result",
     "data": {
      "text/plain": [
       "   Frequent Itemset(AUB)   From(A)     To(B)  Confident Number(num of A)  \\\n",
       "12          (I2, I1, I3)  (I1, I3)      (I2)                           4   \n",
       "1               (I1, I3)      (I1)      (I3)                           6   \n",
       "22          (I2, I1, I5)      (I1)  (I2, I5)                           6   \n",
       "21          (I2, I1, I5)      (I5)  (I2, I1)                           2   \n",
       "20          (I2, I1, I5)  (I2, I1)      (I5)                           4   \n",
       "19          (I2, I1, I5)  (I2, I5)      (I1)                           2   \n",
       "18          (I2, I1, I5)  (I1, I5)      (I2)                           2   \n",
       "17          (I2, I1, I3)      (I2)  (I1, I3)                           7   \n",
       "16          (I2, I1, I3)      (I1)  (I2, I3)                           6   \n",
       "15          (I2, I1, I3)      (I3)  (I2, I1)                           6   \n",
       "14          (I2, I1, I3)  (I2, I1)      (I3)                           4   \n",
       "13          (I2, I1, I3)  (I2, I3)      (I1)                           4   \n",
       "0               (I1, I3)      (I3)      (I1)                           6   \n",
       "11              (I2, I5)      (I2)      (I5)                           7   \n",
       "10              (I2, I5)      (I5)      (I2)                           2   \n",
       "9               (I1, I5)      (I1)      (I5)                           6   \n",
       "8               (I1, I5)      (I5)      (I1)                           2   \n",
       "7               (I2, I1)      (I2)      (I1)                           7   \n",
       "6               (I2, I1)      (I1)      (I2)                           6   \n",
       "5               (I2, I4)      (I2)      (I4)                           7   \n",
       "4               (I2, I4)      (I4)      (I2)                           2   \n",
       "3               (I2, I3)      (I2)      (I3)                           7   \n",
       "2               (I2, I3)      (I3)      (I2)                           6   \n",
       "23          (I2, I1, I5)      (I2)  (I1, I5)                           7   \n",
       "\n",
       "    Support Number(num of AUB)  Support Number(num of B)  Confidence  \\\n",
       "12                           2                         7    0.500000   \n",
       "1                            4                         6    0.666667   \n",
       "22                           2                         2    0.333333   \n",
       "21                           2                         4    1.000000   \n",
       "20                           2                         2    0.500000   \n",
       "19                           2                         6    1.000000   \n",
       "18                           2                         7    1.000000   \n",
       "17                           2                         4    0.285714   \n",
       "16                           2                         4    0.333333   \n",
       "15                           2                         4    0.333333   \n",
       "14                           2                         6    0.500000   \n",
       "13                           2                         6    0.500000   \n",
       "0                            4                         6    0.666667   \n",
       "11                           2                         2    0.285714   \n",
       "10                           2                         7    1.000000   \n",
       "9                            2                         2    0.333333   \n",
       "8                            2                         6    1.000000   \n",
       "7                            4                         6    0.571429   \n",
       "6                            4                         7    0.666667   \n",
       "5                            2                         2    0.285714   \n",
       "4                            2                         7    1.000000   \n",
       "3                            4                         6    0.571429   \n",
       "2                            4                         7    0.666667   \n",
       "23                           2                         2    0.285714   \n",
       "\n",
       "     Support      Lift  \n",
       "12  0.222222  0.285714  \n",
       "1   0.444444  0.666667  \n",
       "22  0.222222  1.000000  \n",
       "21  0.222222  0.500000  \n",
       "20  0.222222  1.000000  \n",
       "19  0.222222  0.333333  \n",
       "18  0.222222  0.285714  \n",
       "17  0.222222  0.500000  \n",
       "16  0.222222  0.500000  \n",
       "15  0.222222  0.500000  \n",
       "14  0.222222  0.333333  \n",
       "13  0.222222  0.333333  \n",
       "0   0.444444  0.666667  \n",
       "11  0.222222  1.000000  \n",
       "10  0.222222  0.285714  \n",
       "9   0.222222  1.000000  \n",
       "8   0.222222  0.333333  \n",
       "7   0.444444  0.666667  \n",
       "6   0.444444  0.571429  \n",
       "5   0.222222  1.000000  \n",
       "4   0.222222  0.285714  \n",
       "3   0.444444  0.666667  \n",
       "2   0.444444  0.571429  \n",
       "23  0.222222  1.000000  "
      ],
      "text/html": "<div>\n<style scoped>\n    .dataframe tbody tr th:only-of-type {\n        vertical-align: middle;\n    }\n\n    .dataframe tbody tr th {\n        vertical-align: top;\n    }\n\n    .dataframe thead th {\n        text-align: right;\n    }\n</style>\n<table border=\"1\" class=\"dataframe\">\n  <thead>\n    <tr style=\"text-align: right;\">\n      <th></th>\n      <th>Frequent Itemset(AUB)</th>\n      <th>From(A)</th>\n      <th>To(B)</th>\n      <th>Confident Number(num of A)</th>\n      <th>Support Number(num of AUB)</th>\n      <th>Support Number(num of B)</th>\n      <th>Confidence</th>\n      <th>Support</th>\n      <th>Lift</th>\n    </tr>\n  </thead>\n  <tbody>\n    <tr>\n      <th>12</th>\n      <td>(I2, I1, I3)</td>\n      <td>(I1, I3)</td>\n      <td>(I2)</td>\n      <td>4</td>\n      <td>2</td>\n      <td>7</td>\n      <td>0.500000</td>\n      <td>0.222222</td>\n      <td>0.285714</td>\n    </tr>\n    <tr>\n      <th>1</th>\n      <td>(I1, I3)</td>\n      <td>(I1)</td>\n      <td>(I3)</td>\n      <td>6</td>\n      <td>4</td>\n      <td>6</td>\n      <td>0.666667</td>\n      <td>0.444444</td>\n      <td>0.666667</td>\n    </tr>\n    <tr>\n      <th>22</th>\n      <td>(I2, I1, I5)</td>\n      <td>(I1)</td>\n      <td>(I2, I5)</td>\n      <td>6</td>\n      <td>2</td>\n      <td>2</td>\n      <td>0.333333</td>\n      <td>0.222222</td>\n      <td>1.000000</td>\n    </tr>\n    <tr>\n      <th>21</th>\n      <td>(I2, I1, I5)</td>\n      <td>(I5)</td>\n      <td>(I2, I1)</td>\n      <td>2</td>\n      <td>2</td>\n      <td>4</td>\n      <td>1.000000</td>\n      <td>0.222222</td>\n      <td>0.500000</td>\n    </tr>\n    <tr>\n      <th>20</th>\n      <td>(I2, I1, I5)</td>\n      <td>(I2, I1)</td>\n      <td>(I5)</td>\n      <td>4</td>\n      <td>2</td>\n      <td>2</td>\n      <td>0.500000</td>\n      <td>0.222222</td>\n      <td>1.000000</td>\n    </tr>\n    <tr>\n      <th>19</th>\n      <td>(I2, I1, I5)</td>\n      <td>(I2, I5)</td>\n      <td>(I1)</td>\n      <td>2</td>\n      <td>2</td>\n      <td>6</td>\n      <td>1.000000</td>\n      <td>0.222222</td>\n      <td>0.333333</td>\n    </tr>\n    <tr>\n      <th>18</th>\n      <td>(I2, I1, I5)</td>\n      <td>(I1, I5)</td>\n      <td>(I2)</td>\n      <td>2</td>\n      <td>2</td>\n      <td>7</td>\n      <td>1.000000</td>\n      <td>0.222222</td>\n      <td>0.285714</td>\n    </tr>\n    <tr>\n      <th>17</th>\n      <td>(I2, I1, I3)</td>\n      <td>(I2)</td>\n      <td>(I1, I3)</td>\n      <td>7</td>\n      <td>2</td>\n      <td>4</td>\n      <td>0.285714</td>\n      <td>0.222222</td>\n      <td>0.500000</td>\n    </tr>\n    <tr>\n      <th>16</th>\n      <td>(I2, I1, I3)</td>\n      <td>(I1)</td>\n      <td>(I2, I3)</td>\n      <td>6</td>\n      <td>2</td>\n      <td>4</td>\n      <td>0.333333</td>\n      <td>0.222222</td>\n      <td>0.500000</td>\n    </tr>\n    <tr>\n      <th>15</th>\n      <td>(I2, I1, I3)</td>\n      <td>(I3)</td>\n      <td>(I2, I1)</td>\n      <td>6</td>\n      <td>2</td>\n      <td>4</td>\n      <td>0.333333</td>\n      <td>0.222222</td>\n      <td>0.500000</td>\n    </tr>\n    <tr>\n      <th>14</th>\n      <td>(I2, I1, I3)</td>\n      <td>(I2, I1)</td>\n      <td>(I3)</td>\n      <td>4</td>\n      <td>2</td>\n      <td>6</td>\n      <td>0.500000</td>\n      <td>0.222222</td>\n      <td>0.333333</td>\n    </tr>\n    <tr>\n      <th>13</th>\n      <td>(I2, I1, I3)</td>\n      <td>(I2, I3)</td>\n      <td>(I1)</td>\n      <td>4</td>\n      <td>2</td>\n      <td>6</td>\n      <td>0.500000</td>\n      <td>0.222222</td>\n      <td>0.333333</td>\n    </tr>\n    <tr>\n      <th>0</th>\n      <td>(I1, I3)</td>\n      <td>(I3)</td>\n      <td>(I1)</td>\n      <td>6</td>\n      <td>4</td>\n      <td>6</td>\n      <td>0.666667</td>\n      <td>0.444444</td>\n      <td>0.666667</td>\n    </tr>\n    <tr>\n      <th>11</th>\n      <td>(I2, I5)</td>\n      <td>(I2)</td>\n      <td>(I5)</td>\n      <td>7</td>\n      <td>2</td>\n      <td>2</td>\n      <td>0.285714</td>\n      <td>0.222222</td>\n      <td>1.000000</td>\n    </tr>\n    <tr>\n      <th>10</th>\n      <td>(I2, I5)</td>\n      <td>(I5)</td>\n      <td>(I2)</td>\n      <td>2</td>\n      <td>2</td>\n      <td>7</td>\n      <td>1.000000</td>\n      <td>0.222222</td>\n      <td>0.285714</td>\n    </tr>\n    <tr>\n      <th>9</th>\n      <td>(I1, I5)</td>\n      <td>(I1)</td>\n      <td>(I5)</td>\n      <td>6</td>\n      <td>2</td>\n      <td>2</td>\n      <td>0.333333</td>\n      <td>0.222222</td>\n      <td>1.000000</td>\n    </tr>\n    <tr>\n      <th>8</th>\n      <td>(I1, I5)</td>\n      <td>(I5)</td>\n      <td>(I1)</td>\n      <td>2</td>\n      <td>2</td>\n      <td>6</td>\n      <td>1.000000</td>\n      <td>0.222222</td>\n      <td>0.333333</td>\n    </tr>\n    <tr>\n      <th>7</th>\n      <td>(I2, I1)</td>\n      <td>(I2)</td>\n      <td>(I1)</td>\n      <td>7</td>\n      <td>4</td>\n      <td>6</td>\n      <td>0.571429</td>\n      <td>0.444444</td>\n      <td>0.666667</td>\n    </tr>\n    <tr>\n      <th>6</th>\n      <td>(I2, I1)</td>\n      <td>(I1)</td>\n      <td>(I2)</td>\n      <td>6</td>\n      <td>4</td>\n      <td>7</td>\n      <td>0.666667</td>\n      <td>0.444444</td>\n      <td>0.571429</td>\n    </tr>\n    <tr>\n      <th>5</th>\n      <td>(I2, I4)</td>\n      <td>(I2)</td>\n      <td>(I4)</td>\n      <td>7</td>\n      <td>2</td>\n      <td>2</td>\n      <td>0.285714</td>\n      <td>0.222222</td>\n      <td>1.000000</td>\n    </tr>\n    <tr>\n      <th>4</th>\n      <td>(I2, I4)</td>\n      <td>(I4)</td>\n      <td>(I2)</td>\n      <td>2</td>\n      <td>2</td>\n      <td>7</td>\n      <td>1.000000</td>\n      <td>0.222222</td>\n      <td>0.285714</td>\n    </tr>\n    <tr>\n      <th>3</th>\n      <td>(I2, I3)</td>\n      <td>(I2)</td>\n      <td>(I3)</td>\n      <td>7</td>\n      <td>4</td>\n      <td>6</td>\n      <td>0.571429</td>\n      <td>0.444444</td>\n      <td>0.666667</td>\n    </tr>\n    <tr>\n      <th>2</th>\n      <td>(I2, I3)</td>\n      <td>(I3)</td>\n      <td>(I2)</td>\n      <td>6</td>\n      <td>4</td>\n      <td>7</td>\n      <td>0.666667</td>\n      <td>0.444444</td>\n      <td>0.571429</td>\n    </tr>\n    <tr>\n      <th>23</th>\n      <td>(I2, I1, I5)</td>\n      <td>(I2)</td>\n      <td>(I1, I5)</td>\n      <td>7</td>\n      <td>2</td>\n      <td>2</td>\n      <td>0.285714</td>\n      <td>0.222222</td>\n      <td>1.000000</td>\n    </tr>\n  </tbody>\n</table>\n</div>"
     },
     "metadata": {},
     "execution_count": 56
    }
   ],
   "source": [
    "T=printrules(rules,len(dataSet))\n",
    "#T.sort_value()\n",
    "T.sort_values('Frequent Itemset(AUB)',ascending=False)"
   ]
  },
  {
   "cell_type": "code",
   "execution_count": 41,
   "metadata": {},
   "outputs": [
    {
     "output_type": "execute_result",
     "data": {
      "text/plain": [
       "   Confident number(num of A) From(A) To(B)\n",
       "0                           6    (I3)  (I1)\n",
       "1                           6    (I1)  (I3)\n",
       "2                           6    (I3)  (I2)\n",
       "3                           7    (I2)  (I3)\n",
       "4                           2    (I4)  (I2)"
      ],
      "text/html": "<div>\n<style scoped>\n    .dataframe tbody tr th:only-of-type {\n        vertical-align: middle;\n    }\n\n    .dataframe tbody tr th {\n        vertical-align: top;\n    }\n\n    .dataframe thead th {\n        text-align: right;\n    }\n</style>\n<table border=\"1\" class=\"dataframe\">\n  <thead>\n    <tr style=\"text-align: right;\">\n      <th></th>\n      <th>Confident number(num of A)</th>\n      <th>From(A)</th>\n      <th>To(B)</th>\n    </tr>\n  </thead>\n  <tbody>\n    <tr>\n      <th>0</th>\n      <td>6</td>\n      <td>(I3)</td>\n      <td>(I1)</td>\n    </tr>\n    <tr>\n      <th>1</th>\n      <td>6</td>\n      <td>(I1)</td>\n      <td>(I3)</td>\n    </tr>\n    <tr>\n      <th>2</th>\n      <td>6</td>\n      <td>(I3)</td>\n      <td>(I2)</td>\n    </tr>\n    <tr>\n      <th>3</th>\n      <td>7</td>\n      <td>(I2)</td>\n      <td>(I3)</td>\n    </tr>\n    <tr>\n      <th>4</th>\n      <td>2</td>\n      <td>(I4)</td>\n      <td>(I2)</td>\n    </tr>\n  </tbody>\n</table>\n</div>"
     },
     "metadata": {},
     "execution_count": 41
    }
   ],
   "source": [
    "SelectT=T[['Confident number(num of A)','From(A)','To(B)']]\n",
    "SelectT.head()\n"
   ]
  },
  {
   "cell_type": "code",
   "execution_count": 46,
   "metadata": {},
   "outputs": [
    {
     "output_type": "stream",
     "name": "stdout",
     "text": [
      "{frozenset({'I3'}): 6, frozenset({'I1'}): 6, frozenset({'I2'}): 7, frozenset({'I4'}): 2, frozenset({'I5'}): 2, frozenset({'I1', 'I3'}): 4, frozenset({'I2', 'I3'}): 4, frozenset({'I2', 'I1'}): 4, frozenset({'I1', 'I5'}): 2, frozenset({'I2', 'I5'}): 2} [6, 6, 7, 6, 7, 2, 7, 6, 6, 2, 7, 2, 7, 6, 6, 4, 4, 4, 7, 6, 2, 4, 2, 2]\n"
     ]
    }
   ],
   "source": [
    "setcounts={k:SelectT.loc[i,'Confident number(num of A)'] for i,k in enumerate(SelectT['From(A)'])}\n",
    "Bcounts=[setcounts[i] for i in SelectT['To(B)']]\n",
    "print(setcounts,Bcounts)"
   ]
  },
  {
   "cell_type": "code",
   "execution_count": 18,
   "metadata": {},
   "outputs": [
    {
     "output_type": "execute_result",
     "data": {
      "text/plain": [
       "         itemset  support\n",
       "0           (I1)        6\n",
       "1           (I2)        7\n",
       "2           (I5)        2\n",
       "3           (I4)        2\n",
       "4           (I3)        6\n",
       "5       (I5, I2)        2\n",
       "6       (I5, I1)        2\n",
       "7       (I1, I2)        4\n",
       "8       (I4, I2)        2\n",
       "9       (I3, I2)        4\n",
       "10      (I3, I1)        4\n",
       "11  (I5, I2, I1)        2\n",
       "12  (I3, I2, I1)        2"
      ],
      "text/html": "<div>\n<style scoped>\n    .dataframe tbody tr th:only-of-type {\n        vertical-align: middle;\n    }\n\n    .dataframe tbody tr th {\n        vertical-align: top;\n    }\n\n    .dataframe thead th {\n        text-align: right;\n    }\n</style>\n<table border=\"1\" class=\"dataframe\">\n  <thead>\n    <tr style=\"text-align: right;\">\n      <th></th>\n      <th>itemset</th>\n      <th>support</th>\n    </tr>\n  </thead>\n  <tbody>\n    <tr>\n      <th>0</th>\n      <td>(I1)</td>\n      <td>6</td>\n    </tr>\n    <tr>\n      <th>1</th>\n      <td>(I2)</td>\n      <td>7</td>\n    </tr>\n    <tr>\n      <th>2</th>\n      <td>(I5)</td>\n      <td>2</td>\n    </tr>\n    <tr>\n      <th>3</th>\n      <td>(I4)</td>\n      <td>2</td>\n    </tr>\n    <tr>\n      <th>4</th>\n      <td>(I3)</td>\n      <td>6</td>\n    </tr>\n    <tr>\n      <th>5</th>\n      <td>(I5, I2)</td>\n      <td>2</td>\n    </tr>\n    <tr>\n      <th>6</th>\n      <td>(I5, I1)</td>\n      <td>2</td>\n    </tr>\n    <tr>\n      <th>7</th>\n      <td>(I1, I2)</td>\n      <td>4</td>\n    </tr>\n    <tr>\n      <th>8</th>\n      <td>(I4, I2)</td>\n      <td>2</td>\n    </tr>\n    <tr>\n      <th>9</th>\n      <td>(I3, I2)</td>\n      <td>4</td>\n    </tr>\n    <tr>\n      <th>10</th>\n      <td>(I3, I1)</td>\n      <td>4</td>\n    </tr>\n    <tr>\n      <th>11</th>\n      <td>(I5, I2, I1)</td>\n      <td>2</td>\n    </tr>\n    <tr>\n      <th>12</th>\n      <td>(I3, I2, I1)</td>\n      <td>2</td>\n    </tr>\n  </tbody>\n</table>\n</div>"
     },
     "metadata": {},
     "execution_count": 18
    }
   ],
   "source": [
    "printsupport(S)"
   ]
  },
  {
   "cell_type": "code",
   "execution_count": 56,
   "metadata": {},
   "outputs": [
    {
     "output_type": "execute_result",
     "data": {
      "text/plain": [
       "   Frequent itemset  From        To  Confident number  Support Number  \\\n",
       "0          (I3, I1)  (I1)      (I3)          0.666667        0.444444   \n",
       "1          (I3, I1)  (I3)      (I1)          0.666667        0.444444   \n",
       "2          (I3, I2)  (I2)      (I3)          0.777778        0.444444   \n",
       "3          (I3, I2)  (I3)      (I2)          0.666667        0.444444   \n",
       "4          (I2, I4)  (I4)      (I2)          0.222222        0.222222   \n",
       "5          (I2, I4)  (I2)      (I4)          0.777778        0.222222   \n",
       "6          (I2, I1)  (I1)      (I2)          0.666667        0.444444   \n",
       "7          (I2, I1)  (I2)      (I1)          0.777778        0.444444   \n",
       "8          (I5, I1)  (I1)      (I5)          0.666667        0.222222   \n",
       "9          (I5, I1)  (I5)      (I1)          0.222222        0.222222   \n",
       "10         (I5, I2)  (I2)      (I5)          0.777778        0.222222   \n",
       "11         (I5, I2)  (I5)      (I2)          0.222222        0.222222   \n",
       "12     (I3, I2, I1)  (I1)  (I3, I2)          0.666667        0.222222   \n",
       "13     (I3, I2, I1)  (I2)  (I3, I1)          0.777778        0.222222   \n",
       "14     (I3, I2, I1)  (I3)  (I2, I1)          0.666667        0.222222   \n",
       "15     (I5, I2, I1)  (I1)  (I5, I2)          0.666667        0.222222   \n",
       "16     (I5, I2, I1)  (I2)  (I5, I1)          0.777778        0.222222   \n",
       "17     (I5, I2, I1)  (I5)  (I2, I1)          0.222222        0.222222   \n",
       "\n",
       "    Confidence  \n",
       "0     0.666667  \n",
       "1     0.666667  \n",
       "2     0.571429  \n",
       "3     0.666667  \n",
       "4     1.000000  \n",
       "5     0.285714  \n",
       "6     0.666667  \n",
       "7     0.571429  \n",
       "8     0.333333  \n",
       "9     1.000000  \n",
       "10    0.285714  \n",
       "11    1.000000  \n",
       "12    0.333333  \n",
       "13    0.285714  \n",
       "14    0.333333  \n",
       "15    0.333333  \n",
       "16    0.285714  \n",
       "17    1.000000  "
      ],
      "text/html": "<div>\n<style scoped>\n    .dataframe tbody tr th:only-of-type {\n        vertical-align: middle;\n    }\n\n    .dataframe tbody tr th {\n        vertical-align: top;\n    }\n\n    .dataframe thead th {\n        text-align: right;\n    }\n</style>\n<table border=\"1\" class=\"dataframe\">\n  <thead>\n    <tr style=\"text-align: right;\">\n      <th></th>\n      <th>Frequent itemset</th>\n      <th>From</th>\n      <th>To</th>\n      <th>Confident number</th>\n      <th>Support Number</th>\n      <th>Confidence</th>\n    </tr>\n  </thead>\n  <tbody>\n    <tr>\n      <th>0</th>\n      <td>(I3, I1)</td>\n      <td>(I1)</td>\n      <td>(I3)</td>\n      <td>0.666667</td>\n      <td>0.444444</td>\n      <td>0.666667</td>\n    </tr>\n    <tr>\n      <th>1</th>\n      <td>(I3, I1)</td>\n      <td>(I3)</td>\n      <td>(I1)</td>\n      <td>0.666667</td>\n      <td>0.444444</td>\n      <td>0.666667</td>\n    </tr>\n    <tr>\n      <th>2</th>\n      <td>(I3, I2)</td>\n      <td>(I2)</td>\n      <td>(I3)</td>\n      <td>0.777778</td>\n      <td>0.444444</td>\n      <td>0.571429</td>\n    </tr>\n    <tr>\n      <th>3</th>\n      <td>(I3, I2)</td>\n      <td>(I3)</td>\n      <td>(I2)</td>\n      <td>0.666667</td>\n      <td>0.444444</td>\n      <td>0.666667</td>\n    </tr>\n    <tr>\n      <th>4</th>\n      <td>(I2, I4)</td>\n      <td>(I4)</td>\n      <td>(I2)</td>\n      <td>0.222222</td>\n      <td>0.222222</td>\n      <td>1.000000</td>\n    </tr>\n    <tr>\n      <th>5</th>\n      <td>(I2, I4)</td>\n      <td>(I2)</td>\n      <td>(I4)</td>\n      <td>0.777778</td>\n      <td>0.222222</td>\n      <td>0.285714</td>\n    </tr>\n    <tr>\n      <th>6</th>\n      <td>(I2, I1)</td>\n      <td>(I1)</td>\n      <td>(I2)</td>\n      <td>0.666667</td>\n      <td>0.444444</td>\n      <td>0.666667</td>\n    </tr>\n    <tr>\n      <th>7</th>\n      <td>(I2, I1)</td>\n      <td>(I2)</td>\n      <td>(I1)</td>\n      <td>0.777778</td>\n      <td>0.444444</td>\n      <td>0.571429</td>\n    </tr>\n    <tr>\n      <th>8</th>\n      <td>(I5, I1)</td>\n      <td>(I1)</td>\n      <td>(I5)</td>\n      <td>0.666667</td>\n      <td>0.222222</td>\n      <td>0.333333</td>\n    </tr>\n    <tr>\n      <th>9</th>\n      <td>(I5, I1)</td>\n      <td>(I5)</td>\n      <td>(I1)</td>\n      <td>0.222222</td>\n      <td>0.222222</td>\n      <td>1.000000</td>\n    </tr>\n    <tr>\n      <th>10</th>\n      <td>(I5, I2)</td>\n      <td>(I2)</td>\n      <td>(I5)</td>\n      <td>0.777778</td>\n      <td>0.222222</td>\n      <td>0.285714</td>\n    </tr>\n    <tr>\n      <th>11</th>\n      <td>(I5, I2)</td>\n      <td>(I5)</td>\n      <td>(I2)</td>\n      <td>0.222222</td>\n      <td>0.222222</td>\n      <td>1.000000</td>\n    </tr>\n    <tr>\n      <th>12</th>\n      <td>(I3, I2, I1)</td>\n      <td>(I1)</td>\n      <td>(I3, I2)</td>\n      <td>0.666667</td>\n      <td>0.222222</td>\n      <td>0.333333</td>\n    </tr>\n    <tr>\n      <th>13</th>\n      <td>(I3, I2, I1)</td>\n      <td>(I2)</td>\n      <td>(I3, I1)</td>\n      <td>0.777778</td>\n      <td>0.222222</td>\n      <td>0.285714</td>\n    </tr>\n    <tr>\n      <th>14</th>\n      <td>(I3, I2, I1)</td>\n      <td>(I3)</td>\n      <td>(I2, I1)</td>\n      <td>0.666667</td>\n      <td>0.222222</td>\n      <td>0.333333</td>\n    </tr>\n    <tr>\n      <th>15</th>\n      <td>(I5, I2, I1)</td>\n      <td>(I1)</td>\n      <td>(I5, I2)</td>\n      <td>0.666667</td>\n      <td>0.222222</td>\n      <td>0.333333</td>\n    </tr>\n    <tr>\n      <th>16</th>\n      <td>(I5, I2, I1)</td>\n      <td>(I2)</td>\n      <td>(I5, I1)</td>\n      <td>0.777778</td>\n      <td>0.222222</td>\n      <td>0.285714</td>\n    </tr>\n    <tr>\n      <th>17</th>\n      <td>(I5, I2, I1)</td>\n      <td>(I5)</td>\n      <td>(I2, I1)</td>\n      <td>0.222222</td>\n      <td>0.222222</td>\n      <td>1.000000</td>\n    </tr>\n  </tbody>\n</table>\n</div>"
     },
     "metadata": {},
     "execution_count": 56
    }
   ],
   "source": [
    "C=['Frequent itemset','From','To','Confident number','Support Number']\n",
    "Ruletable=pd.DataFrame(rules)\n",
    "Ruletable.columns=C\n",
    "Ruletable['Confidence']=Ruletable['Support Number']/Ruletable['Confident number']\n",
    "Ruletable"
   ]
  },
  {
   "cell_type": "code",
   "execution_count": 25,
   "metadata": {},
   "outputs": [
    {
     "output_type": "stream",
     "name": "stdout",
     "text": [
      "frozenset({'I3'})\nfrozenset({'I4'})\nfrozenset({'I5'})\nfrozenset({'I2'})\nfrozenset({'I1'})\nfrozenset({'I3', 'I1'})\nfrozenset({'I3', 'I2'})\nfrozenset({'I2', 'I4'})\nfrozenset({'I2', 'I1'})\nfrozenset({'I5', 'I1'})\nfrozenset({'I5', 'I2'})\nfrozenset({'I3', 'I2', 'I1'})\nfrozenset({'I5', 'I2', 'I1'})\n13\n"
     ]
    }
   ],
   "source": [
    "#print(LI)\n",
    "\n",
    "c=0\n",
    "for i in LI:\n",
    "    for ii in i:\n",
    "        c+=1\n",
    "        print(ii)\n",
    "print(c)"
   ]
  },
  {
   "cell_type": "code",
   "execution_count": 10,
   "metadata": {},
   "outputs": [
    {
     "output_type": "execute_result",
     "data": {
      "text/plain": [
       "           index    0\n",
       "0           (I1)  6.0\n",
       "1           (I2)  7.0\n",
       "2           (I5)  2.0\n",
       "3           (I4)  2.0\n",
       "4           (I3)  6.0\n",
       "5       (I5, I2)  2.0\n",
       "6       (I5, I1)  2.0\n",
       "7       (I2, I1)  4.0\n",
       "8       (I2, I4)  2.0\n",
       "9       (I3, I2)  4.0\n",
       "10      (I3, I1)  4.0\n",
       "11  (I5, I2, I1)  2.0\n",
       "12  (I3, I2, I1)  2.0"
      ],
      "text/html": "<div>\n<style scoped>\n    .dataframe tbody tr th:only-of-type {\n        vertical-align: middle;\n    }\n\n    .dataframe tbody tr th {\n        vertical-align: top;\n    }\n\n    .dataframe thead th {\n        text-align: right;\n    }\n</style>\n<table border=\"1\" class=\"dataframe\">\n  <thead>\n    <tr style=\"text-align: right;\">\n      <th></th>\n      <th>index</th>\n      <th>0</th>\n    </tr>\n  </thead>\n  <tbody>\n    <tr>\n      <th>0</th>\n      <td>(I1)</td>\n      <td>6.0</td>\n    </tr>\n    <tr>\n      <th>1</th>\n      <td>(I2)</td>\n      <td>7.0</td>\n    </tr>\n    <tr>\n      <th>2</th>\n      <td>(I5)</td>\n      <td>2.0</td>\n    </tr>\n    <tr>\n      <th>3</th>\n      <td>(I4)</td>\n      <td>2.0</td>\n    </tr>\n    <tr>\n      <th>4</th>\n      <td>(I3)</td>\n      <td>6.0</td>\n    </tr>\n    <tr>\n      <th>5</th>\n      <td>(I5, I2)</td>\n      <td>2.0</td>\n    </tr>\n    <tr>\n      <th>6</th>\n      <td>(I5, I1)</td>\n      <td>2.0</td>\n    </tr>\n    <tr>\n      <th>7</th>\n      <td>(I2, I1)</td>\n      <td>4.0</td>\n    </tr>\n    <tr>\n      <th>8</th>\n      <td>(I2, I4)</td>\n      <td>2.0</td>\n    </tr>\n    <tr>\n      <th>9</th>\n      <td>(I3, I2)</td>\n      <td>4.0</td>\n    </tr>\n    <tr>\n      <th>10</th>\n      <td>(I3, I1)</td>\n      <td>4.0</td>\n    </tr>\n    <tr>\n      <th>11</th>\n      <td>(I5, I2, I1)</td>\n      <td>2.0</td>\n    </tr>\n    <tr>\n      <th>12</th>\n      <td>(I3, I2, I1)</td>\n      <td>2.0</td>\n    </tr>\n  </tbody>\n</table>\n</div>"
     },
     "metadata": {},
     "execution_count": 10
    }
   ],
   "source": [
    "with_S=pd.DataFrame(S.values(),S.keys()).reset_index()\n",
    "with_S[0]=with_S[0]*len(dataSet)\n",
    "with_S\n"
   ]
  },
  {
   "cell_type": "code",
   "execution_count": null,
   "metadata": {},
   "outputs": [],
   "source": []
  }
 ]
}